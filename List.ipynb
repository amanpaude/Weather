{
 "cells": [
  {
   "cell_type": "markdown",
   "id": "4d01b8ce-e446-4199-8171-8a5d3d90b3be",
   "metadata": {},
   "source": [
    "# List"
   ]
  },
  {
   "cell_type": "markdown",
   "id": "515f60e1-e797-4a94-8852-16352cabad85",
   "metadata": {},
   "source": [
    "$List item are odered, changable and allow duplicate values$"
   ]
  },
  {
   "cell_type": "code",
   "execution_count": 5,
   "id": "8fc8b0c7-c4ef-4d8b-bc4c-067f840487d9",
   "metadata": {},
   "outputs": [
    {
     "name": "stdout",
     "output_type": "stream",
     "text": [
      "3\n"
     ]
    }
   ],
   "source": [
    "list1=['aman','nirmal','vishan']\n",
    "print(len(list1))"
   ]
  },
  {
   "cell_type": "code",
   "execution_count": 7,
   "id": "f49d79c3-e71f-46b4-a6e1-1da1281e1c09",
   "metadata": {},
   "outputs": [
    {
     "name": "stdout",
     "output_type": "stream",
     "text": [
      "<class 'list'>\n"
     ]
    }
   ],
   "source": [
    "print(type(list1))"
   ]
  },
  {
   "cell_type": "code",
   "execution_count": 9,
   "id": "d1bba72d-b3be-497f-8df8-e5a9fef7611c",
   "metadata": {},
   "outputs": [
    {
     "name": "stdout",
     "output_type": "stream",
     "text": [
      "['aman', 'vashd', 'hjds']\n"
     ]
    }
   ],
   "source": [
    "const =list(('aman','vashd','hjds'))\n",
    "print(const)"
   ]
  },
  {
   "cell_type": "code",
   "execution_count": 11,
   "id": "74fa7113-10cb-4f9e-bf6d-cc3d131676b3",
   "metadata": {},
   "outputs": [
    {
     "name": "stdout",
     "output_type": "stream",
     "text": [
      "vishan\n"
     ]
    }
   ],
   "source": [
    "print(list1[2])"
   ]
  },
  {
   "cell_type": "code",
   "execution_count": 21,
   "id": "fed9e8b9-5b9c-4746-b0df-68da9b3f644d",
   "metadata": {},
   "outputs": [
    {
     "name": "stdout",
     "output_type": "stream",
     "text": [
      "['aman', 'nirmal']\n"
     ]
    }
   ],
   "source": [
    "print(list1[0:2])"
   ]
  },
  {
   "cell_type": "markdown",
   "id": "5aa5721f-47a0-4ac4-add9-5b40cd999cd3",
   "metadata": {},
   "source": [
    "- Range of indexes"
   ]
  },
  {
   "cell_type": "code",
   "execution_count": 23,
   "id": "d7e27b09-97ff-49d6-90ad-0e072708849a",
   "metadata": {},
   "outputs": [
    {
     "name": "stdout",
     "output_type": "stream",
     "text": [
      "['cherry', 'orange', 'kiwi']\n"
     ]
    }
   ],
   "source": [
    "thislist = [\"apple\", \"banana\", \"cherry\", \"orange\", \"kiwi\", \"melon\", \"mango\"]\n",
    "print(thislist[2:5])"
   ]
  },
  {
   "cell_type": "code",
   "execution_count": null,
   "id": "8672cbfd-b72a-44d9-8eeb-ecd3d4513411",
   "metadata": {},
   "outputs": [],
   "source": []
  },
  {
   "cell_type": "markdown",
   "id": "82cbc565-5778-41f8-9484-dddafee75d04",
   "metadata": {},
   "source": [
    "$Check if Item Exists$"
   ]
  },
  {
   "cell_type": "code",
   "execution_count": 29,
   "id": "ec43ce1d-e5aa-4616-8d19-a3fe1103630e",
   "metadata": {},
   "outputs": [
    {
     "name": "stdout",
     "output_type": "stream",
     "text": [
      "Yoooo enjoy your apple\n"
     ]
    }
   ],
   "source": [
    "if 'apple' in thislist:\n",
    "    print('Yoooo enjoy your apple')\n",
    "\n",
    "else: \n",
    "    print('get lost')"
   ]
  },
  {
   "cell_type": "markdown",
   "id": "ad5efef6-fe1d-45a1-879a-0e7064798295",
   "metadata": {},
   "source": [
    "## Change Item Value ##\n"
   ]
  },
  {
   "cell_type": "code",
   "execution_count": 37,
   "id": "b98722dc-1769-41ff-a7bb-f7fd33982362",
   "metadata": {},
   "outputs": [
    {
     "name": "stdout",
     "output_type": "stream",
     "text": [
      "['apple', 'banana', 'aman']\n"
     ]
    }
   ],
   "source": [
    "thislist = [\"apple\", \"banana\", \"cherry\"]\n",
    "thislist[2]='aman'\n",
    "print(thislist)"
   ]
  },
  {
   "cell_type": "code",
   "execution_count": null,
   "id": "9a3b0de4-ad4d-45ab-a14f-185d176d6359",
   "metadata": {},
   "outputs": [],
   "source": [
    "thislist=['aman','paudel','happy'"
   ]
  },
  {
   "cell_type": "markdown",
   "id": "c9c60ba6-6fa6-4491-8569-c0f4c3474bc1",
   "metadata": {},
   "source": [
    "## For removing list item ##"
   ]
  },
  {
   "cell_type": "markdown",
   "id": "90da3239-594b-43d5-8f51-9f5187aa6299",
   "metadata": {},
   "source": [
    "- We can use the remove() method to remove the specific item"
   ]
  },
  {
   "cell_type": "code",
   "execution_count": 13,
   "id": "03e1bcec-464e-4fad-b278-a5e5d9750526",
   "metadata": {},
   "outputs": [
    {
     "name": "stdout",
     "output_type": "stream",
     "text": [
      "['apple', 'mango']\n"
     ]
    }
   ],
   "source": [
    "fruits=['apple', 'banana', 'mango']\n",
    "fruits.remove('banana')\n",
    "print(fruits)"
   ]
  },
  {
   "cell_type": "markdown",
   "id": "160fdf3d-142c-4fb4-97f6-64b1b7e99796",
   "metadata": {},
   "source": [
    "## Pop method is used to remove the specific index##"
   ]
  },
  {
   "cell_type": "code",
   "execution_count": 22,
   "id": "29adfc2f-ee43-48f2-a9cc-619a9e5fed60",
   "metadata": {},
   "outputs": [
    {
     "name": "stdout",
     "output_type": "stream",
     "text": [
      "['apple', 'mango']\n"
     ]
    }
   ],
   "source": [
    "fruits=['apple', 'banana', 'mango']\n",
    "fruits.pop(1)\n",
    "print(fruits)"
   ]
  },
  {
   "cell_type": "markdown",
   "id": "a3132e64-6595-4432-8ecf-b9c9297fea61",
   "metadata": {},
   "source": [
    "$$ pop() remove the last index of the list $$"
   ]
  },
  {
   "cell_type": "code",
   "execution_count": 27,
   "id": "17ea651c-40b3-4472-8af7-ce354f68286e",
   "metadata": {},
   "outputs": [
    {
     "ename": "NameError",
     "evalue": "name 'fruits' is not defined",
     "output_type": "error",
     "traceback": [
      "\u001b[1;31m---------------------------------------------------------------------------\u001b[0m",
      "\u001b[1;31mNameError\u001b[0m                                 Traceback (most recent call last)",
      "Cell \u001b[1;32mIn[27], line 3\u001b[0m\n\u001b[0;32m      1\u001b[0m fruits\u001b[38;5;241m=\u001b[39m[\u001b[38;5;124m'\u001b[39m\u001b[38;5;124mapple\u001b[39m\u001b[38;5;124m'\u001b[39m, \u001b[38;5;124m'\u001b[39m\u001b[38;5;124mbanana\u001b[39m\u001b[38;5;124m'\u001b[39m, \u001b[38;5;124m'\u001b[39m\u001b[38;5;124mmango\u001b[39m\u001b[38;5;124m'\u001b[39m]\n\u001b[0;32m      2\u001b[0m \u001b[38;5;28;01mdel\u001b[39;00m fruits\n\u001b[1;32m----> 3\u001b[0m \u001b[38;5;28mprint\u001b[39m(fruits)\n",
      "\u001b[1;31mNameError\u001b[0m: name 'fruits' is not defined"
     ]
    }
   ],
   "source": [
    "fruits=['apple', 'banana', 'mango']\n",
    "del fruits\n",
    "print(fruits)"
   ]
  },
  {
   "cell_type": "code",
   "execution_count": 29,
   "id": "b494b223-f1e1-4b07-905c-fe6b069335e7",
   "metadata": {},
   "outputs": [
    {
     "name": "stdout",
     "output_type": "stream",
     "text": [
      "[]\n"
     ]
    }
   ],
   "source": [
    "fruits=['apple', 'banana', 'mango']\n",
    "fruits.clear()\n",
    "print(fruits)"
   ]
  },
  {
   "cell_type": "markdown",
   "id": "1e3e8b5a-dffd-4a58-8267-f35be398c49a",
   "metadata": {},
   "source": [
    "## loop list ##"
   ]
  },
  {
   "cell_type": "code",
   "execution_count": 34,
   "id": "0453a8e3-15b3-46c6-a012-ef44f80a13bc",
   "metadata": {},
   "outputs": [
    {
     "name": "stdout",
     "output_type": "stream",
     "text": [
      "apple\n",
      "banana\n",
      "mango\n"
     ]
    }
   ],
   "source": [
    "fruits=['apple', 'banana', 'mango']\n",
    "for x in fruits:\n",
    "    print(x)"
   ]
  },
  {
   "cell_type": "code",
   "execution_count": 40,
   "id": "21a432ba-b60a-4f89-bc73-589c16554721",
   "metadata": {},
   "outputs": [
    {
     "name": "stdout",
     "output_type": "stream",
     "text": [
      "apple\n",
      "banana\n",
      "mango\n"
     ]
    }
   ],
   "source": [
    "fruits=['apple', 'banana', 'mango']\n",
    "for x in range(len(fruits)):\n",
    "    print(fruits[x])\n"
   ]
  },
  {
   "cell_type": "markdown",
   "id": "ff7e6478-21a8-40d1-8ec9-18bf5a3463a1",
   "metadata": {},
   "source": [
    "$ while loop $"
   ]
  },
  {
   "cell_type": "code",
   "execution_count": 48,
   "id": "319b31be-2ce3-44bd-a891-86180fbb3340",
   "metadata": {},
   "outputs": [
    {
     "name": "stdout",
     "output_type": "stream",
     "text": [
      "apple\n",
      "banana\n",
      "mango\n"
     ]
    }
   ],
   "source": [
    "fruits=['apple', 'banana', 'mango']\n",
    "i =0\n",
    "while i<len(fruits):\n",
    "    print(fruits[i])\n",
    "    i=i+1\n",
    "\n",
    "\n",
    "\n",
    "\n",
    "\n",
    "          "
   ]
  },
  {
   "cell_type": "markdown",
   "id": "dd368b47-d4b6-4d6b-a18d-5a68a9434641",
   "metadata": {},
   "source": [
    "$ List comprehension $\n",
    "- List comprehension offers a shorter syntax when you want to create a new list based on the values of an existing list."
   ]
  },
  {
   "cell_type": "code",
   "execution_count": 58,
   "id": "26902df4-f4fa-4fa3-95e8-4353ad500a7a",
   "metadata": {},
   "outputs": [
    {
     "name": "stdout",
     "output_type": "stream",
     "text": [
      "['apple', 'banana', 'mango']\n"
     ]
    }
   ],
   "source": [
    "fruits=['apple', 'banana', 'mango' ,'cherry', 'kiwi']\n",
    "vov =[]\n",
    "for x in fruits:\n",
    "    if 'a' in x:\n",
    "        vov.append(x)\n",
    "\n",
    "print(vov)\n"
   ]
  },
  {
   "cell_type": "code",
   "execution_count": 68,
   "id": "f3bb635c-9001-4e8a-bc06-e576d7d7bbb7",
   "metadata": {},
   "outputs": [
    {
     "name": "stdout",
     "output_type": "stream",
     "text": [
      "['apple', 'banana', 'mango']\n"
     ]
    }
   ],
   "source": [
    "fruits=['apple', 'banana', 'mango' ,'cherry', 'kiwi']\n",
    "new = [ x for x in fruits if 'a' in x]\n",
    "print(new)"
   ]
  },
  {
   "cell_type": "code",
   "execution_count": 76,
   "id": "8626dbb7-273b-4f36-a1f7-53b17cc8c1a5",
   "metadata": {},
   "outputs": [
    {
     "name": "stdout",
     "output_type": "stream",
     "text": [
      "[0, 1, 2, 3, 4, 5, 6, 7, 8, 9]\n"
     ]
    }
   ],
   "source": [
    "aman = [x for x in range(10)]\n",
    "print(aman)"
   ]
  },
  {
   "cell_type": "code",
   "execution_count": 80,
   "id": "74b79ff8-4749-4358-be02-6a27d40e5251",
   "metadata": {},
   "outputs": [
    {
     "name": "stdout",
     "output_type": "stream",
     "text": [
      "['APPLE', 'BANANA', 'MANGO', 'CHERRY', 'KIWI']\n"
     ]
    }
   ],
   "source": [
    "fruits=['apple', 'banana', 'mango' ,'cherry', 'kiwi']\n",
    "newlist=[x.upper() for x in fruits]\n",
    "print(newlist)"
   ]
  },
  {
   "cell_type": "code",
   "execution_count": 84,
   "id": "4db694d5-fe2d-4354-8ca2-8445331ca032",
   "metadata": {},
   "outputs": [
    {
     "name": "stdout",
     "output_type": "stream",
     "text": [
      "['apple', 'apple', 'apple']\n"
     ]
    }
   ],
   "source": [
    "fruits = ['apple', 'banana', 'cherry']\n",
    "newlist = ['apple' for x in fruits]\n",
    "print(newlist)"
   ]
  },
  {
   "cell_type": "markdown",
   "id": "c90666a1-5f84-4566-b122-ef2d1b7cbb07",
   "metadata": {},
   "source": [
    "$ sorting of the list $\n",
    "- List objects have a sort() method that will sort the list alphanumerically, ascending, by default:\n"
   ]
  },
  {
   "cell_type": "code",
   "execution_count": 86,
   "id": "d30c4d2a-15d7-41b8-b180-2efae9ab436b",
   "metadata": {},
   "outputs": [
    {
     "name": "stdout",
     "output_type": "stream",
     "text": [
      "['apple', 'banana', 'cherry', 'kiwi', 'mango']\n"
     ]
    }
   ],
   "source": [
    "fruits=['apple', 'banana', 'mango' ,'cherry', 'kiwi']\n",
    "fruits.sort()\n",
    "print(fruits)"
   ]
  },
  {
   "cell_type": "markdown",
   "id": "d213a7a8-c717-4089-9bae-41214b9b9222",
   "metadata": {},
   "source": [
    "- Example\n",
    "Sort the list numerically:"
   ]
  },
  {
   "cell_type": "code",
   "execution_count": 90,
   "id": "135958de-7c4b-4963-ba61-218ff81a39d5",
   "metadata": {},
   "outputs": [
    {
     "name": "stdout",
     "output_type": "stream",
     "text": [
      "[23, 50, 65, 82, 100]\n"
     ]
    }
   ],
   "source": [
    "thislist = [100, 50, 65, 82, 23]\n",
    "thislist.sort()\n",
    "print(thislist)"
   ]
  },
  {
   "cell_type": "code",
   "execution_count": 94,
   "id": "814a5c4d-eb96-49e3-902b-8350f2e06f5e",
   "metadata": {},
   "outputs": [
    {
     "name": "stdout",
     "output_type": "stream",
     "text": [
      "[100, 82, 65, 50, 23]\n"
     ]
    }
   ],
   "source": [
    "thislist = [100, 50, 65, 82, 23]\n",
    "thislist.sort(reverse=True)\n",
    "print(thislist)"
   ]
  },
  {
   "cell_type": "markdown",
   "id": "e055d3e7-4c9d-46e3-a523-9a166123a0ee",
   "metadata": {},
   "source": [
    "$$ Case Insensitive Sort $$"
   ]
  },
  {
   "cell_type": "markdown",
   "id": "3eb18bed-dc15-43e3-8cd1-02ed3045431e",
   "metadata": {},
   "source": [
    "- Case sensitive sorting can give an unexpected result:"
   ]
  },
  {
   "cell_type": "code",
   "execution_count": 98,
   "id": "f9982c2d-f1aa-4873-b5c8-18556491284f",
   "metadata": {},
   "outputs": [
    {
     "name": "stdout",
     "output_type": "stream",
     "text": [
      "['Kiwi', 'Orange', 'banana', 'cherry']\n"
     ]
    }
   ],
   "source": [
    "thislist = [\"banana\", \"Orange\", \"Kiwi\", \"cherry\"]\n",
    "thislist.sort()\n",
    "print(thislist)"
   ]
  },
  {
   "cell_type": "markdown",
   "id": "7a3e51a5-9f22-41fe-b6c3-89b2bc7e20e7",
   "metadata": {},
   "source": [
    "### THIS IS MISTAKE ###"
   ]
  },
  {
   "cell_type": "markdown",
   "id": "2bfd3964-f30f-42ab-9b24-197af63b3ebd",
   "metadata": {},
   "source": [
    "- LUCKILY WE HAVE A BUILDIN FUNCTION THERE IS:"
   ]
  },
  {
   "cell_type": "code",
   "execution_count": 102,
   "id": "ea9531c1-0c63-401e-a015-181c2c4e0817",
   "metadata": {},
   "outputs": [
    {
     "name": "stdout",
     "output_type": "stream",
     "text": [
      "['banana', 'cherry', 'Kiwi', 'Orange']\n"
     ]
    }
   ],
   "source": [
    "thislist = [\"banana\", \"Orange\", \"Kiwi\", \"cherry\"]\n",
    "thislist.sort(key= str.lower)\n",
    "print(thislist)"
   ]
  },
  {
   "cell_type": "markdown",
   "id": "9236d797-99b9-4318-ab05-7b8953d1152e",
   "metadata": {},
   "source": [
    "- So if you want a case-insensitive sort function, use str.lower as a key function:"
   ]
  },
  {
   "cell_type": "markdown",
   "id": "5975983b-1010-4aa7-a034-48c053138ae3",
   "metadata": {},
   "source": [
    "$ Reverse Order $"
   ]
  },
  {
   "cell_type": "markdown",
   "id": "27f5cdc2-983f-4aec-85b8-696ae82a052f",
   "metadata": {},
   "source": [
    "- What if you want to reverse the order of a list, regardless of the alphabet?"
   ]
  },
  {
   "cell_type": "code",
   "execution_count": 109,
   "id": "6abf5abd-7dc6-4fea-a879-69808aee61dd",
   "metadata": {},
   "outputs": [
    {
     "name": "stdout",
     "output_type": "stream",
     "text": [
      "['cherry', 'Kiwi', 'Orange', 'banana']\n"
     ]
    }
   ],
   "source": [
    "thislist = [\"banana\", \"Orange\", \"Kiwi\", \"cherry\"]\n",
    "thislist.reverse()\n",
    "print(thislist)"
   ]
  },
  {
   "cell_type": "markdown",
   "id": "67aeebeb-8706-4015-8966-2ae0dee8d0b2",
   "metadata": {},
   "source": [
    "# Copy Lists #"
   ]
  },
  {
   "cell_type": "markdown",
   "id": "6c115c89-671f-4036-8022-b9e0cdb96a99",
   "metadata": {},
   "source": [
    "- Use the copy() method\n",
    "We can use the built-in List method copy() to copy a list."
   ]
  },
  {
   "cell_type": "code",
   "execution_count": 113,
   "id": "51c668b1-83c1-40c6-a623-1b673f831b9d",
   "metadata": {},
   "outputs": [
    {
     "name": "stdout",
     "output_type": "stream",
     "text": [
      "['banana', 'Orange', 'Kiwi', 'cherry']\n"
     ]
    }
   ],
   "source": [
    "thislist = [\"banana\", \"Orange\", \"Kiwi\", \"cherry\"]\n",
    "newlist = thislist.copy()\n",
    "print(newlist)"
   ]
  },
  {
   "cell_type": "markdown",
   "id": "84ab73a4-0cb0-42f4-ba87-df1201130e6f",
   "metadata": {},
   "source": [
    "- Another method is by using the list:"
   ]
  },
  {
   "cell_type": "code",
   "execution_count": 118,
   "id": "a810bc7c-b522-4f42-b8a1-ec571cf6d3b6",
   "metadata": {},
   "outputs": [
    {
     "name": "stdout",
     "output_type": "stream",
     "text": [
      "['banana', 'Orange', 'Kiwi', 'cherry']\n"
     ]
    }
   ],
   "source": [
    "thislist = [\"banana\", \"Orange\", \"Kiwi\", \"cherry\"]\n",
    "newlist = list(thislist)\n",
    "print(newlist)"
   ]
  },
  {
   "cell_type": "markdown",
   "id": "e3a353d9-68b6-4b09-ad53-f87a24356158",
   "metadata": {},
   "source": [
    "#\n",
    "Use the slice Operator "
   ]
  },
  {
   "cell_type": "markdown",
   "id": "3fa009b8-9e5e-4b0d-bdaf-3e07130a5573",
   "metadata": {},
   "source": [
    "- we can use the slice operator to copy the list:"
   ]
  },
  {
   "cell_type": "code",
   "execution_count": 122,
   "id": "d90cc4f9-c08e-468a-978a-029725cdfb61",
   "metadata": {},
   "outputs": [
    {
     "name": "stdout",
     "output_type": "stream",
     "text": [
      "['banana', 'Orange', 'Kiwi', 'cherry']\n"
     ]
    }
   ],
   "source": [
    "thislist = [\"banana\", \"Orange\", \"Kiwi\", \"cherry\"]\n",
    "newlist= thislist[:]\n",
    "print(newlist)"
   ]
  },
  {
   "cell_type": "markdown",
   "id": "4125beb0-ba04-4170-8ee2-74711fadcc79",
   "metadata": {},
   "source": [
    "# Join Two Lists #"
   ]
  },
  {
   "cell_type": "markdown",
   "id": "e36d76e2-4f63-47e1-b7a7-27579d07755c",
   "metadata": {},
   "source": [
    "- There are several ways to join, or concatenate, two or more lists in Python.\n",
    "\n",
    "One of the easiest ways are by using the + operator"
   ]
  },
  {
   "cell_type": "code",
   "execution_count": 132,
   "id": "6754a0ef-2835-449f-98a1-b542a69b2b6d",
   "metadata": {},
   "outputs": [
    {
     "name": "stdout",
     "output_type": "stream",
     "text": [
      "['banana', 'Orange', 'Kiwi', 'cherry', 1, 2, 3]\n"
     ]
    }
   ],
   "source": [
    "thislist = [\"banana\", \"Orange\", \"Kiwi\", \"cherry\"]\n",
    "list2 =  [1, 2 ,3]\n",
    "newlist = thislist + list2\n",
    "print(newlist)"
   ]
  },
  {
   "cell_type": "markdown",
   "id": "ec8838f3-8782-4f01-bc4f-4df49c2079c4",
   "metadata": {},
   "source": [
    "- Or you can use the extend() method, where the purpose is to add elements from one list to another list:"
   ]
  },
  {
   "cell_type": "code",
   "execution_count": 139,
   "id": "cfcbb661-4790-46bd-9f47-47fe85d49fae",
   "metadata": {},
   "outputs": [
    {
     "name": "stdout",
     "output_type": "stream",
     "text": [
      "['banana', 'Orange', 'Kiwi', 'cherry', 1, 2, 3]\n"
     ]
    }
   ],
   "source": [
    "thislist = [\"banana\", \"Orange\", \"Kiwi\", \"cherry\"]\n",
    "list2 =  [1, 2 ,3]\n",
    "thislist.extend(list2)\n",
    "print(thislist)"
   ]
  },
  {
   "cell_type": "code",
   "execution_count": null,
   "id": "a5944823-9d02-403f-8118-eab20f979d67",
   "metadata": {},
   "outputs": [],
   "source": []
  }
 ],
 "metadata": {
  "kernelspec": {
   "display_name": "Python 3 (ipykernel)",
   "language": "python",
   "name": "python3"
  },
  "language_info": {
   "codemirror_mode": {
    "name": "ipython",
    "version": 3
   },
   "file_extension": ".py",
   "mimetype": "text/x-python",
   "name": "python",
   "nbconvert_exporter": "python",
   "pygments_lexer": "ipython3",
   "version": "3.12.7"
  }
 },
 "nbformat": 4,
 "nbformat_minor": 5
}
