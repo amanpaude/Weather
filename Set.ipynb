{
 "cells": [
  {
   "cell_type": "markdown",
   "id": "22a4c89a-5a44-4218-9e0e-2b097b7a5a32",
   "metadata": {},
   "source": [
    "## SET ##"
   ]
  },
  {
   "cell_type": "markdown",
   "id": "e416e15f-f6ef-4c81-8e22-e22d67b0cab5",
   "metadata": {},
   "source": [
    "- Set items are unordered, unchangeable, and do not allow duplicate values."
   ]
  },
  {
   "cell_type": "markdown",
   "id": "2505f0a0-46ca-431f-8a62-ab49285e8a94",
   "metadata": {},
   "source": [
    "$$ Duplicates Not Allowed $$ "
   ]
  },
  {
   "cell_type": "markdown",
   "id": "25f25a4c-2c18-4d31-b261-e6f1efff2544",
   "metadata": {},
   "source": [
    "- Duplicate values will be ignored:"
   ]
  },
  {
   "cell_type": "markdown",
   "id": "8fddbcc1-a305-4eff-b8a1-6eb1d92ef0ad",
   "metadata": {},
   "source": [
    "- Set is not in ordered"
   ]
  },
  {
   "cell_type": "code",
   "execution_count": 14,
   "id": "674b3176-b05f-430b-b903-6fe9345ea6bf",
   "metadata": {},
   "outputs": [
    {
     "name": "stdout",
     "output_type": "stream",
     "text": [
      "{'cherry', 'apple', 'banana'}\n"
     ]
    }
   ],
   "source": [
    "thisset = {\"apple\", \"banana\", \"cherry\", \"apple\"}\n",
    "\n",
    "print(thisset)"
   ]
  },
  {
   "cell_type": "code",
   "execution_count": 16,
   "id": "7eac892d-f24d-4bc9-a7f9-2ef3675a7bdb",
   "metadata": {},
   "outputs": [
    {
     "name": "stdout",
     "output_type": "stream",
     "text": [
      "{'cherry', 'apple', 'banana'}\n"
     ]
    }
   ],
   "source": [
    "thisset = {\"apple\", \"banana\", \"cherry\", \"apple\"}\n",
    "\n",
    "print(thisset)"
   ]
  },
  {
   "cell_type": "markdown",
   "id": "84abc573-34f6-4f7c-b46d-3572b7f91c00",
   "metadata": {},
   "source": [
    "- Note: The values False and 0 are considered the same value in sets, and are treated as duplicates:"
   ]
  },
  {
   "cell_type": "code",
   "execution_count": 19,
   "id": "c6ce9cf2-9a6b-49a0-a4ab-294c57e909bc",
   "metadata": {},
   "outputs": [
    {
     "name": "stdout",
     "output_type": "stream",
     "text": [
      "{False, True, 'cherry', 'apple', 'banana'}\n"
     ]
    }
   ],
   "source": [
    "thisset = {\"apple\", \"banana\", \"cherry\", False, True, 0}\n",
    "\n",
    "print(thisset)"
   ]
  },
  {
   "cell_type": "markdown",
   "id": "65913976-9e1f-4ee7-98a7-c851200a7a1a",
   "metadata": {},
   "source": [
    "- Get the Length of a Set\n"
   ]
  },
  {
   "cell_type": "code",
   "execution_count": 23,
   "id": "de96dcff-af98-4b51-97a5-0d29d74a87fe",
   "metadata": {},
   "outputs": [
    {
     "name": "stdout",
     "output_type": "stream",
     "text": [
      "3\n"
     ]
    }
   ],
   "source": [
    "thisset = {\"apple\", \"banana\", \"cherry\"}\n",
    "\n",
    "print(len(thisset))"
   ]
  },
  {
   "cell_type": "code",
   "execution_count": 25,
   "id": "e7d9412b-0910-439a-b147-0f7a48d44cc9",
   "metadata": {},
   "outputs": [
    {
     "name": "stdout",
     "output_type": "stream",
     "text": [
      "{True, 34, 'abc', 40, 'male'}\n"
     ]
    }
   ],
   "source": [
    "set1 = {\"abc\", 34, True, 40, \"male\"}\n",
    "print(set1)"
   ]
  },
  {
   "cell_type": "code",
   "execution_count": 27,
   "id": "4ffaeae2-7f81-461a-ad24-336e4bbac9d4",
   "metadata": {},
   "outputs": [
    {
     "name": "stdout",
     "output_type": "stream",
     "text": [
      "<class 'set'>\n"
     ]
    }
   ],
   "source": [
    "myset = {\"apple\", \"banana\", \"cherry\"}\n",
    "print(type(myset))"
   ]
  },
  {
   "cell_type": "code",
   "execution_count": 31,
   "id": "23f00abb-4587-4da0-89ba-121afcca823e",
   "metadata": {},
   "outputs": [
    {
     "name": "stdout",
     "output_type": "stream",
     "text": [
      "{'man', 'happy', 'aman', 'paudel'}\n"
     ]
    }
   ],
   "source": [
    "thissset = set((\"aman\",\"paudel\",\"happy\",\"man\"))\n",
    "print(thissset)"
   ]
  },
  {
   "cell_type": "code",
   "execution_count": 33,
   "id": "0cbba5ca-d05c-404a-a202-6ec84c5f98c4",
   "metadata": {},
   "outputs": [
    {
     "name": "stdout",
     "output_type": "stream",
     "text": [
      "<class 'set'>\n"
     ]
    }
   ],
   "source": [
    "print(type(thissset))"
   ]
  },
  {
   "cell_type": "markdown",
   "id": "ccb53564-2407-4084-a261-d3b349489177",
   "metadata": {},
   "source": [
    "# Access Set Items"
   ]
  },
  {
   "cell_type": "markdown",
   "id": "f5fa8be1-1763-464c-a85d-822122d27b67",
   "metadata": {},
   "source": [
    "- you cannot access items in a set by referring to an index or a key."
   ]
  },
  {
   "cell_type": "code",
   "execution_count": 37,
   "id": "b4f5c90b-c7b8-47e8-8aeb-c749e06bca7b",
   "metadata": {},
   "outputs": [
    {
     "name": "stdout",
     "output_type": "stream",
     "text": [
      "cherry\n",
      "apple\n",
      "banana\n"
     ]
    }
   ],
   "source": [
    "thisset = {\"apple\", \"banana\", \"cherry\"}\n",
    "for x in thisset:\n",
    "    print(x)"
   ]
  },
  {
   "cell_type": "code",
   "execution_count": 39,
   "id": "a712ae25-81f0-4243-908c-8d692ae2237f",
   "metadata": {},
   "outputs": [
    {
     "name": "stdout",
     "output_type": "stream",
     "text": [
      "True\n"
     ]
    }
   ],
   "source": [
    "thisset = {\"apple\", \"banana\", \"cherry\"}\n",
    "\n",
    "print(\"banana\" in thisset)"
   ]
  },
  {
   "cell_type": "markdown",
   "id": "2c173edd-63ad-4678-ab2e-89d6567194b9",
   "metadata": {},
   "source": [
    "# Add Set Items"
   ]
  },
  {
   "cell_type": "code",
   "execution_count": 44,
   "id": "412be153-bd9e-49ac-afef-385ea8c5220e",
   "metadata": {},
   "outputs": [
    {
     "name": "stdout",
     "output_type": "stream",
     "text": [
      "{'cherry', 'orange', 'apple', 'banana'}\n"
     ]
    }
   ],
   "source": [
    "thisset = {\"apple\", \"banana\", \"cherry\"}\n",
    "\n",
    "thisset.add(\"orange\")\n",
    "\n",
    "print(thisset)"
   ]
  },
  {
   "cell_type": "code",
   "execution_count": 50,
   "id": "00b8f97a-5ad5-40ee-a26e-81fbcb856124",
   "metadata": {},
   "outputs": [
    {
     "name": "stdout",
     "output_type": "stream",
     "text": [
      "{'papaya', 'mango', 'cherry', 'apple', 'pineapple', 'banana'}\n"
     ]
    }
   ],
   "source": [
    "\n",
    "\n",
    "thisset = {\"apple\", \"banana\", \"cherry\"}\n",
    "tropical = {\"pineapple\", \"mango\", \"papaya\"}\n",
    "\n",
    "thisset.update(tropical)\n",
    "\n",
    "print(thisset)"
   ]
  },
  {
   "cell_type": "code",
   "execution_count": 52,
   "id": "4778df72-46c9-4a4e-a34e-929eafa2e853",
   "metadata": {},
   "outputs": [
    {
     "name": "stdout",
     "output_type": "stream",
     "text": [
      "{'cherry', 'orange', 'apple', 'banana', 'kiwi'}\n"
     ]
    }
   ],
   "source": [
    "thisset = {\"apple\", \"banana\", \"cherry\"}\n",
    "mylist = [\"kiwi\", \"orange\"]\n",
    "\n",
    "thisset.update(mylist)\n",
    "\n",
    "print(thisset)"
   ]
  },
  {
   "cell_type": "markdown",
   "id": "11d24f5f-dd7e-4441-9564-42b265998865",
   "metadata": {},
   "source": [
    "# Remove Set Items"
   ]
  },
  {
   "cell_type": "code",
   "execution_count": 55,
   "id": "aecbb0e2-7c94-4e21-8639-d939d10c1849",
   "metadata": {},
   "outputs": [
    {
     "name": "stdout",
     "output_type": "stream",
     "text": [
      "{'cherry', 'apple'}\n"
     ]
    }
   ],
   "source": [
    "thisset = {\"apple\", \"banana\", \"cherry\"}\n",
    "\n",
    "thisset.remove(\"banana\")\n",
    "\n",
    "print(thisset)"
   ]
  },
  {
   "cell_type": "code",
   "execution_count": 57,
   "id": "e3d4eb63-81ec-4ffd-92b9-62ced6ef8e93",
   "metadata": {},
   "outputs": [
    {
     "name": "stdout",
     "output_type": "stream",
     "text": [
      "{'cherry', 'apple'}\n"
     ]
    }
   ],
   "source": [
    "thisset = {\"apple\", \"banana\", \"cherry\"}\n",
    "\n",
    "thisset.discard(\"banana\")\n",
    "\n",
    "print(thisset)"
   ]
  },
  {
   "cell_type": "code",
   "execution_count": 65,
   "id": "e7310d0b-4072-4c1c-b60d-4f4a00dd67b9",
   "metadata": {},
   "outputs": [
    {
     "name": "stdout",
     "output_type": "stream",
     "text": [
      "cherry\n",
      "{'apple', 'banana'}\n"
     ]
    }
   ],
   "source": [
    "thisset = {\"apple\", \"banana\", \"cherry\"}\n",
    "\n",
    "x = thisset.pop()\n",
    "\n",
    "print(x)\n",
    "\n",
    "print(thisset)"
   ]
  },
  {
   "cell_type": "code",
   "execution_count": 67,
   "id": "9d950d29-e1d2-4f6f-b832-ab28a2ac3c07",
   "metadata": {},
   "outputs": [
    {
     "name": "stdout",
     "output_type": "stream",
     "text": [
      "set()\n"
     ]
    }
   ],
   "source": [
    "thisset = {\"apple\", \"banana\", \"cherry\"}\n",
    "\n",
    "thisset.clear()\n",
    "\n",
    "print(thisset)"
   ]
  },
  {
   "cell_type": "code",
   "execution_count": null,
   "id": "020dc106-69ba-4dfb-82cb-76b6b1ac8ed7",
   "metadata": {},
   "outputs": [],
   "source": [
    "DEL keyword"
   ]
  },
  {
   "cell_type": "code",
   "execution_count": 69,
   "id": "c17fa132-1a4c-44bb-b096-0ed4bd224cb3",
   "metadata": {},
   "outputs": [
    {
     "ename": "NameError",
     "evalue": "name 'thisset' is not defined",
     "output_type": "error",
     "traceback": [
      "\u001b[1;31m---------------------------------------------------------------------------\u001b[0m",
      "\u001b[1;31mNameError\u001b[0m                                 Traceback (most recent call last)",
      "Cell \u001b[1;32mIn[69], line 5\u001b[0m\n\u001b[0;32m      1\u001b[0m thisset \u001b[38;5;241m=\u001b[39m {\u001b[38;5;124m\"\u001b[39m\u001b[38;5;124mapple\u001b[39m\u001b[38;5;124m\"\u001b[39m, \u001b[38;5;124m\"\u001b[39m\u001b[38;5;124mbanana\u001b[39m\u001b[38;5;124m\"\u001b[39m, \u001b[38;5;124m\"\u001b[39m\u001b[38;5;124mcherry\u001b[39m\u001b[38;5;124m\"\u001b[39m}\n\u001b[0;32m      3\u001b[0m \u001b[38;5;28;01mdel\u001b[39;00m thisset\n\u001b[1;32m----> 5\u001b[0m \u001b[38;5;28mprint\u001b[39m(thisset)\n",
      "\u001b[1;31mNameError\u001b[0m: name 'thisset' is not defined"
     ]
    }
   ],
   "source": [
    "thisset = {\"apple\", \"banana\", \"cherry\"}\n",
    "\n",
    "del thisset\n",
    "\n",
    "print(thisset)"
   ]
  },
  {
   "cell_type": "markdown",
   "id": "4e4c930d-fde5-4199-a063-d7daf7a18850",
   "metadata": {},
   "source": [
    "# Loop Items"
   ]
  },
  {
   "cell_type": "code",
   "execution_count": 72,
   "id": "789b1460-5768-4c37-89ed-01d5a5757828",
   "metadata": {},
   "outputs": [
    {
     "name": "stdout",
     "output_type": "stream",
     "text": [
      "cherry\n",
      "apple\n",
      "banana\n"
     ]
    }
   ],
   "source": [
    "thisset = {\"apple\", \"banana\", \"cherry\"}\n",
    "\n",
    "for x in thisset:\n",
    "  print(x)"
   ]
  },
  {
   "cell_type": "markdown",
   "id": "a1100452-1dc9-4f69-a2c6-99f22273eae5",
   "metadata": {},
   "source": [
    "# Join Sets #"
   ]
  },
  {
   "cell_type": "markdown",
   "id": "d83c1855-a98f-44f9-bce1-8eda824d84ab",
   "metadata": {},
   "source": [
    "- The union() method returns a new set with all items from both sets."
   ]
  },
  {
   "cell_type": "code",
   "execution_count": 76,
   "id": "fbff9e23-93c4-4fd6-918b-e23d19cdf0e4",
   "metadata": {},
   "outputs": [
    {
     "name": "stdout",
     "output_type": "stream",
     "text": [
      "{1, 2, 3, 'b', 'a', 'c'}\n"
     ]
    }
   ],
   "source": [
    "set1 = {\"a\", \"b\", \"c\"}\n",
    "set2 = {1, 2, 3}\n",
    "\n",
    "set3 = set1.union(set2)\n",
    "print(set3)"
   ]
  },
  {
   "cell_type": "code",
   "execution_count": 78,
   "id": "abff5355-8a00-48f2-972e-799c9430a473",
   "metadata": {},
   "outputs": [
    {
     "name": "stdout",
     "output_type": "stream",
     "text": [
      "{1, 2, 3, 'cherry', 'Elena', 'a', 'bananas', 'apple', 'c', 'John', 'b'}\n"
     ]
    }
   ],
   "source": [
    "set1 = {\"a\", \"b\", \"c\"}\n",
    "set2 = {1, 2, 3}\n",
    "set3 = {\"John\", \"Elena\"}\n",
    "set4 = {\"apple\", \"bananas\", \"cherry\"}\n",
    "\n",
    "myset = set1.union(set2, set3, set4)\n",
    "print(myset)"
   ]
  },
  {
   "cell_type": "code",
   "execution_count": 80,
   "id": "cacdf259-338e-48c1-902f-8ad2bdbad131",
   "metadata": {},
   "outputs": [
    {
     "name": "stdout",
     "output_type": "stream",
     "text": [
      "{1, 2, 3, 'cherry', 'Elena', 'a', 'bananas', 'apple', 'c', 'John', 'b'}\n"
     ]
    }
   ],
   "source": [
    "set1 = {\"a\", \"b\", \"c\"}\n",
    "set2 = {1, 2, 3}\n",
    "set3 = {\"John\", \"Elena\"}\n",
    "set4 = {\"apple\", \"bananas\", \"cherry\"}\n",
    "\n",
    "myset = set1 | set2 | set3 |set4\n",
    "print(myset)"
   ]
  },
  {
   "cell_type": "code",
   "execution_count": 82,
   "id": "7cff04a5-28cf-42fe-8a26-18c578212a29",
   "metadata": {},
   "outputs": [
    {
     "name": "stdout",
     "output_type": "stream",
     "text": [
      "{1, 2, 3, 'c', 'b', 'a'}\n"
     ]
    }
   ],
   "source": [
    "x = {\"a\", \"b\", \"c\"}\n",
    "y = (1, 2, 3)\n",
    "\n",
    "z = x.union(y)\n",
    "print(z)"
   ]
  },
  {
   "cell_type": "code",
   "execution_count": 84,
   "id": "23780529-463b-4a30-9483-cf8c78506b0f",
   "metadata": {},
   "outputs": [
    {
     "name": "stdout",
     "output_type": "stream",
     "text": [
      "{1, 2, 3, 'b', 'a', 'c'}\n"
     ]
    }
   ],
   "source": [
    "set1 = {\"a\", \"b\" , \"c\"}\n",
    "set2 = {1, 2, 3}\n",
    "\n",
    "set1.update(set2)\n",
    "print(set1)"
   ]
  },
  {
   "cell_type": "markdown",
   "id": "af7cdeb5-94d3-4869-ab3b-620ecf91efa4",
   "metadata": {},
   "source": [
    "- The intersection() method will return a new set, that only contains the items that are present in both sets."
   ]
  },
  {
   "cell_type": "code",
   "execution_count": 86,
   "id": "a873f090-3da0-439e-a352-bd8d6370448f",
   "metadata": {},
   "outputs": [
    {
     "name": "stdout",
     "output_type": "stream",
     "text": [
      "{'apple'}\n"
     ]
    }
   ],
   "source": [
    "set1 = {\"apple\", \"banana\", \"cherry\"}\n",
    "set2 = {\"google\", \"microsoft\", \"apple\"}\n",
    "\n",
    "set3 = set1.intersection(set2)\n",
    "print(set3)"
   ]
  },
  {
   "cell_type": "code",
   "execution_count": 89,
   "id": "e41092ea-0392-47f9-a088-edbf6a3154ee",
   "metadata": {},
   "outputs": [
    {
     "name": "stdout",
     "output_type": "stream",
     "text": [
      "{'apple'}\n"
     ]
    }
   ],
   "source": [
    "set1 = {\"apple\", \"banana\", \"cherry\"}\n",
    "set2 = {\"google\", \"microsoft\", \"apple\"}\n",
    "\n",
    "set1.intersection_update(set2)\n",
    "\n",
    "print(set1)"
   ]
  },
  {
   "cell_type": "code",
   "execution_count": 91,
   "id": "6598b07b-25be-41df-813c-13f6100554c7",
   "metadata": {},
   "outputs": [
    {
     "name": "stdout",
     "output_type": "stream",
     "text": [
      "{'cherry', 'banana'}\n"
     ]
    }
   ],
   "source": [
    "set1 = {\"apple\", \"banana\", \"cherry\"}\n",
    "set2 = {\"google\", \"microsoft\", \"apple\"}\n",
    "\n",
    "set3 = set1.difference(set2)\n",
    "\n",
    "print(set3)"
   ]
  },
  {
   "cell_type": "markdown",
   "id": "71ca595d-5809-4bac-ad84-b91982f1a570",
   "metadata": {},
   "source": [
    "- The symmetric_difference() method will keep only the elements that are NOT present in both sets.\n",
    "\n"
   ]
  },
  {
   "cell_type": "code",
   "execution_count": 93,
   "id": "0e4bc4d0-a5cc-4c01-af5a-e1ea22903cc2",
   "metadata": {},
   "outputs": [
    {
     "name": "stdout",
     "output_type": "stream",
     "text": [
      "{'google', 'cherry', 'banana', 'microsoft'}\n"
     ]
    }
   ],
   "source": [
    "set1 = {\"apple\", \"banana\", \"cherry\"}\n",
    "set2 = {\"google\", \"microsoft\", \"apple\"}\n",
    "\n",
    "set3 = set1.symmetric_difference(set2)\n",
    "\n",
    "print(set3)"
   ]
  },
  {
   "cell_type": "markdown",
   "id": "796fba14-8505-4393-8aab-34746af28cd1",
   "metadata": {},
   "source": [
    "- Method\tShortcut\tDescription\n",
    "- add()\t \tAdds an element to the set\n",
    "- clear()\t \tRemoves all the elements from the set\n",
    "- copy()\t \tReturns a copy of the set\n",
    "- difference()\t-\tReturns a set containing the difference between two or more sets\n",
    "- difference_update()\t-=\tRemoves the items in this set that are also included in another, specified set\n",
    "- discard()\t \tRemove the specified item\n",
    "- intersection()\t&\tReturns a set, that is the intersection of two other sets\n",
    "- intersection_update()\t&=\tRemoves the items in this set that are not present in other, specified set(s)\n",
    "- isdisjoint()\t \tReturns whether two sets have a intersection or not\n",
    "- issubset()\t<=\tReturns whether another set contains this set or not\n",
    " -\t<\tReturns whether all items in this set is present in other, specified set(s)\n",
    "- issuperset()\t>=\tReturns whether this set contains another set or not\n",
    " \t>\tReturns whether all items in other, specified set(s) is present in this set\n",
    "- pop()\t \tRemoves an element from the set\n",
    "- remove()\t \tRemoves the specified element\n",
    "- symmetric_difference()\t^\tReturns a set with the symmetric differences of two sets\n",
    "- symmetric_difference_update()\t^=\tInserts the symmetric differences from this set and another\n",
    "- union()\t|\tReturn a set containing the union of sets\n",
    "- update()\t|=\tUpdate the set with the union of this set and others"
   ]
  },
  {
   "cell_type": "code",
   "execution_count": null,
   "id": "5181bb90-9144-4117-9559-be15f37c96f8",
   "metadata": {},
   "outputs": [],
   "source": []
  }
 ],
 "metadata": {
  "kernelspec": {
   "display_name": "Python 3 (ipykernel)",
   "language": "python",
   "name": "python3"
  },
  "language_info": {
   "codemirror_mode": {
    "name": "ipython",
    "version": 3
   },
   "file_extension": ".py",
   "mimetype": "text/x-python",
   "name": "python",
   "nbconvert_exporter": "python",
   "pygments_lexer": "ipython3",
   "version": "3.12.7"
  }
 },
 "nbformat": 4,
 "nbformat_minor": 5
}
