{
 "cells": [
  {
   "cell_type": "markdown",
   "id": "9814fc48-59be-419a-8b75-f82a6394464d",
   "metadata": {},
   "source": [
    "# TUPLES #"
   ]
  },
  {
   "cell_type": "markdown",
   "id": "66517a70-2055-42f3-bb95-7dae0c900bff",
   "metadata": {},
   "source": [
    "- Tuples are used to store multiple items in a single variable.\n",
    "\n",
    "- Tuples are odered and unchangable\n",
    "\n",
    "- They are written in round brackets\n",
    "\n"
   ]
  },
  {
   "cell_type": "code",
   "execution_count": 9,
   "id": "7e2908d5-3de2-4071-88ea-e793088ed240",
   "metadata": {},
   "outputs": [
    {
     "name": "stdout",
     "output_type": "stream",
     "text": [
      "Sachin\n",
      "vishan\n",
      "nirmal\n"
     ]
    }
   ],
   "source": [
    "#ex:\n",
    "thistuple =['aman', 'vishan', 'nirmal']\n",
    "thistuple[0]= 'Sachin'\n",
    "for thistuple in thistuple:\n",
    "    print(thistuple)"
   ]
  },
  {
   "cell_type": "code",
   "execution_count": 9,
   "id": "76664641-7e3f-4ff7-aac3-4e690306327b",
   "metadata": {},
   "outputs": [
    {
     "name": "stdout",
     "output_type": "stream",
     "text": [
      "('apple', 'banana', 'cherry', 'apple', 'cherry')\n"
     ]
    }
   ],
   "source": [
    "thistuple = (\"apple\", \"banana\", \"cherry\", \"apple\", \"cherry\")\n",
    "print(thistuple)"
   ]
  },
  {
   "cell_type": "code",
   "execution_count": 11,
   "id": "bbeec427-6350-4345-b74a-40972a96c3f1",
   "metadata": {},
   "outputs": [
    {
     "name": "stdout",
     "output_type": "stream",
     "text": [
      "5\n"
     ]
    }
   ],
   "source": [
    "print(len(thistuple))"
   ]
  },
  {
   "cell_type": "markdown",
   "id": "74ea8ed0-aaed-4420-904c-b349e8656c82",
   "metadata": {},
   "source": [
    "- THis is tuple remember the comma:"
   ]
  },
  {
   "cell_type": "code",
   "execution_count": 13,
   "id": "50ea5d1d-b040-42b4-9a7f-8ccbaa99b157",
   "metadata": {},
   "outputs": [
    {
     "name": "stdout",
     "output_type": "stream",
     "text": [
      "<class 'tuple'>\n"
     ]
    }
   ],
   "source": [
    "thistuple = (\"apple\",)\n",
    "print(type(thistuple))"
   ]
  },
  {
   "cell_type": "markdown",
   "id": "e3b8462b-d80d-4aff-a43d-3fd4092b4b3d",
   "metadata": {},
   "source": [
    "- This is string"
   ]
  },
  {
   "cell_type": "code",
   "execution_count": 15,
   "id": "c1949f28-2f58-4253-ae46-7440f656b8fa",
   "metadata": {},
   "outputs": [
    {
     "name": "stdout",
     "output_type": "stream",
     "text": [
      "<class 'str'>\n"
     ]
    }
   ],
   "source": [
    "thistuple = (\"apple\")\n",
    "print(type(thistuple))"
   ]
  },
  {
   "cell_type": "markdown",
   "id": "9edb29da-979d-4543-80e8-61a6f801620d",
   "metadata": {},
   "source": [
    "## Data Types "
   ]
  },
  {
   "cell_type": "markdown",
   "id": "4c320742-e0c4-4617-bbc1-000a4ebfd4d5",
   "metadata": {},
   "source": [
    "- Tuple can be of any data  types \n",
    "- string , interger , bool"
   ]
  },
  {
   "cell_type": "code",
   "execution_count": 17,
   "id": "6543523a-b34d-486f-a455-fbc0ee5f55d3",
   "metadata": {},
   "outputs": [
    {
     "name": "stdout",
     "output_type": "stream",
     "text": [
      "('apple', 'banana', 'cherry')\n",
      "(1, 5, 7, 9, 3)\n",
      "(True, False, False)\n",
      "3\n"
     ]
    }
   ],
   "source": [
    "tuple1 = (\"apple\", \"banana\", \"cherry\")\n",
    "tuple2 = (1, 5, 7, 9, 3)\n",
    "tuple3 = (True, False, False)\n",
    "print(tuple1)\n",
    "print(tuple2)\n",
    "print(tuple3)\n",
    "tuple1.count('apple')\n",
    "print(len(tuple1))"
   ]
  },
  {
   "cell_type": "code",
   "execution_count": 21,
   "id": "d0989af1-eadb-436f-8ca2-ccf47e640d0f",
   "metadata": {},
   "outputs": [
    {
     "name": "stdout",
     "output_type": "stream",
     "text": [
      "<class 'tuple'>\n",
      "<class 'tuple'>\n",
      "<class 'tuple'>\n",
      "['__add__', '__class__', '__class_getitem__', '__contains__', '__delattr__', '__dir__', '__doc__', '__eq__', '__format__', '__ge__', '__getattribute__', '__getitem__', '__getnewargs__', '__getstate__', '__gt__', '__hash__', '__init__', '__init_subclass__', '__iter__', '__le__', '__len__', '__lt__', '__mul__', '__ne__', '__new__', '__reduce__', '__reduce_ex__', '__repr__', '__rmul__', '__setattr__', '__sizeof__', '__str__', '__subclasshook__', 'count', 'index']\n"
     ]
    }
   ],
   "source": [
    "tuple1 = (\"apple\", \"banana\", \"cherry\")\n",
    "print(type(tuple1))\n",
    "print(type(tuple2))\n",
    "print(type(tuple3))\n",
    "print(dir(tuple1))\n",
    "      "
   ]
  },
  {
   "cell_type": "code",
   "execution_count": 43,
   "id": "e03f54b8-52d8-4760-9c2e-6a7a0d6db858",
   "metadata": {},
   "outputs": [
    {
     "name": "stdout",
     "output_type": "stream",
     "text": [
      "('aman', 'paudel', 'hero')\n"
     ]
    }
   ],
   "source": [
    "aman = tuple(('aman','paudel','hero'))\n",
    "print(aman)"
   ]
  },
  {
   "cell_type": "markdown",
   "id": "b9e0aa30-82bb-41e4-8bdf-4b0e1e0d6bc6",
   "metadata": {},
   "source": [
    "# Access the tuple items"
   ]
  },
  {
   "cell_type": "markdown",
   "id": "b2d89bc3-5295-44bc-a315-9da4ad77f239",
   "metadata": {},
   "source": [
    "- You can access tuple items by referring to the index number, inside square brackets:"
   ]
  },
  {
   "cell_type": "code",
   "execution_count": 47,
   "id": "6d09c87b-8b01-4c9b-aa6e-236ce110ffeb",
   "metadata": {},
   "outputs": [
    {
     "name": "stdout",
     "output_type": "stream",
     "text": [
      "banana\n"
     ]
    }
   ],
   "source": [
    "thistuple = (\"apple\", \"banana\", \"cherry\")\n",
    "print(thistuple[1])"
   ]
  },
  {
   "cell_type": "markdown",
   "id": "037492f3-c66b-4ad7-b42c-46194fa6c64a",
   "metadata": {},
   "source": [
    "- Negative Indexing"
   ]
  },
  {
   "cell_type": "code",
   "execution_count": 54,
   "id": "3fc7f17f-b25a-4a7a-90c1-9f549a37b0ff",
   "metadata": {},
   "outputs": [
    {
     "name": "stdout",
     "output_type": "stream",
     "text": [
      "cherry\n"
     ]
    }
   ],
   "source": [
    "print(thistuple[-1])"
   ]
  },
  {
   "cell_type": "code",
   "execution_count": 56,
   "id": "68b20ea7-4744-4a3c-9c8e-26957e1f4f68",
   "metadata": {},
   "outputs": [
    {
     "name": "stdout",
     "output_type": "stream",
     "text": [
      "('cherry', 'orange', 'kiwi')\n"
     ]
    }
   ],
   "source": [
    "thistuple = (\"apple\", \"banana\", \"cherry\", \"orange\", \"kiwi\", \"melon\", \"mango\")\n",
    "print(thistuple[2:5])"
   ]
  },
  {
   "cell_type": "code",
   "execution_count": 58,
   "id": "67f36b28-69d4-4f91-9a72-6e73d1abed88",
   "metadata": {},
   "outputs": [
    {
     "name": "stdout",
     "output_type": "stream",
     "text": [
      "('apple', 'banana', 'cherry', 'orange')\n"
     ]
    }
   ],
   "source": [
    "thistuple = (\"apple\", \"banana\", \"cherry\", \"orange\", \"kiwi\", \"melon\", \"mango\")\n",
    "print(thistuple[:4])"
   ]
  },
  {
   "cell_type": "code",
   "execution_count": 60,
   "id": "7c33100e-af38-43fc-ad35-d7e8c34be9fe",
   "metadata": {},
   "outputs": [
    {
     "name": "stdout",
     "output_type": "stream",
     "text": [
      "('orange', 'kiwi', 'melon')\n"
     ]
    }
   ],
   "source": [
    "thistuple = (\"apple\", \"banana\", \"cherry\", \"orange\", \"kiwi\", \"melon\", \"mango\")\n",
    "print(thistuple[-4:-1])"
   ]
  },
  {
   "cell_type": "markdown",
   "id": "afb3989e-3ba9-4227-8db8-79ddb3f813cd",
   "metadata": {},
   "source": [
    "# Check if Item Exists"
   ]
  },
  {
   "cell_type": "code",
   "execution_count": 63,
   "id": "d4585a9b-d5ed-4d8b-820f-605e98645025",
   "metadata": {},
   "outputs": [
    {
     "name": "stdout",
     "output_type": "stream",
     "text": [
      "Yes, 'apple' is in the fruits tuple\n"
     ]
    }
   ],
   "source": [
    "thistuple = (\"apple\", \"banana\", \"cherry\")\n",
    "if \"apple\" in thistuple:\n",
    "  print(\"Yes, 'apple' is in the fruits tuple\")\n"
   ]
  },
  {
   "cell_type": "markdown",
   "id": "10dec567-5547-4ac7-a4fc-5cc4d5861c5b",
   "metadata": {},
   "source": [
    "# Update Tuples"
   ]
  },
  {
   "cell_type": "markdown",
   "id": "ad447229-5310-46de-aaaf-0856ca54f753",
   "metadata": {},
   "source": [
    "- Tuples are unchangeable, meaning that you cannot change, add, or remove items once the tuple is created."
   ]
  },
  {
   "cell_type": "markdown",
   "id": "2b2286ad-5965-47f2-ac0c-5caf6ec76d5f",
   "metadata": {},
   "source": [
    "$$ Change Tuple Values $$ "
   ]
  },
  {
   "cell_type": "markdown",
   "id": "40667fbe-cc2d-408d-84ef-a52fc9554d60",
   "metadata": {},
   "source": [
    "- Once a tuple is created, you cannot change its values. Tuples are unchangeable, or immutable as it also is called.\n",
    "- But there is a workaround. You can convert the tuple into a list, change the list, and convert the list back into a tuple."
   ]
  },
  {
   "cell_type": "code",
   "execution_count": 73,
   "id": "1bf63c05-c9ea-48f0-b155-d009bc1e5550",
   "metadata": {},
   "outputs": [
    {
     "name": "stdout",
     "output_type": "stream",
     "text": [
      "['apple', 'syau', 'cherry']\n"
     ]
    }
   ],
   "source": [
    "thistuple = (\"apple\", \"banana\", \"cherry\")\n",
    "list1 = list(thistuple)\n",
    "list1[1]= 'syau'\n",
    "print(list1)"
   ]
  },
  {
   "cell_type": "markdown",
   "id": "c3d94e5b-4016-4371-982e-a9b0712977fe",
   "metadata": {},
   "source": [
    "- Tuple are unchangable but we can change the elements there by convertiing the tuples into the list and then chang`e the lemenet in tne list then we can convert them back into the tuples\n",
    "- $ summary $"
   ]
  },
  {
   "cell_type": "markdown",
   "id": "7e069388-ae37-44c1-8fe1-217c63f586fa",
   "metadata": {},
   "source": [
    "# Add Items"
   ]
  },
  {
   "cell_type": "markdown",
   "id": "b9521914-b34f-4121-bc4c-8491257dc99c",
   "metadata": {},
   "source": [
    "- Since tuples are immutable, they do not have a built-in append() method, but there are other ways to add items to a tuple.\n",
    "- Convert into a list: Just like the workaround for changing a tuple, you can convert it into a list, add your item(s), and convert it back into a tuple."
   ]
  },
  {
   "cell_type": "code",
   "execution_count": 80,
   "id": "0acd6ff0-f66d-4de6-9d81-b45d2b558529",
   "metadata": {},
   "outputs": [
    {
     "name": "stdout",
     "output_type": "stream",
     "text": [
      "('apple', 'banana', 'cherry', 'orange')\n"
     ]
    }
   ],
   "source": [
    "thistuple = (\"apple\", \"banana\", \"cherry\")\n",
    "y = list(thistuple)\n",
    "y.append(\"orange\")\n",
    "thistuple = tuple(y)\n",
    "print(thistuple)"
   ]
  },
  {
   "cell_type": "markdown",
   "id": "a055ef69-25cf-48a9-ada9-d6ea991b2536",
   "metadata": {},
   "source": [
    "$  Add tuple to a tuple $"
   ]
  },
  {
   "cell_type": "markdown",
   "id": "2ceefa36-4791-4b24-90cf-b9ec4ffd852c",
   "metadata": {},
   "source": [
    "-  Add tuple to a tuple. You are allowed to add tuples to tuples, so if you want to add one item, (or many), create a new tuple with the item(s), and add it to the existing tuple:"
   ]
  },
  {
   "cell_type": "code",
   "execution_count": 88,
   "id": "44b6d373-930a-4f4e-877a-66115a7d148d",
   "metadata": {},
   "outputs": [
    {
     "name": "stdout",
     "output_type": "stream",
     "text": [
      "('apple', 'banana', 'cherry', 'orange')\n"
     ]
    }
   ],
   "source": [
    "thistuple = (\"apple\", \"banana\", \"cherry\")\n",
    "y = (\"orange\",)\n",
    "thistuple += y\n",
    "\n",
    "print(thistuple)"
   ]
  },
  {
   "cell_type": "markdown",
   "id": "33382c88-1409-405b-b582-d063533a17a2",
   "metadata": {},
   "source": [
    "- We cannot remove the items in a tuples but we can convert them into a list and then remove the items then return back to the tuples"
   ]
  },
  {
   "cell_type": "code",
   "execution_count": 95,
   "id": "7033f890-53b6-4ad6-a89e-d7af87fa8873",
   "metadata": {},
   "outputs": [
    {
     "name": "stdout",
     "output_type": "stream",
     "text": [
      "['apple', 'cherry']\n"
     ]
    }
   ],
   "source": [
    "thistuple = (\"apple\", \"banana\", \"cherry\")\n",
    "y = list(thistuple)\n",
    "y.remove('banana')\n",
    "print(y)"
   ]
  },
  {
   "cell_type": "markdown",
   "id": "8090b996-7b70-40bf-8d70-ff61c25b8761",
   "metadata": {},
   "source": [
    "- We can use del keyword to delete the tuple completely:"
   ]
  },
  {
   "cell_type": "markdown",
   "id": "56d85af0-9fcf-4d4b-94ed-612fc671a58d",
   "metadata": {},
   "source": [
    "# Unpack Tuples`"
   ]
  },
  {
   "cell_type": "markdown",
   "id": "0eeb0a0f-33de-4956-b853-5cd35f141c31",
   "metadata": {},
   "source": [
    "- When we create a tuple, we normally assign values to it. This is called \"packing\" a tuple:"
   ]
  },
  {
   "cell_type": "code",
   "execution_count": 102,
   "id": "cb7ed2db-e1f7-434e-9141-3e661756eaea",
   "metadata": {},
   "outputs": [
    {
     "name": "stdout",
     "output_type": "stream",
     "text": [
      "('apple', 'banana', 'cherry')\n"
     ]
    }
   ],
   "source": [
    "fruits = (\"apple\", \"banana\", \"cherry\")\n",
    "\n",
    "print(fruits)"
   ]
  },
  {
   "cell_type": "code",
   "execution_count": 104,
   "id": "1d480c96-ab25-4070-a40d-c8db413e9839",
   "metadata": {},
   "outputs": [
    {
     "name": "stdout",
     "output_type": "stream",
     "text": [
      "apple\n",
      "banana\n",
      "cherry\n"
     ]
    }
   ],
   "source": [
    "fruits = (\"apple\", \"banana\", \"cherry\")\n",
    "\n",
    "(green, yellow, red) = fruits\n",
    "\n",
    "print(green)\n",
    "print(yellow)\n",
    "print(red)"
   ]
  },
  {
   "cell_type": "code",
   "execution_count": 106,
   "id": "9ab23304-d7a8-41a8-b030-c82b4fc473bd",
   "metadata": {},
   "outputs": [
    {
     "name": "stdout",
     "output_type": "stream",
     "text": [
      "apple\n",
      "banana\n",
      "['cherry', 'strawberry', 'raspberry']\n"
     ]
    }
   ],
   "source": [
    "fruits = (\"apple\", \"banana\", \"cherry\", \"strawberry\", \"raspberry\")\n",
    "\n",
    "(green, yellow, *red) = fruits\n",
    "\n",
    "print(green)\n",
    "print(yellow)\n",
    "print(red)"
   ]
  },
  {
   "cell_type": "markdown",
   "id": "6f722736-412e-4900-94dd-3c40bab41596",
   "metadata": {},
   "source": [
    "# Using Asterisk* "
   ]
  },
  {
   "cell_type": "markdown",
   "id": "a3eec877-d868-4097-bbba-cf53caa2fe19",
   "metadata": {},
   "source": [
    "- If the number of variables is less than the number of values, you can add an * to the variable name and the values will be assigned to the variable as a list:"
   ]
  },
  {
   "cell_type": "code",
   "execution_count": 114,
   "id": "ef69526d-9be1-4b21-9aee-e4f7bb84a941",
   "metadata": {},
   "outputs": [
    {
     "name": "stdout",
     "output_type": "stream",
     "text": [
      "aman\n",
      "['hero', 'haraiya', 'boss']\n"
     ]
    }
   ],
   "source": [
    "tuples = ('aman','paudel' , 'hero','haraiya', 'boss')\n",
    "(red , blue, *yellow) = tuples\n",
    "print(red)\n",
    "print(yellow)"
   ]
  },
  {
   "cell_type": "markdown",
   "id": "525336bf-95ee-4260-98a2-53a49445ea14",
   "metadata": {},
   "source": [
    "- If the asterisk is added to another variable name than the last, Python will assign values to the variable until the number of values left matches the number of variables left."
   ]
  },
  {
   "cell_type": "code",
   "execution_count": 118,
   "id": "657c2130-ee5c-4aa0-9c6c-f7d3040827eb",
   "metadata": {},
   "outputs": [
    {
     "name": "stdout",
     "output_type": "stream",
     "text": [
      "apple\n",
      "['mango', 'papaya', 'pineapple']\n",
      "cherry\n"
     ]
    }
   ],
   "source": [
    "fruits = (\"apple\", \"mango\", \"papaya\", \"pineapple\", \"cherry\")\n",
    "\n",
    "(green, *tropic, red) = fruits\n",
    "\n",
    "print(green)\n",
    "print(tropic)\n",
    "print(red)"
   ]
  },
  {
   "cell_type": "markdown",
   "id": "97e5b509-501d-4317-ba0d-97e0568ca270",
   "metadata": {},
   "source": [
    "# Loop"
   ]
  },
  {
   "cell_type": "code",
   "execution_count": 121,
   "id": "d9aac254-a169-48ee-8468-c5e013a59249",
   "metadata": {},
   "outputs": [
    {
     "name": "stdout",
     "output_type": "stream",
     "text": [
      "apple\n",
      "banana\n",
      "cherry\n",
      "strawberry\n",
      "raspberry\n"
     ]
    }
   ],
   "source": [
    "fruits = (\"apple\", \"banana\", \"cherry\", \"strawberry\", \"raspberry\")\n",
    "for i in fruits:\n",
    "    print(i)"
   ]
  },
  {
   "cell_type": "markdown",
   "id": "e9aca9b7-2be5-4bd5-9a77-4d4f0347d5a6",
   "metadata": {},
   "source": [
    "# While loop in tuples()"
   ]
  },
  {
   "cell_type": "code",
   "execution_count": 131,
   "id": "e9592928-04bd-40bc-a55d-86cdcb46bcac",
   "metadata": {},
   "outputs": [
    {
     "name": "stdout",
     "output_type": "stream",
     "text": [
      "apple\n",
      "banana\n",
      "cherry\n",
      "strawberry\n",
      "raspberry\n"
     ]
    }
   ],
   "source": [
    "fruits = (\"apple\", \"banana\", \"cherry\", \"strawberry\", \"raspberry\")\n",
    "i =0\n",
    "while i< len(fruits):\n",
    "\n",
    "    print(fruits[i])\n",
    "    i= i+1\n",
    "    "
   ]
  },
  {
   "cell_type": "markdown",
   "id": "f04e84cb-b373-48d6-bcf8-2e50f0549f8d",
   "metadata": {},
   "source": [
    "# Join Tuples "
   ]
  },
  {
   "cell_type": "code",
   "execution_count": 1,
   "id": "4e963277-3ed4-4968-9690-3fd4dd6cd2fc",
   "metadata": {},
   "outputs": [
    {
     "name": "stdout",
     "output_type": "stream",
     "text": [
      "('a', 'b', 'c', 1, 2, 3)\n"
     ]
    }
   ],
   "source": [
    "tuple1 = (\"a\", \"b\" , \"c\")\n",
    "tuple2 = (1, 2, 3)\n",
    "\n",
    "tuple3 = tuple1 + tuple2\n",
    "print(tuple3)"
   ]
  },
  {
   "cell_type": "markdown",
   "id": "aaca7d58-74be-4e72-9976-1d5a4b59f945",
   "metadata": {},
   "source": [
    "# Multiply the tuples"
   ]
  },
  {
   "cell_type": "code",
   "execution_count": 5,
   "id": "91a88000-97c4-4dfc-86fb-8b5b80cce554",
   "metadata": {},
   "outputs": [
    {
     "name": "stdout",
     "output_type": "stream",
     "text": [
      "('a', 'b', 'c', 'a', 'b', 'c')\n"
     ]
    }
   ],
   "source": [
    "tuple1 = (\"a\", \"b\" , \"c\")\n",
    "y = tuple1*2\n",
    "print(y)"
   ]
  },
  {
   "cell_type": "markdown",
   "id": "18c289fd-9d6f-41dc-a485-5b54157748a8",
   "metadata": {},
   "source": [
    "# Method"
   ]
  },
  {
   "cell_type": "code",
   "execution_count": 3,
   "id": "7b36c3f7-31e4-4901-ad71-cea2bf02914a",
   "metadata": {},
   "outputs": [
    {
     "name": "stdout",
     "output_type": "stream",
     "text": [
      "2\n"
     ]
    }
   ],
   "source": [
    "thistuple = (1, 3, 7, 8, 7, 5, 4, 6, 8, 5)\n",
    "\n",
    "x = thistuple.count(5)\n",
    "\n",
    "print(x)\n"
   ]
  },
  {
   "cell_type": "code",
   "execution_count": null,
   "id": "dec567e2-b3ee-4b20-9ea2-946fd5173c98",
   "metadata": {},
   "outputs": [],
   "source": []
  }
 ],
 "metadata": {
  "kernelspec": {
   "display_name": "Python 3 (ipykernel)",
   "language": "python",
   "name": "python3"
  },
  "language_info": {
   "codemirror_mode": {
    "name": "ipython",
    "version": 3
   },
   "file_extension": ".py",
   "mimetype": "text/x-python",
   "name": "python",
   "nbconvert_exporter": "python",
   "pygments_lexer": "ipython3",
   "version": "3.12.7"
  }
 },
 "nbformat": 4,
 "nbformat_minor": 5
}
