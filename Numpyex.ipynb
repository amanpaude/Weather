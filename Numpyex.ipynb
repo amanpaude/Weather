{
 "cells": [
  {
   "cell_type": "code",
   "execution_count": 3,
   "id": "65e473f2-744b-4d87-bef8-907caa280798",
   "metadata": {},
   "outputs": [],
   "source": [
    "import numpy as np\n"
   ]
  },
  {
   "cell_type": "code",
   "execution_count": 5,
   "id": "94e42647-571a-44c9-8848-ec7163fca0e2",
   "metadata": {},
   "outputs": [
    {
     "ename": "AttributeError",
     "evalue": "module 'numpy' has no attribute '_version_'",
     "output_type": "error",
     "traceback": [
      "\u001b[1;31m---------------------------------------------------------------------------\u001b[0m",
      "\u001b[1;31mAttributeError\u001b[0m                            Traceback (most recent call last)",
      "Cell \u001b[1;32mIn[5], line 1\u001b[0m\n\u001b[1;32m----> 1\u001b[0m \u001b[38;5;28mprint\u001b[39m(np\u001b[38;5;241m.\u001b[39m_version_)\n\u001b[0;32m      2\u001b[0m np\u001b[38;5;241m.\u001b[39mshow_config()\n",
      "File \u001b[1;32m~\\anaconda3\\Lib\\site-packages\\numpy\\__init__.py:333\u001b[0m, in \u001b[0;36m__getattr__\u001b[1;34m(attr)\u001b[0m\n\u001b[0;32m    330\u001b[0m     \u001b[38;5;124m\"\u001b[39m\u001b[38;5;124mRemoved in NumPy 1.25.0\u001b[39m\u001b[38;5;124m\"\u001b[39m\n\u001b[0;32m    331\u001b[0m     \u001b[38;5;28;01mraise\u001b[39;00m \u001b[38;5;167;01mRuntimeError\u001b[39;00m(\u001b[38;5;124m\"\u001b[39m\u001b[38;5;124mTester was removed in NumPy 1.25.\u001b[39m\u001b[38;5;124m\"\u001b[39m)\n\u001b[1;32m--> 333\u001b[0m \u001b[38;5;28;01mraise\u001b[39;00m \u001b[38;5;167;01mAttributeError\u001b[39;00m(\u001b[38;5;124m\"\u001b[39m\u001b[38;5;124mmodule \u001b[39m\u001b[38;5;132;01m{!r}\u001b[39;00m\u001b[38;5;124m has no attribute \u001b[39m\u001b[38;5;124m\"\u001b[39m\n\u001b[0;32m    334\u001b[0m                      \u001b[38;5;124m\"\u001b[39m\u001b[38;5;132;01m{!r}\u001b[39;00m\u001b[38;5;124m\"\u001b[39m\u001b[38;5;241m.\u001b[39mformat(\u001b[38;5;18m__name__\u001b[39m, attr))\n",
      "\u001b[1;31mAttributeError\u001b[0m: module 'numpy' has no attribute '_version_'"
     ]
    }
   ],
   "source": [
    "print(np._version_)\n",
    "np.show_config()"
   ]
  },
  {
   "cell_type": "code",
   "execution_count": 11,
   "id": "60cd648f-24f8-4ba9-8251-db05953d1e30",
   "metadata": {},
   "outputs": [
    {
     "data": {
      "text/plain": [
       "array([0., 0., 0., 0., 0., 0., 0., 0., 0., 0.])"
      ]
     },
     "execution_count": 11,
     "metadata": {},
     "output_type": "execute_result"
    }
   ],
   "source": [
    "np.zeros(10)"
   ]
  },
  {
   "cell_type": "code",
   "execution_count": 18,
   "id": "1bdce1e1-ffeb-4c68-94a7-a27292c37820",
   "metadata": {},
   "outputs": [],
   "source": [
    "a= np.zeros(10)\n"
   ]
  },
  {
   "cell_type": "code",
   "execution_count": 22,
   "id": "1e95945a-bea1-4b8a-8f72-5adb2958be1c",
   "metadata": {},
   "outputs": [],
   "source": [
    "a[4] = 5"
   ]
  },
  {
   "cell_type": "code",
   "execution_count": 24,
   "id": "658db720-dd86-4a1b-b36c-4e59ad472dbc",
   "metadata": {},
   "outputs": [
    {
     "name": "stdout",
     "output_type": "stream",
     "text": [
      "[0. 0. 0. 0. 5. 0. 0. 0. 0. 0.]\n"
     ]
    }
   ],
   "source": [
    "print(a)"
   ]
  },
  {
   "cell_type": "code",
   "execution_count": 28,
   "id": "0d4b987b-29fd-4af0-80c0-e45c28976f6b",
   "metadata": {},
   "outputs": [
    {
     "name": "stdout",
     "output_type": "stream",
     "text": [
      "[10 11 12 13 14 15 16 17 18 19 20 21 22 23 24 25 26 27 28 29 30 31 32 33\n",
      " 34 35 36 37 38 39 40 41 42 43 44 45 46 47 48 49]\n"
     ]
    }
   ],
   "source": [
    "z= np.arange(10,50)\n",
    "print(z)"
   ]
  },
  {
   "cell_type": "code",
   "execution_count": 32,
   "id": "88de0460-21b7-4af8-9edb-62adf7c3ed27",
   "metadata": {},
   "outputs": [
    {
     "name": "stdout",
     "output_type": "stream",
     "text": [
      "[[[0 1 2]\n",
      "  [3 4 5]\n",
      "  [6 7 8]]]\n"
     ]
    }
   ],
   "source": [
    "a = np.array([[[0,1,2],[3,4,5],[6,7,8]]])\n",
    "print(a)"
   ]
  },
  {
   "cell_type": "code",
   "execution_count": 34,
   "id": "dd0fa6d1-d3f9-410f-9f13-502db86b6dfc",
   "metadata": {},
   "outputs": [
    {
     "name": "stdout",
     "output_type": "stream",
     "text": [
      "[[0 1 2]\n",
      " [3 4 5]\n",
      " [6 7 8]]\n"
     ]
    }
   ],
   "source": [
    "z= np.arange(0,9).reshape(3,3)\n",
    "print(z)"
   ]
  },
  {
   "cell_type": "code",
   "execution_count": 38,
   "id": "c5857c4b-d8c4-4ce8-be70-5b8481860134",
   "metadata": {},
   "outputs": [
    {
     "name": "stdout",
     "output_type": "stream",
     "text": [
      "(array([0, 1, 4], dtype=int64),)\n"
     ]
    }
   ],
   "source": [
    "nz= np.nonzero([1,2,0,0,4,0])\n",
    "print(nz)"
   ]
  },
  {
   "cell_type": "code",
   "execution_count": 46,
   "id": "c20d1ca1-2c85-4510-836b-9ee430ec45ab",
   "metadata": {},
   "outputs": [
    {
     "name": "stdout",
     "output_type": "stream",
     "text": [
      "[[1. 0. 0.]\n",
      " [0. 1. 0.]\n",
      " [0. 0. 1.]]\n"
     ]
    }
   ],
   "source": [
    "z=np.eye(3)\n",
    "print(z)"
   ]
  },
  {
   "cell_type": "code",
   "execution_count": 58,
   "id": "1cf24ab5-42d4-447d-92ff-0f8d3edeb8aa",
   "metadata": {},
   "outputs": [
    {
     "name": "stdout",
     "output_type": "stream",
     "text": [
      "[[[0.24436227 0.99827263 0.91028786]\n",
      "  [0.5001733  0.40424118 0.41694161]\n",
      "  [0.50316673 0.88513212 0.89427422]]\n",
      "\n",
      " [[0.30077574 0.47811086 0.91430642]\n",
      "  [0.65918987 0.03437867 0.43334985]\n",
      "  [0.3850184  0.19225034 0.14696688]]\n",
      "\n",
      " [[0.86761567 0.71464341 0.67202049]\n",
      "  [0.13909352 0.49171873 0.37631748]\n",
      "  [0.8781866  0.02656993 0.49252101]]]\n"
     ]
    }
   ],
   "source": [
    "z= np.random.random((3,3,3))\n",
    "print(z)"
   ]
  },
  {
   "cell_type": "code",
   "execution_count": 64,
   "id": "02b11493-556d-4711-a6f0-f8e683d2ee6c",
   "metadata": {},
   "outputs": [
    {
     "name": "stdout",
     "output_type": "stream",
     "text": [
      "[[0.85875558 0.64254456 0.99685561 0.9362246  0.57884774 0.53533936\n",
      "  0.10918975 0.61239908 0.13952101 0.07940948]\n",
      " [0.10698198 0.46658461 0.38547026 0.18776038 0.36143691 0.98028909\n",
      "  0.45363097 0.9054699  0.22185656 0.25414252]\n",
      " [0.42784616 0.89413021 0.3108893  0.65920727 0.12808083 0.69331873\n",
      "  0.38513678 0.2523571  0.59816088 0.1195904 ]\n",
      " [0.40688193 0.08856047 0.84818879 0.91276126 0.95118048 0.58178764\n",
      "  0.62258596 0.37563039 0.70373458 0.22841912]\n",
      " [0.22444175 0.22637896 0.56494715 0.16609576 0.90745528 0.46345417\n",
      "  0.99398478 0.05674412 0.33664085 0.21192475]\n",
      " [0.85221528 0.3914419  0.76646924 0.68895741 0.23082854 0.77098747\n",
      "  0.82477875 0.97754131 0.00257019 0.45336216]\n",
      " [0.64128229 0.16848152 0.76460957 0.2333894  0.47630772 0.28537518\n",
      "  0.76991258 0.25841524 0.74065118 0.16980119]\n",
      " [0.7649229  0.28513869 0.04175943 0.97438117 0.38634182 0.17471283\n",
      "  0.96530987 0.19641076 0.95276929 0.40869233]\n",
      " [0.86715835 0.03894103 0.1884785  0.29264224 0.75568142 0.66416297\n",
      "  0.90216143 0.22337161 0.71522408 0.60366612]\n",
      " [0.87153615 0.51747122 0.93836623 0.53299177 0.9673996  0.11386007\n",
      "  0.02305835 0.10221627 0.38106828 0.63219753]]\n"
     ]
    }
   ],
   "source": [
    "z= np.random.random((10,10))\n",
    "print(z)"
   ]
  },
  {
   "cell_type": "code",
   "execution_count": 66,
   "id": "1432eb67-e7d9-4ef8-b74a-a676f04adc41",
   "metadata": {},
   "outputs": [
    {
     "name": "stdout",
     "output_type": "stream",
     "text": [
      "0.9968556101915634 0.002570194807303694\n"
     ]
    }
   ],
   "source": [
    "zmax, zmin= z.max(), z.min()\n",
    "print(zmax, zmin)"
   ]
  },
  {
   "cell_type": "code",
   "execution_count": 68,
   "id": "0694fe64-6783-4252-962f-b3cbf68bc7a4",
   "metadata": {},
   "outputs": [
    {
     "name": "stdout",
     "output_type": "stream",
     "text": [
      "0.4847700945067082\n"
     ]
    }
   ],
   "source": [
    "z= np.random.random((30))\n",
    "mean = z.mean()\n",
    "print(mean)"
   ]
  },
  {
   "cell_type": "code",
   "execution_count": 72,
   "id": "ae083168-bb8f-4a6f-b15b-653fe0daec41",
   "metadata": {},
   "outputs": [
    {
     "name": "stdout",
     "output_type": "stream",
     "text": [
      "[[1. 1. 1. 1. 1. 1. 1. 1. 1. 1.]\n",
      " [1. 1. 1. 1. 1. 1. 1. 1. 1. 1.]\n",
      " [1. 1. 1. 1. 1. 1. 1. 1. 1. 1.]\n",
      " [1. 1. 1. 1. 1. 1. 1. 1. 1. 1.]\n",
      " [1. 1. 1. 1. 1. 1. 1. 1. 1. 1.]\n",
      " [1. 1. 1. 1. 1. 1. 1. 1. 1. 1.]\n",
      " [1. 1. 1. 1. 1. 1. 1. 1. 1. 1.]\n",
      " [1. 1. 1. 1. 1. 1. 1. 1. 1. 1.]\n",
      " [1. 1. 1. 1. 1. 1. 1. 1. 1. 1.]\n",
      " [1. 1. 1. 1. 1. 1. 1. 1. 1. 1.]]\n"
     ]
    }
   ],
   "source": [
    "z = np.ones((10,10))\n",
    "print(z)"
   ]
  },
  {
   "cell_type": "code",
   "execution_count": 88,
   "id": "d74d8490-a0bf-4dac-b822-9ac4c8e2bb13",
   "metadata": {},
   "outputs": [],
   "source": [
    "z[1:9, 1:9]= 0"
   ]
  },
  {
   "cell_type": "code",
   "execution_count": 90,
   "id": "794ea7be-5f3a-467f-876b-473577180dae",
   "metadata": {},
   "outputs": [
    {
     "name": "stdout",
     "output_type": "stream",
     "text": [
      "[[1. 1. 1. 1. 1. 1. 1. 1. 1. 1.]\n",
      " [1. 0. 0. 0. 0. 0. 0. 0. 0. 1.]\n",
      " [1. 0. 0. 0. 0. 0. 0. 0. 0. 1.]\n",
      " [1. 0. 0. 0. 0. 0. 0. 0. 0. 1.]\n",
      " [1. 0. 0. 0. 0. 0. 0. 0. 0. 1.]\n",
      " [1. 0. 0. 0. 0. 0. 0. 0. 0. 1.]\n",
      " [1. 0. 0. 0. 0. 0. 0. 0. 0. 1.]\n",
      " [1. 0. 0. 0. 0. 0. 0. 0. 0. 1.]\n",
      " [1. 0. 0. 0. 0. 0. 0. 0. 0. 1.]\n",
      " [1. 1. 1. 1. 1. 1. 1. 1. 1. 1.]]\n"
     ]
    }
   ],
   "source": [
    "print(z)"
   ]
  },
  {
   "cell_type": "code",
   "execution_count": 104,
   "id": "67ba8a27-225f-4f84-9a19-dbf0bd5a33e5",
   "metadata": {},
   "outputs": [
    {
     "data": {
      "text/plain": [
       "False"
      ]
     },
     "execution_count": 104,
     "metadata": {},
     "output_type": "execute_result"
    }
   ],
   "source": [
    "0.3 == 3*0.1"
   ]
  },
  {
   "cell_type": "code",
   "execution_count": 108,
   "id": "920f4ee3-fcd4-43fc-92a6-adb80718ee1c",
   "metadata": {},
   "outputs": [
    {
     "name": "stdout",
     "output_type": "stream",
     "text": [
      "<function vstack at 0x000001EC142B7420>\n"
     ]
    }
   ],
   "source": [
    "v1 = np.array([1,2,3,4,5])\n",
    "v2= np.array([1,2,3,4,5])\n",
    "g= np.vstack\n",
    "print(g)"
   ]
  },
  {
   "cell_type": "code",
   "execution_count": 128,
   "id": "30651463-9163-4998-bdfb-1fcc8432c0f9",
   "metadata": {},
   "outputs": [],
   "source": [
    "g= np.diag(1+np.arange(4), k= -1)"
   ]
  },
  {
   "cell_type": "code",
   "execution_count": 130,
   "id": "69a182c5-625a-451f-a191-349cc3c1319b",
   "metadata": {},
   "outputs": [
    {
     "name": "stdout",
     "output_type": "stream",
     "text": [
      "[[0 0 0 0 0]\n",
      " [1 0 0 0 0]\n",
      " [0 2 0 0 0]\n",
      " [0 0 3 0 0]\n",
      " [0 0 0 4 0]]\n"
     ]
    }
   ],
   "source": [
    "print(g)"
   ]
  },
  {
   "cell_type": "code",
   "execution_count": 170,
   "id": "96100cc6-4a78-4337-83a5-5a68b96b0da0",
   "metadata": {},
   "outputs": [
    {
     "name": "stdout",
     "output_type": "stream",
     "text": [
      "[[0 0 0 0 0 0 0 0]\n",
      " [0 0 0 0 0 0 0 0]\n",
      " [0 0 0 0 0 0 0 0]\n",
      " [0 0 0 0 0 0 0 0]\n",
      " [0 0 0 0 0 0 0 0]\n",
      " [0 0 0 0 0 0 0 0]\n",
      " [0 0 0 0 0 0 0 0]\n",
      " [0 0 0 0 0 0 0 0]]\n"
     ]
    }
   ],
   "source": [
    "z= np.zeros((8,8), dtype= int)\n",
    "print(z)"
   ]
  },
  {
   "cell_type": "code",
   "execution_count": 174,
   "id": "410bbc56-5a25-4f10-9e10-464477bedce5",
   "metadata": {},
   "outputs": [],
   "source": []
  },
  {
   "cell_type": "code",
   "execution_count": 176,
   "id": "65f25bef-935e-4e8f-8d62-5b9a66723e6d",
   "metadata": {},
   "outputs": [
    {
     "name": "stdout",
     "output_type": "stream",
     "text": [
      "[[0 0 0 0 0 0 0 0]\n",
      " [0 1 1 1 1 1 1 0]\n",
      " [0 1 1 1 1 1 1 0]\n",
      " [0 1 1 1 1 1 1 0]\n",
      " [0 1 1 1 1 1 1 0]\n",
      " [0 1 1 1 1 1 1 0]\n",
      " [0 1 1 1 1 1 1 0]\n",
      " [0 0 0 0 0 0 0 0]]\n"
     ]
    }
   ],
   "source": [
    "print(z)"
   ]
  },
  {
   "cell_type": "code",
   "execution_count": 196,
   "id": "dd25384f-445e-4658-a1e1-78470fa8bc3b",
   "metadata": {},
   "outputs": [
    {
     "name": "stdout",
     "output_type": "stream",
     "text": [
      "[[0 1 0 1 0 1 0 1]\n",
      " [1 0 1 0 1 0 1 0]\n",
      " [0 1 0 1 0 1 0 1]\n",
      " [1 0 1 0 1 0 1 0]\n",
      " [0 1 0 1 0 1 0 1]\n",
      " [1 0 1 0 1 0 1 0]\n",
      " [0 1 0 1 0 1 0 1]\n",
      " [1 0 1 0 1 0 1 0]]\n"
     ]
    }
   ],
   "source": [
    "z= np.zeros((8,8), dtype= int)\n",
    "z[1::2, ::2]=1 \n",
    "z[::2, 1::2]=1\n",
    "print(z)"
   ]
  },
  {
   "cell_type": "code",
   "execution_count": null,
   "id": "64c071aa-5657-4a69-8cb5-7c3e2f5e7abd",
   "metadata": {},
   "outputs": [],
   "source": [
    "create a checkboard using tile function"
   ]
  },
  {
   "cell_type": "code",
   "execution_count": 220,
   "id": "42e47c04-3dce-4152-9c40-f8a4d4b994e2",
   "metadata": {},
   "outputs": [],
   "source": [
    "z= np.tile(np.array([[0,1],[1,0]]), (3,3))"
   ]
  },
  {
   "cell_type": "code",
   "execution_count": 222,
   "id": "f53ae124-3f9d-4564-a9bf-f54de50e0b3a",
   "metadata": {},
   "outputs": [
    {
     "name": "stdout",
     "output_type": "stream",
     "text": [
      "[[0 1 0 1 0 1]\n",
      " [1 0 1 0 1 0]\n",
      " [0 1 0 1 0 1]\n",
      " [1 0 1 0 1 0]\n",
      " [0 1 0 1 0 1]\n",
      " [1 0 1 0 1 0]]\n"
     ]
    }
   ],
   "source": [
    "print(z)"
   ]
  },
  {
   "cell_type": "code",
   "execution_count": 236,
   "id": "ea408f83-3ff8-4541-9716-582becac8f07",
   "metadata": {},
   "outputs": [
    {
     "name": "stdout",
     "output_type": "stream",
     "text": [
      "[[-0.4896303  -1.11565033 -0.19622016 -0.81645571 -0.17953251]\n",
      " [-1.06464363 -0.46464042 -0.20075848 -0.42845989 -0.75696228]\n",
      " [-0.06598661 -0.28814    -0.95544875 -0.50149353 -0.18884549]\n",
      " [-0.75253317 -0.90787357 -0.78014895 -0.77223112 -0.83351233]\n",
      " [-0.3983318   0.         -0.21332255 -0.11684179 -1.10922714]]\n"
     ]
    }
   ],
   "source": [
    "# Normalize 5*5 random matrix\n",
    "z=np.random.random([5,5])\n",
    "z= (z-z.max())/(zmax-z.min())\n",
    "print(z)\n",
    "\n"
   ]
  },
  {
   "cell_type": "code",
   "execution_count": 15,
   "id": "00419a8a-705d-41a8-9b6f-fb87e8f3cc2e",
   "metadata": {},
   "outputs": [
    {
     "ename": "AttributeError",
     "evalue": "module 'numpy' has no attribute 'datatype'",
     "output_type": "error",
     "traceback": [
      "\u001b[1;31m---------------------------------------------------------------------------\u001b[0m",
      "\u001b[1;31mAttributeError\u001b[0m                            Traceback (most recent call last)",
      "Cell \u001b[1;32mIn[15], line 2\u001b[0m\n\u001b[0;32m      1\u001b[0m \u001b[38;5;66;03m# Create the custom datatype that describe a colur as four unisigned byte\u001b[39;00m\n\u001b[1;32m----> 2\u001b[0m colour \u001b[38;5;241m=\u001b[39m np\u001b[38;5;241m.\u001b[39mdatatype([(\u001b[38;5;124m\"\u001b[39m\u001b[38;5;124mr\u001b[39m\u001b[38;5;124m\"\u001b[39m, np\u001b[38;5;241m.\u001b[39mubyte,\u001b[38;5;241m1\u001b[39m),\n\u001b[0;32m      3\u001b[0m                       (\u001b[38;5;124m\"\u001b[39m\u001b[38;5;124mr\u001b[39m\u001b[38;5;124m\"\u001b[39m, np\u001b[38;5;241m.\u001b[39mubyte,\u001b[38;5;241m1\u001b[39m),\n\u001b[0;32m      4\u001b[0m                       (\u001b[38;5;124m\"\u001b[39m\u001b[38;5;124mr\u001b[39m\u001b[38;5;124m\"\u001b[39m, np\u001b[38;5;241m.\u001b[39mubyte,\u001b[38;5;241m1\u001b[39m),\n\u001b[0;32m      5\u001b[0m                       (\u001b[38;5;124m\"\u001b[39m\u001b[38;5;124mr\u001b[39m\u001b[38;5;124m\"\u001b[39m, np\u001b[38;5;241m.\u001b[39mubyte,\u001b[38;5;241m1\u001b[39m)])\n",
      "File \u001b[1;32m~\\anaconda3\\Lib\\site-packages\\numpy\\__init__.py:333\u001b[0m, in \u001b[0;36m__getattr__\u001b[1;34m(attr)\u001b[0m\n\u001b[0;32m    330\u001b[0m     \u001b[38;5;124m\"\u001b[39m\u001b[38;5;124mRemoved in NumPy 1.25.0\u001b[39m\u001b[38;5;124m\"\u001b[39m\n\u001b[0;32m    331\u001b[0m     \u001b[38;5;28;01mraise\u001b[39;00m \u001b[38;5;167;01mRuntimeError\u001b[39;00m(\u001b[38;5;124m\"\u001b[39m\u001b[38;5;124mTester was removed in NumPy 1.25.\u001b[39m\u001b[38;5;124m\"\u001b[39m)\n\u001b[1;32m--> 333\u001b[0m \u001b[38;5;28;01mraise\u001b[39;00m \u001b[38;5;167;01mAttributeError\u001b[39;00m(\u001b[38;5;124m\"\u001b[39m\u001b[38;5;124mmodule \u001b[39m\u001b[38;5;132;01m{!r}\u001b[39;00m\u001b[38;5;124m has no attribute \u001b[39m\u001b[38;5;124m\"\u001b[39m\n\u001b[0;32m    334\u001b[0m                      \u001b[38;5;124m\"\u001b[39m\u001b[38;5;132;01m{!r}\u001b[39;00m\u001b[38;5;124m\"\u001b[39m\u001b[38;5;241m.\u001b[39mformat(\u001b[38;5;18m__name__\u001b[39m, attr))\n",
      "\u001b[1;31mAttributeError\u001b[0m: module 'numpy' has no attribute 'datatype'"
     ]
    }
   ],
   "source": [
    "# Create the custom datatype that describe a colur as four unisigned byte\n",
    "colour = np.datatype([(\"r\", np.ubyte,1),\n",
    "                      (\"r\", np.ubyte,1),\n",
    "                      (\"r\", np.ubyte,1),\n",
    "                      (\"r\", np.ubyte,1)])"
   ]
  },
  {
   "cell_type": "code",
   "execution_count": 11,
   "id": "3372ef30-42ee-42f7-a7e4-48fc19117eb2",
   "metadata": {},
   "outputs": [
    {
     "name": "stdout",
     "output_type": "stream",
     "text": [
      "int32\n",
      "float32\n"
     ]
    }
   ],
   "source": [
    "import numpy as np\n",
    "\n",
    "# Define a NumPy array\n",
    "arr = np.array([1, 2, 3, 4])\n",
    "\n",
    "# Check the data type of the array\n",
    "print(arr.dtype)  # Output: int64 (or another type depending on your system)\n",
    "\n",
    "# Create a NumPy array with a specific data type\n",
    "arr_float = np.array([1, 2, 3, 4], dtype=np.float32)\n",
    "print(arr_float.dtype)  # Output: float32\n"
   ]
  },
  {
   "cell_type": "code",
   "execution_count": 19,
   "id": "c10ec0e6-82ff-4cff-afaa-0d0be0e642f6",
   "metadata": {},
   "outputs": [
    {
     "name": "stdout",
     "output_type": "stream",
     "text": [
      "[(255,   0, 0, 255) (  0, 255, 0, 255)]\n",
      "(255, 0, 0, 255)\n"
     ]
    }
   ],
   "source": [
    "import numpy as np\n",
    "\n",
    "# Define a custom data type for color with 4 unsigned bytes (r, g, b, a)\n",
    "colour = np.dtype([(\"r\", np.ubyte),  # Red channel\n",
    "                  (\"g\", np.ubyte),  # Green channel\n",
    "                  (\"b\", np.ubyte),  # Blue channel\n",
    "                  (\"a\", np.ubyte)]) # Alpha channel\n",
    "\n",
    "# Now you can create an array of that custom datatype\n",
    "color_array = np.array([(255, 0, 0, 255), (0, 255, 0, 255)], dtype=colour)\n",
    "\n",
    "print(color_array)\n",
    "print(color_array[0])  # Accessing the first color\n"
   ]
  },
  {
   "cell_type": "code",
   "execution_count": 27,
   "id": "c94fd710-54d6-454d-8077-9a76ccb22c52",
   "metadata": {},
   "outputs": [
    {
     "name": "stdout",
     "output_type": "stream",
     "text": [
      "[[3. 3.]\n",
      " [3. 3.]\n",
      " [3. 3.]\n",
      " [3. 3.]\n",
      " [3. 3.]]\n"
     ]
    }
   ],
   "source": [
    "a = np.ones((5,3))\n",
    "b= np.ones((3,2))\n",
    "z= np.dot(a,b)\n",
    "print(z)"
   ]
  },
  {
   "cell_type": "code",
   "execution_count": 39,
   "id": "524b9f1f-ac8a-408a-8c07-7feea8a085be",
   "metadata": {},
   "outputs": [
    {
     "name": "stdout",
     "output_type": "stream",
     "text": [
      "[ 0  1  2  3 -4 -5 -6 -7 -8  9 10]\n"
     ]
    }
   ],
   "source": [
    "#negate all the element which are between 3 and 8\n",
    "z= np.arange(11)\n",
    "z[(z>3)& (z<=8)] *= -1\n",
    "print(z)\n"
   ]
  },
  {
   "cell_type": "code",
   "execution_count": 58,
   "id": "c265b503-687f-4e7d-974b-7346e749c585",
   "metadata": {},
   "outputs": [
    {
     "name": "stdout",
     "output_type": "stream",
     "text": [
      "10\n"
     ]
    }
   ],
   "source": [
    "print(sum(range(5), -1))\n",
    "\n"
   ]
  },
  {
   "cell_type": "code",
   "execution_count": 52,
   "id": "fca58718-85a3-437e-83a7-2f25dd253a39",
   "metadata": {},
   "outputs": [
    {
     "name": "stdout",
     "output_type": "stream",
     "text": [
      "10\n"
     ]
    }
   ],
   "source": [
    "from numpy import*\n",
    "print(sum(range(5),-1))"
   ]
  },
  {
   "cell_type": "code",
   "execution_count": null,
   "id": "b7214583-b558-43e3-b217-49dcd4196614",
   "metadata": {},
   "outputs": [],
   "source": []
  }
 ],
 "metadata": {
  "kernelspec": {
   "display_name": "Python 3 (ipykernel)",
   "language": "python",
   "name": "python3"
  },
  "language_info": {
   "codemirror_mode": {
    "name": "ipython",
    "version": 3
   },
   "file_extension": ".py",
   "mimetype": "text/x-python",
   "name": "python",
   "nbconvert_exporter": "python",
   "pygments_lexer": "ipython3",
   "version": "3.12.7"
  }
 },
 "nbformat": 4,
 "nbformat_minor": 5
}
