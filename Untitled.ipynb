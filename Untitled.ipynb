{
 "cells": [
  {
   "cell_type": "markdown",
   "id": "942cdb32-e7f6-4e88-af70-a2c0af6c0348",
   "metadata": {},
   "source": [
    "# Write a Python program that finds all prime numbers up to a given number"
   ]
  },
  {
   "cell_type": "code",
   "execution_count": 5,
   "id": "9bd2478e-7c60-4417-bbba-aa56f9e83751",
   "metadata": {},
   "outputs": [
    {
     "name": "stdin",
     "output_type": "stream",
     "text": [
      "enter the number 23\n"
     ]
    },
    {
     "name": "stdout",
     "output_type": "stream",
     "text": [
      "This is a prime number\n"
     ]
    }
   ],
   "source": [
    "a = eval(input('enter the number'))\n",
    "if(a%2==0):\n",
    "    print('This is not prime number')\n",
    "\n",
    "else:\n",
    "    print('This is a prime number')"
   ]
  },
  {
   "cell_type": "markdown",
   "id": "8c59af17-e6dc-48de-8b35-11d723ab65be",
   "metadata": {},
   "source": [
    "# Write a Python program that guess the number"
   ]
  },
  {
   "cell_type": "code",
   "execution_count": 26,
   "id": "44e5375b-76ef-4081-b498-2d9fd02d463e",
   "metadata": {},
   "outputs": [],
   "source": [
    "import random"
   ]
  },
  {
   "cell_type": "code",
   "execution_count": null,
   "id": "cb2934f9-ec99-4a7c-8823-07b5cbe28302",
   "metadata": {},
   "outputs": [
    {
     "name": "stdout",
     "output_type": "stream",
     "text": [
      "Welcome to the number guessing game!\n"
     ]
    },
    {
     "name": "stdin",
     "output_type": "stream",
     "text": [
      "Enter a number between 1 and 100:  34\n"
     ]
    },
    {
     "name": "stdout",
     "output_type": "stream",
     "text": [
      "You are too low!\n"
     ]
    },
    {
     "name": "stdin",
     "output_type": "stream",
     "text": [
      "Enter a number between 1 and 100:  23\n"
     ]
    },
    {
     "name": "stdout",
     "output_type": "stream",
     "text": [
      "You are too low!\n"
     ]
    },
    {
     "name": "stdin",
     "output_type": "stream",
     "text": [
      "Enter a number between 1 and 100:  12\n"
     ]
    },
    {
     "name": "stdout",
     "output_type": "stream",
     "text": [
      "You are too low!\n"
     ]
    },
    {
     "name": "stdin",
     "output_type": "stream",
     "text": [
      "Enter a number between 1 and 100:  fsd\n"
     ]
    },
    {
     "name": "stdout",
     "output_type": "stream",
     "text": [
      "Please enter a valid number.\n"
     ]
    },
    {
     "name": "stdin",
     "output_type": "stream",
     "text": [
      "Enter a number between 1 and 100:  fs\n"
     ]
    },
    {
     "name": "stdout",
     "output_type": "stream",
     "text": [
      "Please enter a valid number.\n"
     ]
    },
    {
     "name": "stdin",
     "output_type": "stream",
     "text": [
      "Enter a number between 1 and 100:  90\n"
     ]
    },
    {
     "name": "stdout",
     "output_type": "stream",
     "text": [
      "You are too high!\n"
     ]
    },
    {
     "name": "stdin",
     "output_type": "stream",
     "text": [
      "Enter a number between 1 and 100:  23\n"
     ]
    },
    {
     "name": "stdout",
     "output_type": "stream",
     "text": [
      "You are too low!\n"
     ]
    },
    {
     "name": "stdin",
     "output_type": "stream",
     "text": [
      "Enter a number between 1 and 100:  43\n"
     ]
    },
    {
     "name": "stdout",
     "output_type": "stream",
     "text": [
      "You are too low!\n"
     ]
    },
    {
     "name": "stdin",
     "output_type": "stream",
     "text": [
      "Enter a number between 1 and 100:  3\n"
     ]
    },
    {
     "name": "stdout",
     "output_type": "stream",
     "text": [
      "You are too low!\n"
     ]
    },
    {
     "name": "stdin",
     "output_type": "stream",
     "text": [
      "Enter a number between 1 and 100:  b\n"
     ]
    },
    {
     "name": "stdout",
     "output_type": "stream",
     "text": [
      "Please enter a valid number.\n"
     ]
    },
    {
     "name": "stdin",
     "output_type": "stream",
     "text": [
      "Enter a number between 1 and 100:  65\n"
     ]
    },
    {
     "name": "stdout",
     "output_type": "stream",
     "text": [
      "You are too high!\n"
     ]
    },
    {
     "name": "stdin",
     "output_type": "stream",
     "text": [
      "Enter a number between 1 and 100:  65\n"
     ]
    },
    {
     "name": "stdout",
     "output_type": "stream",
     "text": [
      "You are too high!\n"
     ]
    },
    {
     "name": "stdin",
     "output_type": "stream",
     "text": [
      "Enter a number between 1 and 100:  \n"
     ]
    },
    {
     "name": "stdout",
     "output_type": "stream",
     "text": [
      "Please enter a valid number.\n"
     ]
    }
   ],
   "source": [
    "#### import random\n",
    "\n",
    "def guess_num():\n",
    "    num = random.randint(1, 100)  # Random number to guess\n",
    "    print('Welcome to the number guessing game!')\n",
    "\n",
    "    while True:\n",
    "        try:\n",
    "            guess = int(input('Enter a number between 1 and 100: '))\n",
    "            if guess == num:\n",
    "                print('Yooo, you are the winner!')\n",
    "                break\n",
    "            elif guess < num:\n",
    "                print('You are too low!')\n",
    "            else:\n",
    "                print('You are too high!')\n",
    "        except ValueError:\n",
    "            print('Please enter a valid number.')\n",
    "\n",
    "    return num  # Returning the generated number to continue if needed\n",
    "\n",
    "def play_again():\n",
    "    while True:\n",
    "        try:\n",
    "            m = int(input('If you want to play again, enter 1. If you don\\'t want to play again, enter 0: '))\n",
    "            if m == 1:\n",
    "                return True  # Continue playing\n",
    "            elif m == 0:\n",
    "                print('Bye bye!')\n",
    "                return False  # End the game\n",
    "            else:\n",
    "                print('Invalid input, please enter 1 or 0.')\n",
    "        except ValueError:\n",
    "            print('Invalid input, please enter 1 or 0.')\n",
    "\n",
    "def main():\n",
    "    playing = True\n",
    "    while playing:\n",
    "        guess_num()  # Start the guessing game\n",
    "        playing = play_again()  # Ask if the user wants to play again\n",
    "\n",
    "if __name__ == '__main__':\n",
    "    main()\n"
   ]
  },
  {
   "cell_type": "code",
   "execution_count": null,
   "id": "d4316f8c-30f6-499f-a610-09ae5749584b",
   "metadata": {},
   "outputs": [],
   "source": [
    "import random\n",
    "\n",
    "def guess_num():\n",
    "    num = random.randint(1, 100)  # Random number to guess\n",
    "    print('Welcome to the number guessing game!')\n",
    "\n",
    "    while True:\n",
    "        try:\n",
    "            guess = int(input('Enter a number between 1 and 100: '))\n",
    "            if guess == num:\n",
    "                print('Yooo, you are the winner!')\n",
    "                break\n",
    "            elif guess < num:\n",
    "                print('You are too low!')\n",
    "            else:\n",
    "                print('You are too high!')\n",
    "        except ValueError:\n",
    "            print('Please enter a valid number.')\n",
    "\n",
    "    return num  # Returning the generated number to continue if needed\n",
    "\n",
    "def play_again():\n",
    "    while True:\n",
    "        try:\n",
    "            m = int(input('If you want to play again, enter 1. If you don\\'t want to play again, enter 0: '))\n",
    "            if m == 1:\n",
    "                return True  # Continue playing\n",
    "            elif m == 0:\n",
    "                print('Bye bye!')\n",
    "                return False  # End the game\n",
    "            else:\n",
    "                print('Invalid input, please enter 1 or 0.')\n",
    "        except ValueError:\n",
    "            print('Invalid input, please enter 1 or 0.')\n",
    "\n",
    "def main():\n",
    "    playing = True\n",
    "    while playing:\n",
    "        guess_num()  # Start the guessing game\n",
    "        playing = play_again()  # Ask if the user wants to play again\n",
    "\n",
    "if __name__ == '__main__':\n",
    "    main()\n"
   ]
  },
  {
   "cell_type": "code",
   "execution_count": null,
   "id": "c1650332-7a67-4ae5-8645-aaf603a06ed8",
   "metadata": {},
   "outputs": [],
   "source": []
  }
 ],
 "metadata": {
  "kernelspec": {
   "display_name": "Python 3 (ipykernel)",
   "language": "python",
   "name": "python3"
  },
  "language_info": {
   "codemirror_mode": {
    "name": "ipython",
    "version": 3
   },
   "file_extension": ".py",
   "mimetype": "text/x-python",
   "name": "python",
   "nbconvert_exporter": "python",
   "pygments_lexer": "ipython3",
   "version": "3.12.7"
  }
 },
 "nbformat": 4,
 "nbformat_minor": 5
}
