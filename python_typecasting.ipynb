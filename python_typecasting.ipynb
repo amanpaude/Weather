{
 "cells": [
  {
   "cell_type": "markdown",
   "id": "7ceb6e17-02ac-48e7-a3f7-a1fe73437cdf",
   "metadata": {},
   "source": [
    "# Type casting"
   ]
  },
  {
   "cell_type": "code",
   "execution_count": null,
   "id": "99b9fd67-f5dc-4fd3-a84d-d60e3e3e4361",
   "metadata": {},
   "outputs": [],
   "source": [
    "int-----> float \n",
    "int-----> string\n",
    "int------> boolean\n",
    "int------> complex"
   ]
  },
  {
   "cell_type": "code",
   "execution_count": null,
   "id": "e358fb1a-74a1-45d7-8163-b327c6afc5ef",
   "metadata": {},
   "outputs": [],
   "source": [
    "float ----> int \n",
    "float ----> string \n",
    "float ----> boolean\n",
    "float ---->  complex"
   ]
  },
  {
   "cell_type": "markdown",
   "id": "9f7f37ba-4448-46e7-90b3-9edbe6553c62",
   "metadata": {},
   "source": [
    "**Integer to other data type**\n"
   ]
  },
  {
   "cell_type": "code",
   "execution_count": 5,
   "id": "e46b23b5-c0f1-49ea-9bb3-f8b628599aee",
   "metadata": {},
   "outputs": [
    {
     "data": {
      "text/plain": [
       "23.5"
      ]
     },
     "execution_count": 5,
     "metadata": {},
     "output_type": "execute_result"
    }
   ],
   "source": [
    "num = 23.5\n",
    "num"
   ]
  },
  {
   "cell_type": "code",
   "execution_count": 7,
   "id": "bd49a8ef-a8e6-4c59-8a82-73615932e8dc",
   "metadata": {},
   "outputs": [
    {
     "data": {
      "text/plain": [
       "float"
      ]
     },
     "execution_count": 7,
     "metadata": {},
     "output_type": "execute_result"
    }
   ],
   "source": [
    "type(num)"
   ]
  },
  {
   "cell_type": "code",
   "execution_count": 9,
   "id": "96d11d95-efdd-4ae4-86f1-5988fedd5638",
   "metadata": {},
   "outputs": [
    {
     "data": {
      "text/plain": [
       "23"
      ]
     },
     "execution_count": 9,
     "metadata": {},
     "output_type": "execute_result"
    }
   ],
   "source": [
    "int(num)"
   ]
  },
  {
   "cell_type": "code",
   "execution_count": 11,
   "id": "cb8abd8b-1483-431c-985c-8b4b59524533",
   "metadata": {},
   "outputs": [
    {
     "data": {
      "text/plain": [
       "34"
      ]
     },
     "execution_count": 11,
     "metadata": {},
     "output_type": "execute_result"
    }
   ],
   "source": [
    "num1 = 34\n",
    "num1"
   ]
  },
  {
   "cell_type": "code",
   "execution_count": 13,
   "id": "60fa5768-a49c-41fd-8e5a-c83cd40398c3",
   "metadata": {},
   "outputs": [
    {
     "data": {
      "text/plain": [
       "int"
      ]
     },
     "execution_count": 13,
     "metadata": {},
     "output_type": "execute_result"
    }
   ],
   "source": [
    "type(num1)"
   ]
  },
  {
   "cell_type": "code",
   "execution_count": 15,
   "id": "7b79223f-7c43-43c8-af21-590b538d7440",
   "metadata": {},
   "outputs": [],
   "source": [
    "num_1= float(num1)"
   ]
  },
  {
   "cell_type": "code",
   "execution_count": 21,
   "id": "4f77b1f3-6e7b-4937-9e21-311cc4f73d64",
   "metadata": {},
   "outputs": [
    {
     "data": {
      "text/plain": [
       "34.0"
      ]
     },
     "execution_count": 21,
     "metadata": {},
     "output_type": "execute_result"
    }
   ],
   "source": [
    "num_1"
   ]
  },
  {
   "cell_type": "code",
   "execution_count": 23,
   "id": "ca3d678a-c480-4b92-b4b8-8468e60c2f77",
   "metadata": {},
   "outputs": [
    {
     "data": {
      "text/plain": [
       "float"
      ]
     },
     "execution_count": 23,
     "metadata": {},
     "output_type": "execute_result"
    }
   ],
   "source": [
    "type(num_1)"
   ]
  },
  {
   "cell_type": "code",
   "execution_count": 25,
   "id": "9b82a91b-7023-4e35-9daf-ff745f2ac892",
   "metadata": {},
   "outputs": [
    {
     "data": {
      "text/plain": [
       "'34.0'"
      ]
     },
     "execution_count": 25,
     "metadata": {},
     "output_type": "execute_result"
    }
   ],
   "source": [
    "str(num_1)"
   ]
  },
  {
   "cell_type": "markdown",
   "id": "5a5fe85e-5d01-4638-a9ed-8aa25c68dad4",
   "metadata": {},
   "source": [
    "**On boolean other than 0 everything is true**"
   ]
  },
  {
   "cell_type": "code",
   "execution_count": 31,
   "id": "7f22fa9c-ffb0-455d-ae05-587823f45d0c",
   "metadata": {},
   "outputs": [
    {
     "data": {
      "text/plain": [
       "100.0"
      ]
     },
     "execution_count": 31,
     "metadata": {},
     "output_type": "execute_result"
    }
   ],
   "source": [
    "number1= 100\n",
    "float(number1)"
   ]
  },
  {
   "cell_type": "code",
   "execution_count": 33,
   "id": "03605e99-4c5d-4aad-82a1-a71c2cbbda44",
   "metadata": {},
   "outputs": [
    {
     "data": {
      "text/plain": [
       "'100'"
      ]
     },
     "execution_count": 33,
     "metadata": {},
     "output_type": "execute_result"
    }
   ],
   "source": [
    "str(number1)"
   ]
  },
  {
   "cell_type": "code",
   "execution_count": 35,
   "id": "8c5c8137-5da6-4afa-90d7-9a7c71679652",
   "metadata": {},
   "outputs": [
    {
     "data": {
      "text/plain": [
       "(100+0j)"
      ]
     },
     "execution_count": 35,
     "metadata": {},
     "output_type": "execute_result"
    }
   ],
   "source": [
    "complex(number1)"
   ]
  },
  {
   "cell_type": "code",
   "execution_count": 37,
   "id": "9344d2b6-16fd-4d36-b987-b4822d35c48b",
   "metadata": {},
   "outputs": [
    {
     "data": {
      "text/plain": [
       "True"
      ]
     },
     "execution_count": 37,
     "metadata": {},
     "output_type": "execute_result"
    }
   ],
   "source": [
    "bool(number1)"
   ]
  },
  {
   "cell_type": "code",
   "execution_count": 39,
   "id": "cf645a48-3c10-4825-9f5d-6e704140c3e7",
   "metadata": {},
   "outputs": [
    {
     "data": {
      "text/plain": [
       "100"
      ]
     },
     "execution_count": 39,
     "metadata": {},
     "output_type": "execute_result"
    }
   ],
   "source": [
    "int(number1)"
   ]
  },
  {
   "cell_type": "markdown",
   "id": "2fd5eff1-6125-4bf0-b5bc-36d81b08cf9c",
   "metadata": {},
   "source": [
    "**string to other data types**"
   ]
  },
  {
   "cell_type": "markdown",
   "id": "395cfd7f-94f4-45b9-82df-18cfdf3dbaaa",
   "metadata": {},
   "source": [
    "we cannot convert string to mathematics data types soooo. hurryyyyyyyy"
   ]
  },
  {
   "cell_type": "markdown",
   "id": "7dd13b93-a507-4248-906b-e3c31c1ae8ef",
   "metadata": {},
   "source": [
    "So converting string into boolean we can do it like\n"
   ]
  },
  {
   "cell_type": "code",
   "execution_count": 46,
   "id": "e68937bc-27c8-4ff1-8655-6db02c2cffab",
   "metadata": {},
   "outputs": [
    {
     "data": {
      "text/plain": [
       "'aman'"
      ]
     },
     "execution_count": 46,
     "metadata": {},
     "output_type": "execute_result"
    }
   ],
   "source": [
    "name = 'aman'\n",
    "name"
   ]
  },
  {
   "cell_type": "code",
   "execution_count": 48,
   "id": "74eaa6ec-70b6-4f91-bf2f-3ce7558185b1",
   "metadata": {},
   "outputs": [
    {
     "data": {
      "text/plain": [
       "str"
      ]
     },
     "execution_count": 48,
     "metadata": {},
     "output_type": "execute_result"
    }
   ],
   "source": [
    "type(name)"
   ]
  },
  {
   "cell_type": "code",
   "execution_count": 55,
   "id": "e9d5a271-ab97-44c4-a595-3e13be960a87",
   "metadata": {},
   "outputs": [
    {
     "data": {
      "text/plain": [
       "True"
      ]
     },
     "execution_count": 55,
     "metadata": {},
     "output_type": "execute_result"
    }
   ],
   "source": [
    "bool(name)"
   ]
  },
  {
   "cell_type": "markdown",
   "id": "6c5fb148-2fdf-4954-86f7-962c02e42db5",
   "metadata": {},
   "source": [
    "**note**\n",
    "string like ('10.5')\n",
    "cannot be converted into integer but into float because it's base is string so we cannot convert."
   ]
  },
  {
   "cell_type": "code",
   "execution_count": 57,
   "id": "381063dd-3d47-49b3-a968-d925b5de3a81",
   "metadata": {},
   "outputs": [
    {
     "data": {
      "text/plain": [
       "(1+0j)"
      ]
     },
     "execution_count": 57,
     "metadata": {},
     "output_type": "execute_result"
    }
   ],
   "source": [
    "value1 = True\n",
    "complex(value1)"
   ]
  },
  {
   "cell_type": "code",
   "execution_count": 59,
   "id": "37df0fd1-2b87-4d31-8bb7-c048acfabf53",
   "metadata": {},
   "outputs": [
    {
     "data": {
      "text/plain": [
       "1"
      ]
     },
     "execution_count": 59,
     "metadata": {},
     "output_type": "execute_result"
    }
   ],
   "source": [
    "int(value1)"
   ]
  },
  {
   "cell_type": "code",
   "execution_count": 61,
   "id": "88f859a2-851e-44f6-ad87-4ac3575abf18",
   "metadata": {},
   "outputs": [
    {
     "data": {
      "text/plain": [
       "1.0"
      ]
     },
     "execution_count": 61,
     "metadata": {},
     "output_type": "execute_result"
    }
   ],
   "source": [
    "float(value1)"
   ]
  },
  {
   "cell_type": "code",
   "execution_count": 63,
   "id": "78209f06-a51e-411e-a3e9-0633f1ae4432",
   "metadata": {},
   "outputs": [
    {
     "ename": "TypeError",
     "evalue": "int() argument must be a string, a bytes-like object or a real number, not 'complex'",
     "output_type": "error",
     "traceback": [
      "\u001b[1;31m---------------------------------------------------------------------------\u001b[0m",
      "\u001b[1;31mTypeError\u001b[0m                                 Traceback (most recent call last)",
      "Cell \u001b[1;32mIn[63], line 2\u001b[0m\n\u001b[0;32m      1\u001b[0m val2\u001b[38;5;241m=\u001b[39m \u001b[38;5;241m100\u001b[39m\u001b[38;5;241m+\u001b[39m\u001b[38;5;241m0\u001b[39mj\n\u001b[1;32m----> 2\u001b[0m \u001b[38;5;28mint\u001b[39m(val2)\n",
      "\u001b[1;31mTypeError\u001b[0m: int() argument must be a string, a bytes-like object or a real number, not 'complex'"
     ]
    }
   ],
   "source": [
    "val2= 100+0j\n",
    "int(val2)"
   ]
  },
  {
   "cell_type": "code",
   "execution_count": 65,
   "id": "861f9bff-bb0e-46dc-a904-eb51a157e70b",
   "metadata": {},
   "outputs": [
    {
     "data": {
      "text/plain": [
       "'True'"
      ]
     },
     "execution_count": 65,
     "metadata": {},
     "output_type": "execute_result"
    }
   ],
   "source": [
    "str(True)"
   ]
  },
  {
   "cell_type": "code",
   "execution_count": null,
   "id": "b81766e8-adca-44d1-a6c4-57ba6ebe5d9e",
   "metadata": {},
   "outputs": [],
   "source": []
  }
 ],
 "metadata": {
  "kernelspec": {
   "display_name": "Python 3 (ipykernel)",
   "language": "python",
   "name": "python3"
  },
  "language_info": {
   "codemirror_mode": {
    "name": "ipython",
    "version": 3
   },
   "file_extension": ".py",
   "mimetype": "text/x-python",
   "name": "python",
   "nbconvert_exporter": "python",
   "pygments_lexer": "ipython3",
   "version": "3.12.7"
  }
 },
 "nbformat": 4,
 "nbformat_minor": 5
}
