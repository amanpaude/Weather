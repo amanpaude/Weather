{
 "cells": [
  {
   "cell_type": "code",
   "execution_count": 7,
   "id": "cb8d2052-df43-4fec-88ca-965223770cdb",
   "metadata": {},
   "outputs": [
    {
     "name": "stdout",
     "output_type": "stream",
     "text": [
      "mood data generated: [1 3 1 2 3 3 2 3 1 3 2 2 3 2 2 3 2 2 2 2 1 2 3 2 2 2 2 1 3 3]\n"
     ]
    }
   ],
   "source": [
    "import numpy as np\n",
    "import matplotlib.pyplot as plt\n",
    "day = 30\n",
    "moods = np.random.choice([1,2,3], size= day, p=[0.2,0.5,0.3])\n",
    "print(\"mood data generated:\", moods)"
   ]
  },
  {
   "cell_type": "code",
   "execution_count": 19,
   "id": "4b8ebf38-a7b9-4b9b-997e-167bff1a39ad",
   "metadata": {},
   "outputs": [
    {
     "name": "stdout",
     "output_type": "stream",
     "text": [
      "weekly mood summary:\n",
      "Average mood2.1666666666666665 (1= 😔, 3= )\n"
     ]
    }
   ],
   "source": [
    "print('weekly mood summary:')\n",
    "print('Average mood{} (1= 😔, 3= )' .format(np.mean(moods)))"
   ]
  },
  {
   "cell_type": "code",
   "execution_count": null,
   "id": "89118c6c-97ca-4a76-a30d-4f45fe595b60",
   "metadata": {},
   "outputs": [],
   "source": []
  }
 ],
 "metadata": {
  "kernelspec": {
   "display_name": "Python 3 (ipykernel)",
   "language": "python",
   "name": "python3"
  },
  "language_info": {
   "codemirror_mode": {
    "name": "ipython",
    "version": 3
   },
   "file_extension": ".py",
   "mimetype": "text/x-python",
   "name": "python",
   "nbconvert_exporter": "python",
   "pygments_lexer": "ipython3",
   "version": "3.12.7"
  }
 },
 "nbformat": 4,
 "nbformat_minor": 5
}
