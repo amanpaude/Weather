{
 "cells": [
  {
   "cell_type": "markdown",
   "id": "cb8fa82c-c125-42b8-95c0-9498f1327e22",
   "metadata": {},
   "source": [
    "# variables"
   ]
  },
  {
   "cell_type": "markdown",
   "id": "76a4a29f-7685-40cf-9483-73a4780d1b73",
   "metadata": {},
   "source": [
    "- variables term vary\n",
    "- you want to save some value at some place is called variable \n",
    "- variable and constant "
   ]
  },
  {
   "cell_type": "code",
   "execution_count": 2,
   "id": "4eb7b32b-2392-4512-95f2-377ac45689e7",
   "metadata": {},
   "outputs": [
    {
     "data": {
      "text/plain": [
       "230"
      ]
     },
     "execution_count": 2,
     "metadata": {},
     "output_type": "execute_result"
    }
   ],
   "source": [
    "number = 230\n",
    "number"
   ]
  },
  {
   "cell_type": "code",
   "execution_count": 4,
   "id": "e892682d-a359-4fb1-bf6e-c3d02b10099b",
   "metadata": {},
   "outputs": [
    {
     "data": {
      "text/plain": [
       "234"
      ]
     },
     "execution_count": 4,
     "metadata": {},
     "output_type": "execute_result"
    }
   ],
   "source": [
    "number =234\n",
    "number"
   ]
  },
  {
   "cell_type": "markdown",
   "id": "a3414d25-2cbf-445d-9419-4509908178cd",
   "metadata": {},
   "source": [
    "first number is 230 and second number is 234 \n",
    "second value varies from 230 thats why it is called a variables"
   ]
  },
  {
   "cell_type": "markdown",
   "id": "16b9e65f-eafe-4383-a91b-cc8dd0abad31",
   "metadata": {},
   "source": [
    "**sum is math operation so it will works**\n"
   ]
  },
  {
   "cell_type": "code",
   "execution_count": 8,
   "id": "340edd48-df30-4e41-9956-a7cc353cf8e8",
   "metadata": {},
   "outputs": [
    {
     "data": {
      "text/plain": [
       "233"
      ]
     },
     "execution_count": 8,
     "metadata": {},
     "output_type": "execute_result"
    }
   ],
   "source": [
    "sum = 233\n",
    "sum"
   ]
  },
  {
   "cell_type": "markdown",
   "id": "4115fa06-acee-42bb-990c-a6aa5da5158c",
   "metadata": {},
   "source": [
    "#note"
   ]
  },
  {
   "cell_type": "code",
   "execution_count": null,
   "id": "9c97e576-8db2-446b-9d4d-fc920deb8877",
   "metadata": {},
   "outputs": [],
   "source": [
    "but dont use sum as a variables.\n"
   ]
  },
  {
   "cell_type": "markdown",
   "id": "efa95d24-d775-474a-a793-68cbbfac6a0e",
   "metadata": {},
   "source": [
    "**RULES OF VARIABLES**"
   ]
  },
  {
   "cell_type": "markdown",
   "id": "e28cd523-5a5f-4b6f-b61c-de0d910a64aa",
   "metadata": {},
   "source": [
    "- Uppercase and lowercase both can work(NAme= 200)\n",
    "- Number as prefix will not work(123Name=314) not work\n",
    "- Number as a suffix will work( Name21= 123) works\n",
    "- Underscore will  work( namee_amsa=123) works\n",
    "- Space between variable will not work(aman paudel=123) no works\n",
    "- Keyword will not work( except sum)\n",
    "  \n",
    "\n"
   ]
  },
  {
   "cell_type": "code",
   "execution_count": null,
   "id": "8320ab7d-1ae3-4617-9df4-fc5e78ccf6fd",
   "metadata": {},
   "outputs": [],
   "source": []
  },
  {
   "cell_type": "code",
   "execution_count": null,
   "id": "72b1f115-fdbc-4672-bc24-b335d1d45b34",
   "metadata": {},
   "outputs": [],
   "source": []
  }
 ],
 "metadata": {
  "kernelspec": {
   "display_name": "Python 3 (ipykernel)",
   "language": "python",
   "name": "python3"
  },
  "language_info": {
   "codemirror_mode": {
    "name": "ipython",
    "version": 3
   },
   "file_extension": ".py",
   "mimetype": "text/x-python",
   "name": "python",
   "nbconvert_exporter": "python",
   "pygments_lexer": "ipython3",
   "version": "3.12.7"
  }
 },
 "nbformat": 4,
 "nbformat_minor": 5
}
