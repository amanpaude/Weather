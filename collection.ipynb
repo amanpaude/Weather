{
 "cells": [
  {
   "cell_type": "code",
   "execution_count": 5,
   "id": "b8f4ea2d-6c90-434b-9bbe-869750736604",
   "metadata": {},
   "outputs": [],
   "source": [
    "from collections import Counter"
   ]
  },
  {
   "cell_type": "code",
   "execution_count": 13,
   "id": "88c872ec-7e3a-4b2d-80f2-7eeac6d51d03",
   "metadata": {},
   "outputs": [
    {
     "name": "stdout",
     "output_type": "stream",
     "text": [
      "[('a', 4)]\n"
     ]
    }
   ],
   "source": [
    "a= 'aaaabbbbcccddd'\n",
    "my_counter = Counter(a)\n",
    "print(my_counter.most_common(1))"
   ]
  },
  {
   "cell_type": "code",
   "execution_count": 15,
   "id": "946f6862-cabe-4246-b801-df82f6e4b45f",
   "metadata": {},
   "outputs": [
    {
     "name": "stdout",
     "output_type": "stream",
     "text": [
      "['a', 'a', 'a', 'a', 'b', 'b', 'b', 'b', 'c', 'c', 'c', 'd', 'd', 'd']\n"
     ]
    }
   ],
   "source": [
    "print(list(my_counter.elements()))"
   ]
  },
  {
   "cell_type": "markdown",
   "id": "1f3e49a1-2239-439c-8536-fc7a318e036c",
   "metadata": {},
   "source": [
    "**NamedTuple**"
   ]
  },
  {
   "cell_type": "code",
   "execution_count": 19,
   "id": "f5d13d60-8c20-46ee-9e7d-33bdc69598bf",
   "metadata": {},
   "outputs": [],
   "source": [
    "from collections import namedtuple"
   ]
  },
  {
   "cell_type": "code",
   "execution_count": 27,
   "id": "b200e7ba-c817-4729-a7b9-6e7f45cf2c4a",
   "metadata": {},
   "outputs": [
    {
     "name": "stdout",
     "output_type": "stream",
     "text": [
      "Point(x=1, y=3)\n"
     ]
    }
   ],
   "source": [
    "Point = namedtuple('Point' , 'x y')\n",
    "pt= Point(1,3)\n",
    "print(pt)"
   ]
  },
  {
   "cell_type": "code",
   "execution_count": 33,
   "id": "39446537-7171-48d2-a002-9dd7fbabec8f",
   "metadata": {},
   "outputs": [],
   "source": [
    "from collections import OrderedDict"
   ]
  },
  {
   "cell_type": "code",
   "execution_count": null,
   "id": "613cff82-5e6c-4581-9f83-bdeba619006b",
   "metadata": {},
   "outputs": [],
   "source": [
    "order_dict= OrderedDict()\n"
   ]
  },
  {
   "cell_type": "code",
   "execution_count": 37,
   "id": "d146a655-e7bf-4ccf-ae3c-ead9bdcf22c9",
   "metadata": {},
   "outputs": [],
   "source": [
    "from collections import deque"
   ]
  },
  {
   "cell_type": "code",
   "execution_count": 39,
   "id": "4aae34c1-eeb4-4723-bc15-ba78a4dc62ff",
   "metadata": {},
   "outputs": [
    {
     "name": "stdout",
     "output_type": "stream",
     "text": [
      "deque([1, 2])\n"
     ]
    }
   ],
   "source": [
    "d = deque()\n",
    "d.append(1)\n",
    "d.append(2)\n",
    "print(d)"
   ]
  },
  {
   "cell_type": "code",
   "execution_count": 51,
   "id": "f0903e46-74f6-42ea-beda-810be58ee67c",
   "metadata": {},
   "outputs": [
    {
     "name": "stdout",
     "output_type": "stream",
     "text": [
      "deque([3, 3, 3, 3, 1, 2])\n"
     ]
    }
   ],
   "source": [
    "d.appendleft(3)\n",
    "print(d)"
   ]
  },
  {
   "cell_type": "code",
   "execution_count": 53,
   "id": "a182e583-51d9-4a24-83a2-35ddd5b10252",
   "metadata": {},
   "outputs": [],
   "source": [
    "d.extendleft([5,6,7,8,9])"
   ]
  },
  {
   "cell_type": "code",
   "execution_count": 55,
   "id": "118380fb-e4a6-483d-85d5-81598c9c73d6",
   "metadata": {},
   "outputs": [
    {
     "name": "stdout",
     "output_type": "stream",
     "text": [
      "deque([9, 8, 7, 6, 5, 3, 3, 3, 3, 1, 2])\n"
     ]
    }
   ],
   "source": [
    "print(d)"
   ]
  },
  {
   "cell_type": "code",
   "execution_count": 57,
   "id": "eb92709f-1f73-4c16-ae10-8a3b3cc5be06",
   "metadata": {},
   "outputs": [
    {
     "name": "stdout",
     "output_type": "stream",
     "text": [
      "deque([2, 9, 8, 7, 6, 5, 3, 3, 3, 3, 1])\n"
     ]
    }
   ],
   "source": [
    "d.rotate(1)\n",
    "print(d)"
   ]
  },
  {
   "cell_type": "code",
   "execution_count": 63,
   "id": "dada8415-2fc3-47c7-921d-6fc9fd2818f2",
   "metadata": {},
   "outputs": [
    {
     "name": "stdout",
     "output_type": "stream",
     "text": [
      "deque([1, 2, 9, 8, 7, 6, 5, 3, 3, 3, 3])\n"
     ]
    }
   ],
   "source": [
    "d.rotate()\n",
    "print(d)"
   ]
  },
  {
   "cell_type": "code",
   "execution_count": null,
   "id": "99be52cb-ee20-4077-a4a6-c892c8656cc7",
   "metadata": {},
   "outputs": [],
   "source": []
  }
 ],
 "metadata": {
  "kernelspec": {
   "display_name": "Python 3 (ipykernel)",
   "language": "python",
   "name": "python3"
  },
  "language_info": {
   "codemirror_mode": {
    "name": "ipython",
    "version": 3
   },
   "file_extension": ".py",
   "mimetype": "text/x-python",
   "name": "python",
   "nbconvert_exporter": "python",
   "pygments_lexer": "ipython3",
   "version": "3.12.7"
  }
 },
 "nbformat": 4,
 "nbformat_minor": 5
}
