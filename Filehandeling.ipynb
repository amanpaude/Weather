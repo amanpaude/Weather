{
 "cells": [
  {
   "cell_type": "code",
   "execution_count": 38,
   "id": "6f559c1d-6e7d-4b68-81f5-82c16e5171b9",
   "metadata": {},
   "outputs": [],
   "source": [
    "f1 = open('abc', 'a' )  # Open file in write mode\n",
    "f1.write(' I am 20 years old')  # Write to the file\n",
    "f1.close()  # Close the file\n"
   ]
  },
  {
   "cell_type": "code",
   "execution_count": 22,
   "id": "803a7b1c-185a-4ad8-b875-85e5438e8f49",
   "metadata": {},
   "outputs": [
    {
     "data": {
      "text/plain": [
       "22"
      ]
     },
     "execution_count": 22,
     "metadata": {},
     "output_type": "execute_result"
    }
   ],
   "source": []
  },
  {
   "cell_type": "code",
   "execution_count": null,
   "id": "70c8d0d4-dbef-45ac-9f09-77d148bd999b",
   "metadata": {},
   "outputs": [],
   "source": []
  },
  {
   "cell_type": "code",
   "execution_count": null,
   "id": "8e683fe9-34f0-4e34-b113-e6bec20dd249",
   "metadata": {},
   "outputs": [],
   "source": []
  }
 ],
 "metadata": {
  "kernelspec": {
   "display_name": "Python 3 (ipykernel)",
   "language": "python",
   "name": "python3"
  },
  "language_info": {
   "codemirror_mode": {
    "name": "ipython",
    "version": 3
   },
   "file_extension": ".py",
   "mimetype": "text/x-python",
   "name": "python",
   "nbconvert_exporter": "python",
   "pygments_lexer": "ipython3",
   "version": "3.12.7"
  }
 },
 "nbformat": 4,
 "nbformat_minor": 5
}
