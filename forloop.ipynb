{
 "cells": [
  {
   "cell_type": "code",
   "execution_count": null,
   "id": "db7afeb1-b1d7-4498-87d8-03f89058af5d",
   "metadata": {},
   "outputs": [],
   "source": [
    "So far we have completed \n",
    "- basic syntax\n",
    "- conditional statement\n",
    "- try exception\n",
    "- function\n"
   ]
  },
  {
   "cell_type": "markdown",
   "id": "9ab4ca76-442f-4fcb-abc2-edf8ab13963e",
   "metadata": {},
   "source": [
    "# for Loop"
   ]
  },
  {
   "cell_type": "markdown",
   "id": "5a2dcee1-1306-459b-9bb4-bae206311cfd",
   "metadata": {},
   "source": [
    "- you will be in the loop\n",
    "- when you will enter in the loop\n",
    "- how much time you will spend in the loop\n",
    "- how you will come out of the loop\n"
   ]
  },
  {
   "cell_type": "markdown",
   "id": "df82a9b9-894b-4a3d-817d-2b67719be607",
   "metadata": {},
   "source": [
    "- intialization\n",
    "- increment/decreament\n",
    "- condition to stop the loop"
   ]
  },
  {
   "cell_type": "code",
   "execution_count": null,
   "id": "5c75260f-7574-407d-9c15-6ee01ba7e0d8",
   "metadata": {},
   "outputs": [],
   "source": [
    "# I want to print the first number\n",
    "# initial point: 0\n",
    "# increament\n",
    "# cond= 10"
   ]
  },
  {
   "cell_type": "code",
   "execution_count": null,
   "id": "b6e7d3f9-d7c0-479e-9c81-60cb498051d6",
   "metadata": {},
   "outputs": [],
   "source": [
    "i=0\n",
    "i=1\n",
    "i=2\n",
    "i=3\n",
    "i=4\n",
    "i=5\n"
   ]
  },
  {
   "cell_type": "code",
   "execution_count": null,
   "id": "c1374a4c-a405-4014-94e0-72fff376c06d",
   "metadata": {},
   "outputs": [],
   "source": [
    "pattern -1"
   ]
  },
  {
   "cell_type": "markdown",
   "id": "32a84aec-5f0b-41c7-a1f9-383e89ed21f8",
   "metadata": {},
   "source": [
    "for i in range(stop):\n",
    "- in the bracket if we have single value that is consider as stop value\n",
    "- the default start value is o\n",
    "- python index start with :0\n",
    "- if direction sign not mention : increment (+) sign\n",
    "- if direction is positive side then end stop -1"
   ]
  },
  {
   "cell_type": "code",
   "execution_count": 8,
   "id": "a129bbee-8994-4533-92f5-c32b255b7ebe",
   "metadata": {},
   "outputs": [
    {
     "name": "stdout",
     "output_type": "stream",
     "text": [
      "0\n",
      "1\n",
      "2\n",
      "3\n",
      "4\n",
      "5\n",
      "6\n",
      "7\n",
      "8\n",
      "9\n"
     ]
    }
   ],
   "source": [
    "for i in range(10):\n",
    "    print(i)\n",
    "\n",
    "#start o\n",
    "direction =+\n",
    "end = stop -1: 10-1= 9"
   ]
  },
  {
   "cell_type": "code",
   "execution_count": 11,
   "id": "015bd012-51f5-4e68-8b6e-27076cb32e63",
   "metadata": {},
   "outputs": [
    {
     "name": "stdout",
     "output_type": "stream",
     "text": [
      "0 1 2 3 4 5 6 7 8 9 10 11 12 13 14 15 16 17 18 19 20 21 22 23 24 25 26 27 28 29 "
     ]
    }
   ],
   "source": [
    "for i in range(30):\n",
    "    print(i, end=' ')\n",
    "\n",
    "#for horizontal ans"
   ]
  },
  {
   "cell_type": "markdown",
   "id": "b5082737-b964-4410-b1c2-d315565e6fed",
   "metadata": {},
   "source": [
    "$pattern-2$"
   ]
  },
  {
   "cell_type": "code",
   "execution_count": 23,
   "id": "966d91d8-2d66-4c76-acf2-a3f5ed183b71",
   "metadata": {},
   "outputs": [
    {
     "name": "stdout",
     "output_type": "stream",
     "text": [
      "2 3 4 5 6 7 "
     ]
    }
   ],
   "source": [
    "for i in range(2,8):\n",
    "    print(i, end=' ')\n",
    "\n"
   ]
  },
  {
   "cell_type": "markdown",
   "id": "686b052a-262f-4d97-a3b2-41f963503e0f",
   "metadata": {},
   "source": [
    "$pattern-3$"
   ]
  },
  {
   "cell_type": "markdown",
   "id": "29bb3252-8db2-4080-aa1d-ba7c9255c764",
   "metadata": {},
   "source": [
    "for i in range(start, stop, step)\n",
    "- start : start the loop, initial point\n",
    "\n",
    "- direction: what is the sign of step value\n",
    "- direction will be decided by the step value\n",
    "- if step sign in a positive direction \n",
    "      end = stop -1\n",
    "- if step size in negative direction \n",
    "      end = stop +1\n"
   ]
  },
  {
   "cell_type": "code",
   "execution_count": 26,
   "id": "7cc243eb-6a91-487e-a2a8-34a4df73c14d",
   "metadata": {},
   "outputs": [
    {
     "name": "stdout",
     "output_type": "stream",
     "text": [
      "2 4 6 8 10 12 14 16 18 "
     ]
    }
   ],
   "source": [
    "for i in range(2,20,2):\n",
    "    print(i, end=' ')\n",
    "    "
   ]
  },
  {
   "cell_type": "code",
   "execution_count": 28,
   "id": "2a69b535-a1b0-4331-b6e4-8a52507fbf31",
   "metadata": {},
   "outputs": [
    {
     "name": "stdout",
     "output_type": "stream",
     "text": [
      "-1\n",
      "-2\n",
      "-3\n",
      "-4\n",
      "-5\n",
      "-6\n",
      "-7\n",
      "-8\n",
      "-9\n"
     ]
    }
   ],
   "source": [
    "for i in range(-1, -10, -1):\n",
    "    print(i)"
   ]
  },
  {
   "cell_type": "code",
   "execution_count": 36,
   "id": "b791fd57-7c9b-4258-b075-6d1cf321100f",
   "metadata": {},
   "outputs": [
    {
     "name": "stdout",
     "output_type": "stream",
     "text": [
      "hello\n",
      "hello\n",
      "hello\n"
     ]
    }
   ],
   "source": [
    "for i in range(3):\n",
    "    print('hello')\n"
   ]
  },
  {
   "cell_type": "code",
   "execution_count": 38,
   "id": "37af7647-d150-45b6-8a27-92b45f4ea414",
   "metadata": {},
   "outputs": [
    {
     "name": "stdout",
     "output_type": "stream",
     "text": [
      "A\n",
      "A\n",
      "A\n",
      "b\n",
      "b\n",
      "C\n",
      "C\n",
      "C\n"
     ]
    }
   ],
   "source": [
    "for i in range(3):\n",
    "    print('A')\n",
    "for i in range(2):\n",
    "    print('b')\n",
    "\n",
    "for i in range(3):\n",
    "    print('C')"
   ]
  },
  {
   "cell_type": "code",
   "execution_count": 42,
   "id": "e5e7d24c-220f-441c-82a2-40bb00363ace",
   "metadata": {},
   "outputs": [
    {
     "name": "stdout",
     "output_type": "stream",
     "text": [
      "100\n",
      "121\n",
      "144\n",
      "169\n",
      "196\n"
     ]
    }
   ],
   "source": [
    "for i in range(10,15):\n",
    "    print(i*i)\n"
   ]
  },
  {
   "cell_type": "code",
   "execution_count": 1,
   "id": "eafddd88-488b-46f7-b059-99f03f3e5783",
   "metadata": {},
   "outputs": [
    {
     "name": "stdin",
     "output_type": "stream",
     "text": [
      "enter the start number 1\n",
      "enter the stop number 32\n"
     ]
    },
    {
     "name": "stdout",
     "output_type": "stream",
     "text": [
      "The square of 1 is 1\n",
      "The square of 2 is 4\n",
      "The square of 3 is 9\n",
      "The square of 4 is 16\n",
      "The square of 5 is 25\n",
      "The square of 6 is 36\n",
      "The square of 7 is 49\n",
      "The square of 8 is 64\n",
      "The square of 9 is 81\n",
      "The square of 10 is 100\n",
      "The square of 11 is 121\n",
      "The square of 12 is 144\n",
      "The square of 13 is 169\n",
      "The square of 14 is 196\n",
      "The square of 15 is 225\n",
      "The square of 16 is 256\n",
      "The square of 17 is 289\n",
      "The square of 18 is 324\n",
      "The square of 19 is 361\n",
      "The square of 20 is 400\n",
      "The square of 21 is 441\n",
      "The square of 22 is 484\n",
      "The square of 23 is 529\n",
      "The square of 24 is 576\n",
      "The square of 25 is 625\n",
      "The square of 26 is 676\n",
      "The square of 27 is 729\n",
      "The square of 28 is 784\n",
      "The square of 29 is 841\n",
      "The square of 30 is 900\n",
      "The square of 31 is 961\n"
     ]
    }
   ],
   "source": [
    "num1= eval(input('enter the start number'))\n",
    "num2 = eval(input('enter the stop number'))\n",
    "\n",
    "for i in range(num1,num2):\n",
    "    print('The square of {} is {}'.format(i, i*i))\n"
   ]
  },
  {
   "cell_type": "code",
   "execution_count": 56,
   "id": "a57d1047-676b-4f51-91db-a04cfbd73a94",
   "metadata": {},
   "outputs": [
    {
     "name": "stdin",
     "output_type": "stream",
     "text": [
      "enter the start number 10\n",
      "enter the stop number 14\n"
     ]
    },
    {
     "name": "stdout",
     "output_type": "stream",
     "text": [
      "The square of 10 is 100\n",
      "The square of 11 is 121\n",
      "The square of 12 is 144\n",
      "The square of 13 is 169\n"
     ]
    }
   ],
   "source": [
    "def square1(num1, num2):\n",
    "    \n",
    "\n",
    "    for i in range(num1,num2):\n",
    "        print('The square of {} is {}'.format(i, i*i))\n",
    "square1(eval(input('enter the start number')),eval(input('enter the stop number')))\n",
    "\n",
    "    "
   ]
  },
  {
   "cell_type": "code",
   "execution_count": 58,
   "id": "97f2c928-473c-469f-98f5-92bcf4fb8219",
   "metadata": {},
   "outputs": [
    {
     "name": "stdin",
     "output_type": "stream",
     "text": [
      "enter the number 12\n"
     ]
    },
    {
     "name": "stdout",
     "output_type": "stream",
     "text": [
      "the square of 12 is 144\n"
     ]
    },
    {
     "name": "stdin",
     "output_type": "stream",
     "text": [
      "enter the number 12\n"
     ]
    },
    {
     "name": "stdout",
     "output_type": "stream",
     "text": [
      "the square of 12 is 144\n"
     ]
    },
    {
     "name": "stdin",
     "output_type": "stream",
     "text": [
      "enter the number 24\n"
     ]
    },
    {
     "name": "stdout",
     "output_type": "stream",
     "text": [
      "the square of 24 is 576\n"
     ]
    },
    {
     "name": "stdin",
     "output_type": "stream",
     "text": [
      "enter the number 24\n"
     ]
    },
    {
     "name": "stdout",
     "output_type": "stream",
     "text": [
      "the square of 24 is 576\n"
     ]
    },
    {
     "name": "stdin",
     "output_type": "stream",
     "text": [
      "enter the number 4\n"
     ]
    },
    {
     "name": "stdout",
     "output_type": "stream",
     "text": [
      "the square of 4 is 16\n"
     ]
    }
   ],
   "source": [
    "for i in range(5):\n",
    "    num= eval(input('enter the number'))\n",
    "    print('the square of {} is {}'.format(num,num*num))\n",
    "    "
   ]
  },
  {
   "cell_type": "code",
   "execution_count": 66,
   "id": "103d2266-4fa0-4fa7-8571-80fbe7c87622",
   "metadata": {},
   "outputs": [
    {
     "name": "stdout",
     "output_type": "stream",
     "text": [
      "the square of 17 is 289\n",
      "the square of 13 is 169\n",
      "the square of 17 is 289\n",
      "the square of 2 is 4\n",
      "the square of 19 is 361\n"
     ]
    }
   ],
   "source": [
    "import random\n",
    "\n",
    "for i in range(5):\n",
    "    num1= random.randint(1,20)\n",
    "    print('the square of {} is {}'.format(num1, num1*num1))"
   ]
  },
  {
   "cell_type": "code",
   "execution_count": 76,
   "id": "599ead63-ebc1-4a08-897c-72039680a196",
   "metadata": {},
   "outputs": [
    {
     "name": "stdout",
     "output_type": "stream",
     "text": [
      "10 is an even number\n",
      "11 is an odd number\n",
      "12 is an even number\n",
      "13 is an odd number\n",
      "14 is an even number\n",
      "15 is an odd number\n",
      "16 is an even number\n",
      "17 is an odd number\n",
      "18 is an even number\n",
      "19 is an odd number\n",
      "20 is an even number\n",
      "21 is an odd number\n",
      "22 is an even number\n",
      "23 is an odd number\n",
      "24 is an even number\n",
      "25 is an odd number\n",
      "26 is an even number\n",
      "27 is an odd number\n",
      "28 is an even number\n",
      "29 is an odd number\n"
     ]
    }
   ],
   "source": [
    "for i in range(10,30):\n",
    "    if(i%2==0):\n",
    "      \n",
    "        print('{} is an even number'.format(i))\n",
    "\n",
    "    else:\n",
    "        print('{} is an odd number'.format(i))\n",
    "\n",
    "    "
   ]
  },
  {
   "cell_type": "code",
   "execution_count": 84,
   "id": "0a95f498-49c6-4e25-8a2a-1c752939bd50",
   "metadata": {},
   "outputs": [
    {
     "name": "stdout",
     "output_type": "stream",
     "text": [
      "29 is an odd number\n",
      "24 is an even number\n",
      "12 is an even number\n",
      "12 is an even number\n",
      "20 is an even number\n"
     ]
    }
   ],
   "source": [
    "import random\n",
    "for num in range(5):\n",
    "    num =random.randint(10,30)\n",
    "    if(num%2==0):\n",
    "        print('{} is an even number'.format(num))\n",
    "\n",
    "    else:\n",
    "        print('{} is an odd number'.format(num))\n",
    "    "
   ]
  },
  {
   "cell_type": "code",
   "execution_count": 119,
   "id": "b8aaa863-6636-49db-8122-11190c9b585a",
   "metadata": {},
   "outputs": [
    {
     "name": "stdin",
     "output_type": "stream",
     "text": [
      "how many chances do you want: 3\n",
      "enter the number between 1 and 9: 4\n"
     ]
    },
    {
     "name": "stdout",
     "output_type": "stream",
     "text": [
      "you lose because the number was 7\n",
      "The number of chance left is2\n"
     ]
    },
    {
     "name": "stdin",
     "output_type": "stream",
     "text": [
      "enter the number between 1 and 9: 5\n"
     ]
    },
    {
     "name": "stdout",
     "output_type": "stream",
     "text": [
      "you lose because the number was 6\n",
      "The number of chance left is1\n"
     ]
    },
    {
     "name": "stdin",
     "output_type": "stream",
     "text": [
      "enter the number between 1 and 9: 4\n"
     ]
    },
    {
     "name": "stdout",
     "output_type": "stream",
     "text": [
      "you lose because the number was 3\n",
      "The number of chance left is0\n"
     ]
    }
   ],
   "source": [
    "import random\n",
    "chances= eval(input('how many chances do you want:'))\n",
    "for i in range(chances):\n",
    "    rand= random.randint(1,9)\n",
    "    \n",
    "    num1 = eval(input('enter the number between 1 and 9:'))\n",
    "    if(num1== rand):\n",
    "        print('you won')\n",
    "        break\n",
    "    \n",
    "    else:\n",
    "        print('you lose because the number was {}'.format(rand))\n",
    "        print('The number of chance left is{}'.format(chances-1-i))"
   ]
  },
  {
   "cell_type": "code",
   "execution_count": null,
   "id": "22708f6e-a93b-4d69-80a9-167e12be35be",
   "metadata": {},
   "outputs": [],
   "source": [
    "#ask the user to get the sum of 10 natural numbers"
   ]
  },
  {
   "cell_type": "code",
   "execution_count": 1,
   "id": "700a4f6a-9e1d-4e2a-a603-572276f1a0cd",
   "metadata": {},
   "outputs": [
    {
     "name": "stdout",
     "output_type": "stream",
     "text": [
      "1\n",
      "3\n",
      "6\n",
      "10\n",
      "15\n",
      "21\n",
      "28\n",
      "36\n",
      "45\n",
      "55\n"
     ]
    }
   ],
   "source": [
    "summ =0;\n",
    "for i in range(1,11):\n",
    "    summ = summ+i\n",
    "    print(summ)"
   ]
  },
  {
   "cell_type": "code",
   "execution_count": 3,
   "id": "5e39cc47-df75-459d-af5a-714e684f39fa",
   "metadata": {},
   "outputs": [
    {
     "name": "stdout",
     "output_type": "stream",
     "text": [
      "0 + 0 is\n",
      "0\n",
      "1 + 1 is\n",
      "1\n",
      "3 + 2 is\n",
      "3\n",
      "6 + 3 is\n",
      "6\n",
      "10 + 4 is\n",
      "10\n",
      "15 + 5 is\n",
      "15\n",
      "21 + 6 is\n",
      "21\n",
      "28 + 7 is\n",
      "28\n",
      "36 + 8 is\n",
      "36\n",
      "45 + 9 is\n",
      "45\n",
      "55 + 10 is\n",
      "55\n",
      "the sum of first ten natural number is: 55\n"
     ]
    }
   ],
   "source": [
    "summ= 0\n",
    "for i in range(0,11):\n",
    "    summ= summ+i\n",
    "    print('{} + {} is'.format(summ, i))\n",
    "    print(summ)\n",
    "\n",
    "print('the sum of first ten natural number is:' , summ)"
   ]
  },
  {
   "cell_type": "code",
   "execution_count": null,
   "id": "0ee8714e-3dc9-4e1f-87f1-be8bc799dcbf",
   "metadata": {},
   "outputs": [],
   "source": [
    "- whenever if you want implement counter program\n",
    "- summ program\n",
    "- intiliaze the value with 0\n",
    "- like summ=0 or count=0\n",
    "- inside te loop  based on the problem update the variable\n",
    "- like: summ +1 or count = count +1\n"
   ]
  },
  {
   "cell_type": "code",
   "execution_count": 5,
   "id": "6af4750c-8367-4350-9ef6-12efe90fc7f5",
   "metadata": {},
   "outputs": [
    {
     "ename": "SyntaxError",
     "evalue": "invalid syntax (4003065749.py, line 2)",
     "output_type": "error",
     "traceback": [
      "\u001b[1;36m  Cell \u001b[1;32mIn[5], line 2\u001b[1;36m\u001b[0m\n\u001b[1;33m    for in i range(5):\u001b[0m\n\u001b[1;37m        ^\u001b[0m\n\u001b[1;31mSyntaxError\u001b[0m\u001b[1;31m:\u001b[0m invalid syntax\n"
     ]
    }
   ],
   "source": [
    "count= 0\n",
    "for i in range(5):\n",
    "    num= randim.randint(10,30)\n",
    "    if num%2==0:\n",
    "        print('the given {} is even'.format(num))\n",
    "\n",
    "    else: \n",
    "        print('the given {} is odd'.format(num))\n",
    "\n",
    "\n"
   ]
  },
  {
   "cell_type": "code",
   "execution_count": 9,
   "id": "99e40b95-65a4-4595-8660-a9eb74551735",
   "metadata": {},
   "outputs": [
    {
     "name": "stdout",
     "output_type": "stream",
     "text": [
      "987654321"
     ]
    }
   ],
   "source": [
    "for i in reversed(range(1,10)):\n",
    "    print(i, end='')\n",
    "    "
   ]
  },
  {
   "cell_type": "code",
   "execution_count": 19,
   "id": "2d4137dd-bc7c-4847-b59f-7f549d6d4c17",
   "metadata": {},
   "outputs": [
    {
     "name": "stdout",
     "output_type": "stream",
     "text": [
      "A\n",
      "A\n",
      "A\n",
      "A\n",
      "A\n",
      "A\n",
      "A\n"
     ]
    }
   ],
   "source": [
    "for i in range(1,8):\n",
    "    print('A')"
   ]
  },
  {
   "cell_type": "code",
   "execution_count": 25,
   "id": "7db57fdf-88df-4c5a-9623-ed8664ef040a",
   "metadata": {},
   "outputs": [
    {
     "name": "stdin",
     "output_type": "stream",
     "text": [
      "enter the start  number which you want cube: 23\n",
      "enter the ending number which you want cube: 45\n"
     ]
    },
    {
     "name": "stdout",
     "output_type": "stream",
     "text": [
      "The cube of 23 is 12167\n",
      "The cube of 24 is 13824\n",
      "The cube of 25 is 15625\n",
      "The cube of 26 is 17576\n",
      "The cube of 27 is 19683\n",
      "The cube of 28 is 21952\n",
      "The cube of 29 is 24389\n",
      "The cube of 30 is 27000\n",
      "The cube of 31 is 29791\n",
      "The cube of 32 is 32768\n",
      "The cube of 33 is 35937\n",
      "The cube of 34 is 39304\n",
      "The cube of 35 is 42875\n",
      "The cube of 36 is 46656\n",
      "The cube of 37 is 50653\n",
      "The cube of 38 is 54872\n",
      "The cube of 39 is 59319\n",
      "The cube of 40 is 64000\n",
      "The cube of 41 is 68921\n",
      "The cube of 42 is 74088\n",
      "The cube of 43 is 79507\n",
      "The cube of 44 is 85184\n"
     ]
    }
   ],
   "source": [
    "x= eval(input('enter the start  number which you want cube:'))\n",
    "y = eval(input('enter the ending number which you want cube:'))\n",
    "for i in range(x,y):\n",
    "    print('The cube of {} is {}' .format(i, i*i*i))\n",
    "\n",
    "        \n"
   ]
  },
  {
   "cell_type": "code",
   "execution_count": 27,
   "id": "d97ae312-3ab9-45eb-a187-d4e731d5f323",
   "metadata": {},
   "outputs": [
    {
     "name": "stdout",
     "output_type": "stream",
     "text": [
      "The sum of first ten natural number is 55\n"
     ]
    }
   ],
   "source": [
    "summ =0;\n",
    "\n",
    "for i in range (1,11):\n",
    "    summ = summ+ i\n",
    "\n",
    "print('The sum of first ten natural number is {}' .format(summ))"
   ]
  },
  {
   "cell_type": "code",
   "execution_count": null,
   "id": "7c1365bb-413c-41a0-a58a-85a57d5ea05d",
   "metadata": {},
   "outputs": [],
   "source": []
  }
 ],
 "metadata": {
  "kernelspec": {
   "display_name": "Python 3 (ipykernel)",
   "language": "python",
   "name": "python3"
  },
  "language_info": {
   "codemirror_mode": {
    "name": "ipython",
    "version": 3
   },
   "file_extension": ".py",
   "mimetype": "text/x-python",
   "name": "python",
   "nbconvert_exporter": "python",
   "pygments_lexer": "ipython3",
   "version": "3.12.7"
  }
 },
 "nbformat": 4,
 "nbformat_minor": 5
}
