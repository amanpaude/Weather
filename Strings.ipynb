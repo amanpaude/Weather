{
 "cells": [
  {
   "cell_type": "code",
   "execution_count": 1,
   "id": "7e5a0559-7448-40f9-926b-36be6ad9f5a2",
   "metadata": {},
   "outputs": [],
   "source": [
    " #string \n",
    "#list\n",
    "#dictonary\n",
    "#set\n",
    "#tuple"
   ]
  },
  {
   "cell_type": "markdown",
   "id": "28554e40-fe52-43dc-996a-4843386f4602",
   "metadata": {},
   "source": [
    "**How to read the strings**"
   ]
  },
  {
   "cell_type": "code",
   "execution_count": 5,
   "id": "500908aa-3701-4692-99db-c5c258013827",
   "metadata": {},
   "outputs": [
    {
     "data": {
      "text/plain": [
       "'python'"
      ]
     },
     "execution_count": 5,
     "metadata": {},
     "output_type": "execute_result"
    }
   ],
   "source": [
    "String1= 'python'\n",
    "\n",
    "String2 = \"python\"\n",
    "String2"
   ]
  },
  {
   "cell_type": "code",
   "execution_count": null,
   "id": "59977945-eaae-4312-968d-655226ed7890",
   "metadata": {},
   "outputs": [],
   "source": [
    "'hello python'\n"
   ]
  },
  {
   "cell_type": "code",
   "execution_count": 9,
   "id": "022ca2ca-d7f4-4d86-b198-58eca68e7934",
   "metadata": {},
   "outputs": [
    {
     "name": "stdout",
     "output_type": "stream",
     "text": [
      "hello\"world\"\n"
     ]
    }
   ],
   "source": [
    "string3= 'hello\"world\"'\n",
    "print(string3)"
   ]
  },
  {
   "cell_type": "markdown",
   "id": "e231f54b-bc06-4cc6-a440-dad723afc98a",
   "metadata": {},
   "source": [
    "- type\n",
    "- lens\n",
    "- max\n",
    "- min"
   ]
  },
  {
   "cell_type": "code",
   "execution_count": 21,
   "id": "7e236313-84de-4dbe-9519-fada2cfd6f27",
   "metadata": {},
   "outputs": [
    {
     "data": {
      "text/plain": [
       "3"
      ]
     },
     "execution_count": 21,
     "metadata": {},
     "output_type": "execute_result"
    }
   ],
   "source": [
    "string1= 'Cc'\n",
    "len(string1)"
   ]
  },
  {
   "cell_type": "code",
   "execution_count": 26,
   "id": "bdfda26e-763a-4333-a5bd-982115ecc6a8",
   "metadata": {},
   "outputs": [
    {
     "data": {
      "text/plain": [
       "'c'"
      ]
     },
     "execution_count": 26,
     "metadata": {},
     "output_type": "execute_result"
    }
   ],
   "source": [
    "max(string1)"
   ]
  },
  {
   "cell_type": "code",
   "execution_count": 30,
   "id": "c1afc6d1-16bd-4153-b68e-ae3854250a49",
   "metadata": {},
   "outputs": [
    {
     "ename": "TypeError",
     "evalue": "ord() expected a character, but string of length 3 found",
     "output_type": "error",
     "traceback": [
      "\u001b[1;31m---------------------------------------------------------------------------\u001b[0m",
      "\u001b[1;31mTypeError\u001b[0m                                 Traceback (most recent call last)",
      "Cell \u001b[1;32mIn[30], line 1\u001b[0m\n\u001b[1;32m----> 1\u001b[0m \u001b[38;5;28mord\u001b[39m(string1)\n",
      "\u001b[1;31mTypeError\u001b[0m: ord() expected a character, but string of length 3 found"
     ]
    }
   ],
   "source": [
    "ord(string1)"
   ]
  },
  {
   "cell_type": "code",
   "execution_count": 32,
   "id": "9b1ded39-7d5e-4c79-a59c-c85656875b01",
   "metadata": {},
   "outputs": [
    {
     "data": {
      "text/plain": [
       "97"
      ]
     },
     "execution_count": 32,
     "metadata": {},
     "output_type": "execute_result"
    }
   ],
   "source": [
    "ord('a')"
   ]
  },
  {
   "cell_type": "code",
   "execution_count": 36,
   "id": "ee27a648-dc15-4272-b9e5-5c50a0822bc3",
   "metadata": {},
   "outputs": [
    {
     "data": {
      "text/plain": [
       "'a'"
      ]
     },
     "execution_count": 36,
     "metadata": {},
     "output_type": "execute_result"
    }
   ],
   "source": [
    "chr(97)"
   ]
  },
  {
   "cell_type": "code",
   "execution_count": 38,
   "id": "d51a87d8-4829-4991-85c0-a9898a2b593f",
   "metadata": {},
   "outputs": [
    {
     "data": {
      "text/plain": [
       "'u'"
      ]
     },
     "execution_count": 38,
     "metadata": {},
     "output_type": "execute_result"
    }
   ],
   "source": [
    "chr(117)"
   ]
  },
  {
   "cell_type": "markdown",
   "id": "8ee67713-5cd2-4550-95bd-d82f5b64605d",
   "metadata": {},
   "source": [
    "$in$"
   ]
  },
  {
   "cell_type": "code",
   "execution_count": null,
   "id": "7fb50c14-244e-4a38-894d-7fb9b66bad4e",
   "metadata": {},
   "outputs": [],
   "source": [
    "in operator"
   ]
  },
  {
   "cell_type": "code",
   "execution_count": 41,
   "id": "0036ed1a-d16e-44fa-b4c8-302cd60945ee",
   "metadata": {},
   "outputs": [
    {
     "data": {
      "text/plain": [
       "True"
      ]
     },
     "execution_count": 41,
     "metadata": {},
     "output_type": "execute_result"
    }
   ],
   "source": [
    "string1 = 'python'\n",
    "'p' in string1\n"
   ]
  },
  {
   "cell_type": "code",
   "execution_count": 43,
   "id": "21b6c69d-852f-4bfc-86ff-ae233492497f",
   "metadata": {},
   "outputs": [
    {
     "data": {
      "text/plain": [
       "['Formatter',\n",
       " 'Template',\n",
       " '_ChainMap',\n",
       " '__all__',\n",
       " '__builtins__',\n",
       " '__cached__',\n",
       " '__doc__',\n",
       " '__file__',\n",
       " '__loader__',\n",
       " '__name__',\n",
       " '__package__',\n",
       " '__spec__',\n",
       " '_re',\n",
       " '_sentinel_dict',\n",
       " '_string',\n",
       " 'ascii_letters',\n",
       " 'ascii_lowercase',\n",
       " 'ascii_uppercase',\n",
       " 'capwords',\n",
       " 'digits',\n",
       " 'hexdigits',\n",
       " 'octdigits',\n",
       " 'printable',\n",
       " 'punctuation',\n",
       " 'whitespace']"
      ]
     },
     "execution_count": 43,
     "metadata": {},
     "output_type": "execute_result"
    }
   ],
   "source": [
    "import string\n",
    "dir(string)"
   ]
  },
  {
   "cell_type": "code",
   "execution_count": 51,
   "id": "cd9cf468-5dfe-4071-bf62-72626401eaf9",
   "metadata": {},
   "outputs": [
    {
     "data": {
      "text/plain": [
       "'ABCDEFGHIJKLMNOPQRSTUVWXYZ'"
      ]
     },
     "execution_count": 51,
     "metadata": {},
     "output_type": "execute_result"
    }
   ],
   "source": [
    "string.ascii_uppercase"
   ]
  },
  {
   "cell_type": "code",
   "execution_count": 57,
   "id": "0ac7529a-8e62-43bd-93df-32e435c4c82b",
   "metadata": {},
   "outputs": [
    {
     "name": "stdout",
     "output_type": "stream",
     "text": [
      "the ascii value of A is65\n",
      "the ascii value of B is66\n",
      "the ascii value of C is67\n",
      "the ascii value of D is68\n",
      "the ascii value of E is69\n",
      "the ascii value of F is70\n",
      "the ascii value of G is71\n",
      "the ascii value of H is72\n",
      "the ascii value of I is73\n",
      "the ascii value of J is74\n",
      "the ascii value of K is75\n",
      "the ascii value of L is76\n",
      "the ascii value of M is77\n",
      "the ascii value of N is78\n",
      "the ascii value of O is79\n",
      "the ascii value of P is80\n",
      "the ascii value of Q is81\n",
      "the ascii value of R is82\n",
      "the ascii value of S is83\n",
      "the ascii value of T is84\n",
      "the ascii value of U is85\n",
      "the ascii value of V is86\n",
      "the ascii value of W is87\n",
      "the ascii value of X is88\n",
      "the ascii value of Y is89\n",
      "the ascii value of Z is90\n"
     ]
    }
   ],
   "source": [
    "for i in string.ascii_uppercase:\n",
    "    print('the ascii value of {} is{}'.format(i, ord(i)))"
   ]
  },
  {
   "cell_type": "code",
   "execution_count": 77,
   "id": "ec851dc1-1506-4d24-8f10-035cf4dec31e",
   "metadata": {},
   "outputs": [],
   "source": [
    "string12 = 'jhgfkasgfkjasg asgfkas assgjkf asgkj'\n",
    "count = 0\n"
   ]
  },
  {
   "cell_type": "code",
   "execution_count": 67,
   "id": "b0551345-ec78-4604-becb-389be76d2a23",
   "metadata": {},
   "outputs": [
    {
     "name": "stdout",
     "output_type": "stream",
     "text": [
      "a\n"
     ]
    }
   ],
   "source": [
    "\n"
   ]
  },
  {
   "cell_type": "code",
   "execution_count": 81,
   "id": "55f7563e-ecb5-453d-8841-0c49f5db8992",
   "metadata": {},
   "outputs": [
    {
     "name": "stdout",
     "output_type": "stream",
     "text": [
      "j\n",
      "h\n",
      "g\n",
      "f\n",
      "k\n",
      "a\n",
      "s\n",
      "g\n",
      "f\n",
      "k\n",
      "j\n",
      "a\n",
      "s\n",
      "g\n",
      " \n",
      "a\n",
      "s\n",
      "g\n",
      "f\n",
      "k\n",
      "a\n",
      "s\n",
      " \n",
      "a\n",
      "s\n",
      "s\n",
      "g\n",
      "j\n",
      "k\n",
      "f\n",
      " \n",
      "a\n",
      "s\n",
      "g\n",
      "k\n",
      "j\n",
      "0\n"
     ]
    }
   ],
   "source": [
    "for i in string12:\n",
    "    print(i)\n",
    "\n",
    "if(i=='a'):\n",
    "    count=count+1\n",
    "\n",
    "print(count)"
   ]
  },
  {
   "cell_type": "code",
   "execution_count": 95,
   "id": "45973b47-63b5-4623-99a3-7bf5dbdfa2f3",
   "metadata": {},
   "outputs": [
    {
     "name": "stdout",
     "output_type": "stream",
     "text": [
      "7\n"
     ]
    }
   ],
   "source": [
    "string= 'hai how are you'\n",
    "count= 0\n",
    "for i in string:\n",
    "    if i in 'aeiou':\n",
    "        count= count+1\n",
    "\n",
    "print(count)\n",
    "    \n",
    "    \n"
   ]
  },
  {
   "cell_type": "code",
   "execution_count": 97,
   "id": "b7bdee47-dcf9-4c1f-860d-a36ad8159aa6",
   "metadata": {},
   "outputs": [
    {
     "ename": "SyntaxError",
     "evalue": "unterminated string literal (detected at line 2) (3546649076.py, line 2)",
     "output_type": "error",
     "traceback": [
      "\u001b[1;36m  Cell \u001b[1;32mIn[97], line 2\u001b[1;36m\u001b[0m\n\u001b[1;33m    str2='abc\u001b[0m\n\u001b[1;37m         ^\u001b[0m\n\u001b[1;31mSyntaxError\u001b[0m\u001b[1;31m:\u001b[0m unterminated string literal (detected at line 2)\n"
     ]
    }
   ],
   "source": [
    "str1= 'hah'\n",
    "str2='abc\n",
    "str1-str2"
   ]
  },
  {
   "cell_type": "code",
   "execution_count": 99,
   "id": "6b8fb9eb-e25b-46d3-ad3a-7c5da7e1882a",
   "metadata": {},
   "outputs": [
    {
     "ename": "NameError",
     "evalue": "name 'str1' is not defined",
     "output_type": "error",
     "traceback": [
      "\u001b[1;31m---------------------------------------------------------------------------\u001b[0m",
      "\u001b[1;31mNameError\u001b[0m                                 Traceback (most recent call last)",
      "Cell \u001b[1;32mIn[99], line 1\u001b[0m\n\u001b[1;32m----> 1\u001b[0m str1\u001b[38;5;241m/\u001b[39mstr2\n",
      "\u001b[1;31mNameError\u001b[0m: name 'str1' is not defined"
     ]
    }
   ],
   "source": [
    "str1/str2"
   ]
  },
  {
   "cell_type": "markdown",
   "id": "84e67f09-a852-42fb-930c-b78d0e5656dc",
   "metadata": {},
   "source": [
    "$$index$$"
   ]
  },
  {
   "cell_type": "code",
   "execution_count": 1,
   "id": "25ab7b22-4a7f-45c7-8c5e-d4c6afbc133f",
   "metadata": {},
   "outputs": [
    {
     "name": "stdout",
     "output_type": "stream",
     "text": [
      "a\n",
      "m\n",
      "a\n",
      "n\n"
     ]
    }
   ],
   "source": [
    "string= 'aman'\n"
   ]
  },
  {
   "cell_type": "code",
   "execution_count": 5,
   "id": "10ca665a-2d22-48bd-ae4d-27abb848ba5f",
   "metadata": {},
   "outputs": [
    {
     "data": {
      "text/plain": [
       "'m'"
      ]
     },
     "execution_count": 5,
     "metadata": {},
     "output_type": "execute_result"
    }
   ],
   "source": [
    "string[1]"
   ]
  },
  {
   "cell_type": "code",
   "execution_count": 13,
   "id": "7340a61d-10ac-4e59-82e2-3a5cdb6d4a13",
   "metadata": {},
   "outputs": [
    {
     "name": "stdout",
     "output_type": "stream",
     "text": [
      "a m a n 0 a\n",
      "1 m\n",
      "2 a\n",
      "3 n\n"
     ]
    }
   ],
   "source": [
    "for i in string:\n",
    "    print(i, end=' ')\n",
    "\n",
    "for i in range(len(string)):\n",
    "    print(i,string[i])"
   ]
  },
  {
   "cell_type": "code",
   "execution_count": 23,
   "id": "b53f64a0-6df4-4d5a-acec-423254586a4e",
   "metadata": {},
   "outputs": [
    {
     "name": "stdout",
     "output_type": "stream",
     "text": [
      "the index of n is 3\n"
     ]
    }
   ],
   "source": [
    "print('the index of {} is {}'.format(string[i], i))"
   ]
  },
  {
   "cell_type": "code",
   "execution_count": 43,
   "id": "2fb80dba-8e71-4b4b-9980-7834fbb693ef",
   "metadata": {},
   "outputs": [
    {
     "name": "stdout",
     "output_type": "stream",
     "text": [
      "the index of a is 0\n",
      "the index of m is 1\n",
      "the index of a is 2\n",
      "the index of n is 3\n"
     ]
    }
   ],
   "source": [
    "string = 'aman'\n",
    "\n",
    "\n",
    "for i in range(len(string)):\n",
    "    print('the index of {} is {}'.format(string[i], i))"
   ]
  },
  {
   "cell_type": "code",
   "execution_count": 49,
   "id": "a633acbc-16d3-42d5-955d-582922fc583b",
   "metadata": {},
   "outputs": [
    {
     "data": {
      "text/plain": [
       "'a'"
      ]
     },
     "execution_count": 49,
     "metadata": {},
     "output_type": "execute_result"
    }
   ],
   "source": [
    "string[0]"
   ]
  },
  {
   "cell_type": "code",
   "execution_count": 53,
   "id": "6eec4ea4-fac1-486f-ad27-2d6b181c9ec7",
   "metadata": {},
   "outputs": [
    {
     "name": "stdout",
     "output_type": "stream",
     "text": [
      "-3\n",
      "-2\n",
      "-1\n"
     ]
    }
   ],
   "source": [
    "string12='aman'\n",
    "for i in range(-3,0):\n",
    "    print\n",
    "    \n",
    "    \n"
   ]
  },
  {
   "cell_type": "code",
   "execution_count": 59,
   "id": "18e54bec-c9cb-4f03-899b-d3bc7325e4af",
   "metadata": {},
   "outputs": [
    {
     "name": "stdout",
     "output_type": "stream",
     "text": [
      "The positive index of p is 0 and the negative index of p is -6\n",
      "The positive index of y is 1 and the negative index of y is -5\n",
      "The positive index of t is 2 and the negative index of t is -4\n",
      "The positive index of h is 3 and the negative index of h is -3\n",
      "The positive index of o is 4 and the negative index of o is -2\n",
      "The positive index of n is 5 and the negative index of n is -1\n"
     ]
    }
   ],
   "source": [
    "string='python'\n",
    "for i in range(len(string)):\n",
    "    print('The positive index of {} is {} and the negative index of {} is {}'.format(string[i],i,string[i],i-6))\n",
    "    "
   ]
  },
  {
   "cell_type": "code",
   "execution_count": null,
   "id": "a819f7d8-b25e-4228-8e02-ffa13f5b1e36",
   "metadata": {},
   "outputs": [],
   "source": [
    "string1='python'\n"
   ]
  },
  {
   "cell_type": "code",
   "execution_count": null,
   "id": "c3a472ad-529e-4e0b-a19e-5650aba1a135",
   "metadata": {},
   "outputs": [],
   "source": [
    "strings are immutable\n",
    "we cant change the value of string using index operation\n"
   ]
  },
  {
   "cell_type": "code",
   "execution_count": 61,
   "id": "4c5fd418-a086-4862-93ee-e1ecf2b87c7f",
   "metadata": {},
   "outputs": [
    {
     "data": {
      "text/plain": [
       "['__add__',\n",
       " '__class__',\n",
       " '__contains__',\n",
       " '__delattr__',\n",
       " '__dir__',\n",
       " '__doc__',\n",
       " '__eq__',\n",
       " '__format__',\n",
       " '__ge__',\n",
       " '__getattribute__',\n",
       " '__getitem__',\n",
       " '__getnewargs__',\n",
       " '__getstate__',\n",
       " '__gt__',\n",
       " '__hash__',\n",
       " '__init__',\n",
       " '__init_subclass__',\n",
       " '__iter__',\n",
       " '__le__',\n",
       " '__len__',\n",
       " '__lt__',\n",
       " '__mod__',\n",
       " '__mul__',\n",
       " '__ne__',\n",
       " '__new__',\n",
       " '__reduce__',\n",
       " '__reduce_ex__',\n",
       " '__repr__',\n",
       " '__rmod__',\n",
       " '__rmul__',\n",
       " '__setattr__',\n",
       " '__sizeof__',\n",
       " '__str__',\n",
       " '__subclasshook__',\n",
       " 'capitalize',\n",
       " 'casefold',\n",
       " 'center',\n",
       " 'count',\n",
       " 'encode',\n",
       " 'endswith',\n",
       " 'expandtabs',\n",
       " 'find',\n",
       " 'format',\n",
       " 'format_map',\n",
       " 'index',\n",
       " 'isalnum',\n",
       " 'isalpha',\n",
       " 'isascii',\n",
       " 'isdecimal',\n",
       " 'isdigit',\n",
       " 'isidentifier',\n",
       " 'islower',\n",
       " 'isnumeric',\n",
       " 'isprintable',\n",
       " 'isspace',\n",
       " 'istitle',\n",
       " 'isupper',\n",
       " 'join',\n",
       " 'ljust',\n",
       " 'lower',\n",
       " 'lstrip',\n",
       " 'maketrans',\n",
       " 'partition',\n",
       " 'removeprefix',\n",
       " 'removesuffix',\n",
       " 'replace',\n",
       " 'rfind',\n",
       " 'rindex',\n",
       " 'rjust',\n",
       " 'rpartition',\n",
       " 'rsplit',\n",
       " 'rstrip',\n",
       " 'split',\n",
       " 'splitlines',\n",
       " 'startswith',\n",
       " 'strip',\n",
       " 'swapcase',\n",
       " 'title',\n",
       " 'translate',\n",
       " 'upper',\n",
       " 'zfill']"
      ]
     },
     "execution_count": 61,
     "metadata": {},
     "output_type": "execute_result"
    }
   ],
   "source": [
    "dir(string)"
   ]
  },
  {
   "cell_type": "markdown",
   "id": "9e1fc9e0-565a-4215-9386-1798f37769cf",
   "metadata": {},
   "source": [
    "$slice$\n",
    "\n"
   ]
  },
  {
   "cell_type": "code",
   "execution_count": 76,
   "id": "b1b59dd1-df83-40a0-a728-914ccc828275",
   "metadata": {},
   "outputs": [
    {
     "data": {
      "text/plain": [
       "'h'"
      ]
     },
     "execution_count": 76,
     "metadata": {},
     "output_type": "execute_result"
    }
   ],
   "source": [
    "string1= 'Hai hi are you'\n",
    "string1[4]"
   ]
  },
  {
   "cell_type": "code",
   "execution_count": 78,
   "id": "fe839acf-5da9-48de-bf7d-df6e6a63bb40",
   "metadata": {},
   "outputs": [
    {
     "data": {
      "text/plain": [
       "'i hi are'"
      ]
     },
     "execution_count": 78,
     "metadata": {},
     "output_type": "execute_result"
    }
   ],
   "source": [
    "string1[2:10]"
   ]
  },
  {
   "cell_type": "code",
   "execution_count": 84,
   "id": "7a7a5332-7ba4-4775-9596-3d6749ecf730",
   "metadata": {},
   "outputs": [
    {
     "data": {
      "text/plain": [
       "'Hai hi are you'"
      ]
     },
     "execution_count": 84,
     "metadata": {},
     "output_type": "execute_result"
    }
   ],
   "source": [
    "string1[:]"
   ]
  },
  {
   "cell_type": "code",
   "execution_count": 1,
   "id": "f4e5fd03-6500-46ce-a8c7-594d5c841672",
   "metadata": {},
   "outputs": [
    {
     "data": {
      "text/plain": [
       "'welocme'"
      ]
     },
     "execution_count": 1,
     "metadata": {},
     "output_type": "execute_result"
    }
   ],
   "source": [
    "string1='weLocme'\n",
    "string1.casefold()"
   ]
  },
  {
   "cell_type": "code",
   "execution_count": 3,
   "id": "7d29c1a2-61b1-4de8-b511-91e587afd558",
   "metadata": {},
   "outputs": [
    {
     "data": {
      "text/plain": [
       "'WELOCME'"
      ]
     },
     "execution_count": 3,
     "metadata": {},
     "output_type": "execute_result"
    }
   ],
   "source": [
    "string1.upper()"
   ]
  },
  {
   "cell_type": "markdown",
   "id": "09c3f6b3-29a9-434c-b2e4-93fc57d71640",
   "metadata": {},
   "source": [
    "$count$"
   ]
  },
  {
   "cell_type": "code",
   "execution_count": 10,
   "id": "525d95b0-3a20-439d-b0d5-2d3bac77d581",
   "metadata": {},
   "outputs": [
    {
     "data": {
      "text/plain": [
       "1"
      ]
     },
     "execution_count": 10,
     "metadata": {},
     "output_type": "execute_result"
    }
   ],
   "source": [
    "strin1='hi how are you'\n",
    "strin1.count('a')"
   ]
  },
  {
   "cell_type": "code",
   "execution_count": 12,
   "id": "4e2f5bc3-71af-444a-947d-194e2cbcaa33",
   "metadata": {},
   "outputs": [],
   "source": [
    "strinng1='ola ola ola'"
   ]
  },
  {
   "cell_type": "code",
   "execution_count": 20,
   "id": "bd7b27fc-dfe7-45ec-8bb8-b0c7ddf97c01",
   "metadata": {},
   "outputs": [
    {
     "name": "stdout",
     "output_type": "stream",
     "text": [
      "3\n"
     ]
    }
   ],
   "source": [
    "print(strinng1.count('ola'))"
   ]
  },
  {
   "cell_type": "code",
   "execution_count": 26,
   "id": "2e833a49-1a31-40c2-afca-d7615c8c1c36",
   "metadata": {},
   "outputs": [
    {
     "name": "stdout",
     "output_type": "stream",
     "text": [
      "2\n"
     ]
    }
   ],
   "source": [
    "string1='ola ola ola'\n",
    "print(string1.count('a' , 4))"
   ]
  },
  {
   "cell_type": "code",
   "execution_count": null,
   "id": "46506340-9169-4747-b70a-da531267df2d",
   "metadata": {},
   "outputs": [],
   "source": [
    "string1 ='ola ola ola'\n",
    "count= 0\n",
    "for i in string1:\n",
    "    "
   ]
  },
  {
   "cell_type": "code",
   "execution_count": null,
   "id": "34ea897d-7231-4090-afd2-bb97da6ad27b",
   "metadata": {},
   "outputs": [],
   "source": []
  },
  {
   "cell_type": "code",
   "execution_count": null,
   "id": "5a7af21c-b3eb-4551-b8f7-0f5a27cbaf98",
   "metadata": {},
   "outputs": [],
   "source": []
  }
 ],
 "metadata": {
  "kernelspec": {
   "display_name": "Python 3 (ipykernel)",
   "language": "python",
   "name": "python3"
  },
  "language_info": {
   "codemirror_mode": {
    "name": "ipython",
    "version": 3
   },
   "file_extension": ".py",
   "mimetype": "text/x-python",
   "name": "python",
   "nbconvert_exporter": "python",
   "pygments_lexer": "ipython3",
   "version": "3.12.7"
  }
 },
 "nbformat": 4,
 "nbformat_minor": 5
}
