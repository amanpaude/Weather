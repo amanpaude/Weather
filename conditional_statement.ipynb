{
 "cells": [
  {
   "cell_type": "markdown",
   "id": "3d9e6478-31df-4f82-8d1a-866bd9b7598c",
   "metadata": {},
   "source": [
    "# conditional statement"
   ]
  },
  {
   "cell_type": "code",
   "execution_count": 6,
   "id": "61c71e2a-c161-482b-855e-572701d6b032",
   "metadata": {},
   "outputs": [
    {
     "name": "stdout",
     "output_type": "stream",
     "text": [
      "madarchod\n"
     ]
    }
   ],
   "source": [
    "name = 'pyhon'\n",
    "if name== 'python':\n",
    "    print('won')\n",
    "\n",
    "else:\n",
    "    print('madarchod')"
   ]
  },
  {
   "cell_type": "code",
   "execution_count": null,
   "id": "7dafa39c-1d40-4f23-8961-680b38ef0db7",
   "metadata": {},
   "outputs": [],
   "source": [
    "if <condition> match then it will run otherwise the else wil run."
   ]
  },
  {
   "cell_type": "code",
   "execution_count": null,
   "id": "52fdcf49-e76f-4a26-a6f1-42e7ce7f3047",
   "metadata": {},
   "outputs": [],
   "source": [
    "If the condition is true enter the block otherwise dont enter the block."
   ]
  },
  {
   "cell_type": "code",
   "execution_count": 50,
   "id": "0c985070-dc92-4790-8604-6adff56b17d8",
   "metadata": {},
   "outputs": [
    {
     "name": "stdout",
     "output_type": "stream",
     "text": [
      "hello\n",
      "10\n"
     ]
    },
    {
     "name": "stdin",
     "output_type": "stream",
     "text": [
      "enter the number 1: 34\n",
      "enter the number 2 44\n"
     ]
    },
    {
     "name": "stdout",
     "output_type": "stream",
     "text": [
      "This is false case\n",
      "The multiplication of 34 and 44 is 1496\n"
     ]
    }
   ],
   "source": [
    "import time\n",
    "print('hello')\n",
    "print(10)\n",
    "num1= eval(input('enter the number 1:'))\n",
    "num2= eval(input('enter the number 2'))\n",
    "if num1 == num2:\n",
    "     print('this is true case')\n",
    "     print('The addition of {} and {} is' .format(num1, num2, num1+num2))\n",
    "     print('happy ending')\n",
    "\n",
    "else:\n",
    "      print('This is false case')\n",
    "\n",
    "        ##print('we are doing multiplication')\n",
    "\n",
    "      print('The multiplication of {} and {} is {}' .format(num1,num2, num1*num2))\n",
    "    \n",
    "    \n"
   ]
  },
  {
   "cell_type": "code",
   "execution_count": 54,
   "id": "6f4c9613-7f3a-47ac-9308-11a7a2e0fe28",
   "metadata": {},
   "outputs": [
    {
     "name": "stdin",
     "output_type": "stream",
     "text": [
      "enter the number 213\n"
     ]
    },
    {
     "name": "stdout",
     "output_type": "stream",
     "text": [
      "213 is an odd number\n"
     ]
    }
   ],
   "source": [
    "num1= eval(input('enter the number'))\n",
    "if(num1%2==0):\n",
    "           print('{} is an even number'.format(num1))\n",
    "\n",
    "           \n",
    "else:\n",
    "           print('{} is an odd number' .format(num1))\n",
    "\n",
    "\n",
    "          \n",
    "     \n",
    "\n",
    "\n"
   ]
  },
  {
   "cell_type": "code",
   "execution_count": 62,
   "id": "4a02109f-bbc1-48cf-8d7b-1d815140e12e",
   "metadata": {},
   "outputs": [
    {
     "name": "stdout",
     "output_type": "stream",
     "text": [
      "9 is an odd number\n"
     ]
    }
   ],
   "source": [
    "import random\n",
    "num1 = random.randint(1,20)\n",
    "\n",
    "if(num1%2==0):\n",
    "    print('{} is a even number'.format(num1))\n",
    "\n",
    "\n",
    "\n",
    "else: \n",
    "    print('{} is an odd number' .format(num1))"
   ]
  },
  {
   "cell_type": "code",
   "execution_count": 19,
   "id": "e80b36f7-1d53-43cf-a037-30100a56d2bd",
   "metadata": {},
   "outputs": [
    {
     "name": "stdout",
     "output_type": "stream",
     "text": [
      "190\n",
      "you lose\n"
     ]
    }
   ],
   "source": [
    "import random\n",
    "num1 = random.randint(1,200)\n",
    "print(num1)\n",
    "if(10<num1<99):\n",
    "    print('you win')\n",
    "\n",
    "else:\n",
    "    print('you lose')\n",
    "    "
   ]
  },
  {
   "cell_type": "code",
   "execution_count": 25,
   "id": "e8d42291-c97f-49e2-bdc1-4f5578ea2eef",
   "metadata": {},
   "outputs": [
    {
     "name": "stdin",
     "output_type": "stream",
     "text": [
      "Enter the number 421\n"
     ]
    },
    {
     "name": "stdout",
     "output_type": "stream",
     "text": [
      "It is positive number\n"
     ]
    }
   ],
   "source": []
  },
  {
   "cell_type": "code",
   "execution_count": 29,
   "id": "45b825bf-fc53-453f-a665-4f9582dc697d",
   "metadata": {},
   "outputs": [
    {
     "name": "stdin",
     "output_type": "stream",
     "text": [
      "enter the number 213\n"
     ]
    },
    {
     "name": "stdout",
     "output_type": "stream",
     "text": [
      "positive\n"
     ]
    }
   ],
   "source": [
    "num1= eval(input('enter the number'))\n",
    "if(num1>0):\n",
    "    print('positive')\n",
    "\n",
    "\n",
    "elif num1==0:\n",
    "    print('zero')\n",
    "\n",
    "else: \n",
    "    print('Negative')\n",
    "          \n",
    "           "
   ]
  },
  {
   "cell_type": "code",
   "execution_count": 37,
   "id": "bc1da3e9-565d-414e-818b-f18f8f694785",
   "metadata": {},
   "outputs": [
    {
     "name": "stdin",
     "output_type": "stream",
     "text": [
      "enter the marks: 23\n"
     ]
    },
    {
     "name": "stdout",
     "output_type": "stream",
     "text": [
      "hyatteri fail vaioo\n"
     ]
    }
   ],
   "source": [
    "mark = eval(input('enter the marks:'))\n",
    "if(mark>90):\n",
    "    print('Wow congratulation you got the A graded')\n",
    "\n",
    "elif(70<mark>=90):\n",
    "    print('Damn its B')\n",
    "\n",
    "elif(50<mark>=70):\n",
    "    print('iTS c GRADE')\n",
    "\n",
    "else:\n",
    "    print('hyatteri fail vaioo')\n",
    "\n",
    "          \n",
    "            "
   ]
  },
  {
   "cell_type": "code",
   "execution_count": 53,
   "id": "5bbb24eb-f517-4224-b790-c2725f82865e",
   "metadata": {},
   "outputs": [
    {
     "name": "stdin",
     "output_type": "stream",
     "text": [
      "Enter the age: 23\n"
     ]
    },
    {
     "name": "stdout",
     "output_type": "stream",
     "text": [
      "wassup my nigger\n"
     ]
    }
   ],
   "source": [
    "age = eval(input('Enter the age:'))\n",
    "if(age>60):\n",
    "    print(\"Ohh damnn the  heaven is near\")\n",
    "\n",
    "elif 45<age<60:\n",
    "    print('you old man whacchu doinn')\n",
    "\n",
    "elif 30<age<45:\n",
    "    print('yoo myy boiiii goo hit some gym otherwise diabetis will hit you')\n",
    "\n",
    "elif(20<age<30):\n",
    "    print('wassup my nigger')\n",
    "\n",
    "elif(13<age<20):\n",
    "    print('HQ porner is the best site for you')\n",
    "\n",
    "else:\n",
    "    print('You deadass child dont cry')\n",
    "\n"
   ]
  },
  {
   "cell_type": "markdown",
   "id": "4db0d89e-7844-42e0-baba-09fe76c69349",
   "metadata": {},
   "source": [
    "# charge distance concept"
   ]
  },
  {
   "cell_type": "code",
   "execution_count": 90,
   "id": "12cbb501-7dbb-47ba-af25-0dc100f0fa69",
   "metadata": {},
   "outputs": [
    {
     "name": "stdin",
     "output_type": "stream",
     "text": [
      "Enter the distance 3\n"
     ]
    },
    {
     "name": "stdout",
     "output_type": "stream",
     "text": [
      "The charge is 30 rs\n"
     ]
    }
   ],
   "source": [
    "dist = eval(input('Enter the distance'))\n",
    "if(dist>10):\n",
    "    print(\"The charge is 100rs\")\n",
    "\n",
    "elif 7<dist<10:\n",
    "    print('The charge is 70rs')\n",
    "\n",
    "elif 4<dist<7:\n",
    "    print('The charge is 40rs')\n",
    "else:\n",
    "    print('The charge is 30 rs')\n"
   ]
  },
  {
   "cell_type": "markdown",
   "id": "c26bd258-450f-40fe-a2b9-e4d77da81ee0",
   "metadata": {},
   "source": [
    "# salary tax problem"
   ]
  },
  {
   "cell_type": "code",
   "execution_count": 114,
   "id": "f6ea31e0-32b1-4c8c-b189-04e3a8f8db12",
   "metadata": {},
   "outputs": [
    {
     "name": "stdin",
     "output_type": "stream",
     "text": [
      "enter the salary 599900\n",
      "enter your name: rw\n"
     ]
    },
    {
     "name": "stdout",
     "output_type": "stream",
     "text": [
      "rw, your tax percentage is 2.5%\n",
      "You have to pay 14997.5\n"
     ]
    }
   ],
   "source": [
    "salary= eval(input(\"enter the salary\"))\n",
    "name= input(\"enter your name:\")\n",
    "if(salary>1000000):\n",
    "    print(\"{}, your tax percentage is 10%\" .format(name))\n",
    "    tax_10= salary*10/100\n",
    "    print(\"You have to pay {}\" .format(tax_10))\n",
    "\n",
    "elif (700000<salary<1000000):\n",
    "    print(\"{}, your tax percentage is 5%\" .format(name))\n",
    "    tax_7= salary*5/100\n",
    "    print(\"You have to pay {}\" .format(tax_7))\n",
    "elif (400000<salary<700000):\n",
    "    print(\"{}, your tax percentage is 2.5%\" .format(name))\n",
    "    tax_4= salary*2.5/100\n",
    "    print(\"You have to pay {}\" .format(tax_4))\n",
    "else:\n",
    "     print(\"you dont have to pay any tax penny\")\n",
    "    "
   ]
  },
  {
   "cell_type": "code",
   "execution_count": 128,
   "id": "a5b39b11-839c-496c-bd87-4d3d0b8b02e9",
   "metadata": {},
   "outputs": [
    {
     "name": "stdin",
     "output_type": "stream",
     "text": [
      "which operation you want to do: add\n",
      "please enter the number 1: 324\n",
      "please enter the number 2: 4234\n"
     ]
    },
    {
     "name": "stdout",
     "output_type": "stream",
     "text": [
      "we are doing addition operation\n",
      "the addition of num1 and num2 is 4558\n"
     ]
    }
   ],
   "source": [
    "oper = str(input('which operation you want to do:'))\n",
    "num1=eval(input('please enter the number 1:'))\n",
    "num2=eval(input('please enter the number 2:'))\n",
    "if(oper=='add'):\n",
    "    print('we are doing addition operation')\n",
    "    add= num1+num2\n",
    "    print('the addition of num1 and num2 is {}'.format(add))\n",
    "\n",
    "elif(oper=='sub'):\n",
    "    print('we are doing subtraction operation')\n",
    "    add= num1-num2\n",
    "    print('the addition of num1 and num2 is {}'.format(sub))\n",
    "\n",
    "elif(oper=='mul'):\n",
    "    print('we are doing multiplication operation')\n",
    "    mul= num1*num2\n",
    "    print('the multiplication of num1 and num2 is {}'.format(mul))\n",
    "\n",
    "elif(oper=='div'):\n",
    "    print('we are doing subtraction operation')\n",
    "    div= num1/num2\n",
    "    print('the division of num1 and num2 is {}'.format(div))\n",
    "\n",
    "else:\n",
    "    print('please choose suitable operator')\n",
    "    \n"
   ]
  },
  {
   "cell_type": "markdown",
   "id": "b1b4bf94-cd57-49bc-a403-eb66383a4a42",
   "metadata": {},
   "source": [
    "$$nested if else$$"
   ]
  },
  {
   "cell_type": "code",
   "execution_count": 131,
   "id": "63ef49d0-8254-4dd5-9cfd-bb9d111c194d",
   "metadata": {},
   "outputs": [
    {
     "name": "stdin",
     "output_type": "stream",
     "text": [
      "Enter the number: 32\n"
     ]
    },
    {
     "name": "stdout",
     "output_type": "stream",
     "text": [
      "It is positive number\n"
     ]
    }
   ],
   "source": [
    "number = eval(input('Enter the number:'))\n",
    "if(number>0):\n",
    "    if number == 0:\n",
    "        print(\"it is zero number\")\n",
    "    else:\n",
    "        print(\"It is positive number\")\n",
    "\n",
    "else:\n",
    "    print(\"It is a negative number\")"
   ]
  },
  {
   "cell_type": "code",
   "execution_count": null,
   "id": "46bbb4d5-ec77-4bc8-9ebd-b65476077f32",
   "metadata": {},
   "outputs": [],
   "source": [
    "#write a program ask the user to find the area of a circle"
   ]
  },
  {
   "cell_type": "code",
   "execution_count": 17,
   "id": "4a318be4-7df3-4a5a-8e22-9f2705a44a8e",
   "metadata": {},
   "outputs": [
    {
     "name": "stdin",
     "output_type": "stream",
     "text": [
      "enter the radius: 23\n"
     ]
    },
    {
     "name": "stdout",
     "output_type": "stream",
     "text": [
      "The area of circle is 1661.9\n"
     ]
    }
   ],
   "source": [
    "import math\n",
    "pii= math.pi\n",
    "rad = eval(input('enter the radius:'))\n",
    "area = round(pii* rad*rad,2)\n",
    "print('The area of circle is {}'.format(area))"
   ]
  },
  {
   "cell_type": "code",
   "execution_count": 11,
   "id": "18ad0afd-b39e-45ce-bf5b-ace5c8001d6e",
   "metadata": {},
   "outputs": [
    {
     "name": "stdin",
     "output_type": "stream",
     "text": [
      "Enter the radius:  23\n"
     ]
    },
    {
     "name": "stdout",
     "output_type": "stream",
     "text": [
      "The area of the circle is 1661.9025137490005\n"
     ]
    }
   ],
   "source": [
    "import math\n",
    "pii = math.pi\n",
    "rad = eval(input('Enter the radius: '))\n",
    "area = pii * rad * rad\n",
    "print('The area of the circle is {}'.format(area))\n"
   ]
  },
  {
   "cell_type": "code",
   "execution_count": null,
   "id": "30dbf8a5-8a4b-4789-8ad9-77bcc458fa89",
   "metadata": {},
   "outputs": [],
   "source": [
    "m-2 with argumnet\n"
   ]
  },
  {
   "cell_type": "code",
   "execution_count": 21,
   "id": "0ec6efc9-718e-4b3f-bfcd-ef571405cad9",
   "metadata": {},
   "outputs": [
    {
     "name": "stdin",
     "output_type": "stream",
     "text": [
      "enter the radius: 12\n"
     ]
    },
    {
     "name": "stdout",
     "output_type": "stream",
     "text": [
      "The area of circle is 452\n"
     ]
    }
   ],
   "source": [
    "import math\n",
    "def circle_area(r):\n",
    "    pii = math.pi\n",
    "    area= round(pii*r**2)\n",
    "    print('The area of circle is {}'.format(area))\n",
    "\n",
    "circle_area(eval(input('enter the radius:')))\n",
    "    \n",
    "    \n",
    "    "
   ]
  },
  {
   "cell_type": "code",
   "execution_count": null,
   "id": "6e0c2f80-2e35-46b9-a372-d79d4c33452c",
   "metadata": {},
   "outputs": [],
   "source": [
    "if we want to use the value outside the function then we have to use return concept"
   ]
  },
  {
   "cell_type": "code",
   "execution_count": null,
   "id": "a3f303ac-a1c2-46df-a4e0-c1858990f024",
   "metadata": {},
   "outputs": [],
   "source": [
    "import math\n",
    "def circle_area(r):\n",
    "    pii = math.pi\n",
    "    area= round(pii*r**2)\n",
    "    print('The area of circle is {}'.format(area))\n",
    "    return(area)\n",
    "circle_area(eval(input('enter the radius:')))\n",
    "    "
   ]
  },
  {
   "cell_type": "code",
   "execution_count": 29,
   "id": "efc43000-41fb-4528-b053-ac5e5a0603d7",
   "metadata": {},
   "outputs": [],
   "source": [
    "aman= circle_area\n"
   ]
  },
  {
   "cell_type": "code",
   "execution_count": 33,
   "id": "ddff0fd8-48d9-44c3-a0c6-66c5a45eccfe",
   "metadata": {},
   "outputs": [
    {
     "name": "stdout",
     "output_type": "stream",
     "text": [
      "<function circle_area at 0x000001F341445D00>\n"
     ]
    }
   ],
   "source": [
    "print(aman)"
   ]
  },
  {
   "cell_type": "code",
   "execution_count": 45,
   "id": "e53e1d19-f960-4660-9d10-36099769db34",
   "metadata": {},
   "outputs": [
    {
     "name": "stdin",
     "output_type": "stream",
     "text": [
      "enter the radius: 12\n"
     ]
    },
    {
     "name": "stdout",
     "output_type": "stream",
     "text": [
      "The area of circle is 452\n",
      "452\n",
      "3.141592653589793\n"
     ]
    }
   ],
   "source": [
    "import math\n",
    "def circle_area():\n",
    "    pii = math.pi\n",
    "    r=eval(input('enter the radius:'))\n",
    "    area= round(pii*r**2)\n",
    "    print('The area of circle is {}'.format(area))\n",
    "    return(area, pii)\n",
    "\n",
    "Area, PI=circle_area()\n",
    "print(Area)\n",
    "print(PI)"
   ]
  },
  {
   "cell_type": "code",
   "execution_count": 49,
   "id": "2b39c0af-943f-4942-b6af-08f2ea464f55",
   "metadata": {},
   "outputs": [
    {
     "name": "stdin",
     "output_type": "stream",
     "text": [
      "enter the num1: 21\n",
      "enter the num2: 21\n",
      "enter the num3: 31\n"
     ]
    },
    {
     "name": "stdout",
     "output_type": "stream",
     "text": [
      "The sum of 3 number is 73\n",
      "The avg of 3 number is 24.333333333333332\n",
      "73\n",
      "24.333333333333332\n"
     ]
    }
   ],
   "source": [
    "def sum_avg():\n",
    "    num1 = eval(input('enter the num1:'))\n",
    "    num2 = eval(input('enter the num2:'))\n",
    "    num3 = eval(input('enter the num3:'))\n",
    "    summ =num1+num2+num3\n",
    "    avg= (num1+num2+num3)/3\n",
    "    print('The sum of 3 number is {}'.format(summ))\n",
    "    print('The avg of 3 number is {}'.format(avg))\n",
    "    return(summ,avg)\n",
    "SUMM , AVG=sum_avg()\n",
    "print(SUMM)\n",
    "print(AVG)\n",
    "\n"
   ]
  },
  {
   "cell_type": "code",
   "execution_count": 63,
   "id": "ec803e05-277c-4dbb-b858-7e3737c69b1e",
   "metadata": {},
   "outputs": [
    {
     "name": "stdin",
     "output_type": "stream",
     "text": [
      "enter the num1: 12\n",
      "enter the num2: 13\n",
      "enter the num3: 14\n"
     ]
    },
    {
     "name": "stdout",
     "output_type": "stream",
     "text": [
      "Number 3 is the biggest number\n",
      "14\n"
     ]
    }
   ],
   "source": [
    "def check():\n",
    "    num1 = eval(input('enter the num1:'))\n",
    "    num2 = eval(input('enter the num2:'))\n",
    "    num3 = eval(input('enter the num3:'))\n",
    "    if(num1>num2 and num1>num3):\n",
    "        print('Number 1 is the biggest nummber')\n",
    "        return(num1)\n",
    "    elif(num2>num1 and num2>num3):\n",
    "        print('Number 2 is the grestest number')\n",
    "        return(num2)\n",
    "    else:\n",
    "        print('Number 3 is the biggest number')\n",
    "        return(num3)\n",
    "\n",
    "biggest =check()\n",
    "print(biggest)"
   ]
  },
  {
   "cell_type": "markdown",
   "id": "117beb3f-b414-41f1-b2f4-14ea79bcef2d",
   "metadata": {},
   "source": [
    "**Local Varaiables**"
   ]
  },
  {
   "cell_type": "markdown",
   "id": "15b0b7dd-fcd0-4bfb-a22a-b92f1efe93b0",
   "metadata": {},
   "source": [
    "**local variables:**\n",
    "     -The variables provide inside the function\n",
    "**global variables:**\n",
    "        -The variables provided inside the function"
   ]
  },
  {
   "cell_type": "code",
   "execution_count": 71,
   "id": "6c61fa11-ee4c-495a-857a-f10f4e8e9903",
   "metadata": {},
   "outputs": [
    {
     "name": "stdout",
     "output_type": "stream",
     "text": [
      "20\n"
     ]
    }
   ],
   "source": [
    "n1= 20\n",
    "n2= 45\n",
    "def chi():\n",
    "    n1=2\n",
    "    n2=3\n",
    "    add=n1+n2\n",
    "    print('the add of n1 and n2 is{}'.format(add))\n",
    "\n",
    "print(n1)"
   ]
  },
  {
   "cell_type": "code",
   "execution_count": null,
   "id": "ea906899-efe7-4d48-a38f-ba5fc712f5b2",
   "metadata": {},
   "outputs": [],
   "source": [
    "import math\n",
    "def circle_area(r):\n",
    "    pii = math.pi\n",
    "    area= round(pii*r**2)\n",
    "    print('The area of circle is {}'.format(area))\n",
    "    return(area)\n",
    "circle_area(eval(input('enter the radius:')))\n",
    "    "
   ]
  },
  {
   "cell_type": "code",
   "execution_count": null,
   "id": "a7c3d573-775f-4244-8ae5-a1676c66c51f",
   "metadata": {},
   "outputs": [],
   "source": []
  },
  {
   "cell_type": "code",
   "execution_count": null,
   "id": "34886c8d-6b5d-4b21-872a-17944f796c8a",
   "metadata": {},
   "outputs": [],
   "source": []
  },
  {
   "cell_type": "code",
   "execution_count": null,
   "id": "08ec9ca8-13b2-4c6c-b797-6fabd04493c2",
   "metadata": {},
   "outputs": [],
   "source": []
  },
  {
   "cell_type": "code",
   "execution_count": null,
   "id": "77a2cd4a-0ae7-495d-93e9-09b55e2b70c4",
   "metadata": {},
   "outputs": [],
   "source": []
  },
  {
   "cell_type": "code",
   "execution_count": null,
   "id": "4a79f37f-abeb-483d-8eaa-448010b4b092",
   "metadata": {},
   "outputs": [],
   "source": []
  },
  {
   "cell_type": "code",
   "execution_count": null,
   "id": "ecc5c9c3-83c4-4075-8979-6ea65b79b38f",
   "metadata": {},
   "outputs": [],
   "source": []
  }
 ],
 "metadata": {
  "kernelspec": {
   "display_name": "Python 3 (ipykernel)",
   "language": "python",
   "name": "python3"
  },
  "language_info": {
   "codemirror_mode": {
    "name": "ipython",
    "version": 3
   },
   "file_extension": ".py",
   "mimetype": "text/x-python",
   "name": "python",
   "nbconvert_exporter": "python",
   "pygments_lexer": "ipython3",
   "version": "3.12.7"
  }
 },
 "nbformat": 4,
 "nbformat_minor": 5
}
