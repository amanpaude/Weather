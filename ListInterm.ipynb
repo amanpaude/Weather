{
 "cells": [
  {
   "cell_type": "code",
   "execution_count": 55,
   "id": "5692e89e-79e7-4bf0-a2e4-fea67ae0bee6",
   "metadata": {},
   "outputs": [
    {
     "name": "stdout",
     "output_type": "stream",
     "text": [
      "yes\n"
     ]
    }
   ],
   "source": [
    "aman = ['aman', 'paudel']\n",
    "if 'aman' in aman:\n",
    "    print('yes')\n",
    "\n",
    "else:\n",
    "    print('xaina')"
   ]
  },
  {
   "cell_type": "code",
   "execution_count": 3,
   "id": "1d166a1f-3433-4954-98be-3f77ecbb2321",
   "metadata": {},
   "outputs": [],
   "source": [
    " aman.append('Hero')"
   ]
  },
  {
   "cell_type": "code",
   "execution_count": 9,
   "id": "64e1f9d2-b1c5-4cb9-91af-30486efb9682",
   "metadata": {},
   "outputs": [
    {
     "name": "stdout",
     "output_type": "stream",
     "text": [
      "['aman', 'paudel', 'Hero']\n"
     ]
    }
   ],
   "source": [
    "print(aman)\n"
   ]
  },
  {
   "cell_type": "code",
   "execution_count": null,
   "id": "9eb20442-a90f-46d8-bcb1-d5a2c1291a3c",
   "metadata": {},
   "outputs": [],
   "source": []
  },
  {
   "cell_type": "code",
   "execution_count": 13,
   "id": "8e8b4678-1010-4896-a343-d44fe445a72d",
   "metadata": {},
   "outputs": [],
   "source": [
    "aman.insert(1, True)"
   ]
  },
  {
   "cell_type": "code",
   "execution_count": 15,
   "id": "966aa0c0-b577-476c-aeb0-f5367e5574b1",
   "metadata": {},
   "outputs": [
    {
     "name": "stdout",
     "output_type": "stream",
     "text": [
      "['aman', True, 'paudel']\n"
     ]
    }
   ],
   "source": [
    "print(aman)"
   ]
  },
  {
   "cell_type": "code",
   "execution_count": null,
   "id": "c22408d6-234a-4125-aaca-c25605847789",
   "metadata": {},
   "outputs": [],
   "source": []
  },
  {
   "cell_type": "code",
   "execution_count": 57,
   "id": "53aad934-9738-44c2-b96e-2ff0b3c06972",
   "metadata": {},
   "outputs": [],
   "source": [
    "z= aman.remove('paudel')"
   ]
  },
  {
   "cell_type": "code",
   "execution_count": 59,
   "id": "741ef741-16f8-4ae3-84e0-ac3c2554423e",
   "metadata": {},
   "outputs": [
    {
     "name": "stdout",
     "output_type": "stream",
     "text": [
      "None\n"
     ]
    }
   ],
   "source": [
    "print(z)"
   ]
  },
  {
   "cell_type": "code",
   "execution_count": 65,
   "id": "ff1caa1f-ebe4-43c8-8a50-5d61f400dc91",
   "metadata": {},
   "outputs": [
    {
     "name": "stdout",
     "output_type": "stream",
     "text": [
      "[1, 2, 2, 21, 32, 34, 42]\n"
     ]
    }
   ],
   "source": [
    "num = [1,34,42,2,21,32,2]\n",
    "num.sort()\n",
    "print(num)"
   ]
  },
  {
   "cell_type": "code",
   "execution_count": 69,
   "id": "0cfc1891-8fb2-46cc-9b10-bb8d0d5dead6",
   "metadata": {},
   "outputs": [
    {
     "name": "stdout",
     "output_type": "stream",
     "text": [
      "[1, 2, 3, 4, 5, 6, 7, 8, 9, 10]\n"
     ]
    }
   ],
   "source": [
    "mylist= [1,2,3,4,5]\n",
    "mylist1= [6,7,8,9,10]\n",
    "print(mylist+mylist1)"
   ]
  },
  {
   "cell_type": "code",
   "execution_count": 71,
   "id": "eea17d07-926c-4ecf-893a-8dcc65cfcd93",
   "metadata": {},
   "outputs": [
    {
     "name": "stdout",
     "output_type": "stream",
     "text": [
      "[1, 2, 3]\n"
     ]
    }
   ],
   "source": [
    "a= mylist[0:3]\n",
    "print(a)"
   ]
  },
  {
   "cell_type": "code",
   "execution_count": 77,
   "id": "94dc9f11-ff77-402c-a231-187cfeb01497",
   "metadata": {},
   "outputs": [
    {
     "name": "stdout",
     "output_type": "stream",
     "text": [
      "[1, 2, 3, 4, 5]\n",
      "[1, 4, 9, 16, 25]\n"
     ]
    }
   ],
   "source": [
    "mylist= [1,2,3,4,5]\n",
    "sqr= [a*a for a in mylist]\n",
    "print(mylist)\n",
    "print(sqr)"
   ]
  },
  {
   "cell_type": "code",
   "execution_count": 85,
   "id": "987817d9-297b-4e71-8ae0-ffca5295874f",
   "metadata": {},
   "outputs": [
    {
     "name": "stdout",
     "output_type": "stream",
     "text": [
      "('aman', 'butwal')\n",
      "('aman', 'butwal')\n",
      "<class 'tuple'>\n"
     ]
    }
   ],
   "source": [
    "# Tuple \n",
    "\n",
    "mytuple= ('aman', 'butwal',)\n",
    "for i in mytuple:\n",
    "    print(mytuple)\n",
    "\n",
    "print(type(mytuple))\n"
   ]
  },
  {
   "cell_type": "code",
   "execution_count": 87,
   "id": "9aacb91c-a804-4f8e-a6c9-8ac903dd07d9",
   "metadata": {},
   "outputs": [
    {
     "name": "stdout",
     "output_type": "stream",
     "text": [
      "('aman', 'butwal')\n",
      "('aman', 'butwal')\n"
     ]
    }
   ],
   "source": [
    "for i in mytuple:\n",
    "    print(mytuple)"
   ]
  },
  {
   "cell_type": "code",
   "execution_count": 89,
   "id": "2cdff3ff-488c-4a0a-bc85-9c73252d7135",
   "metadata": {},
   "outputs": [
    {
     "name": "stdout",
     "output_type": "stream",
     "text": [
      "s\n"
     ]
    }
   ],
   "source": [
    "if 'aman' in mytuple:\n",
    "    print('s')\n",
    "\n",
    "else:\n",
    "    print('no')"
   ]
  },
  {
   "cell_type": "code",
   "execution_count": 93,
   "id": "e0915e1f-3488-4839-8280-bea51f3a15ab",
   "metadata": {},
   "outputs": [
    {
     "name": "stdout",
     "output_type": "stream",
     "text": [
      "2\n"
     ]
    }
   ],
   "source": [
    "print(len(mytuple))"
   ]
  },
  {
   "cell_type": "code",
   "execution_count": 103,
   "id": "5d056833-8708-48e6-801c-5d0110f7bda2",
   "metadata": {},
   "outputs": [
    {
     "name": "stdout",
     "output_type": "stream",
     "text": [
      "1\n"
     ]
    }
   ],
   "source": [
    "print(mytuple.count('aman'))"
   ]
  },
  {
   "cell_type": "code",
   "execution_count": 105,
   "id": "3d05e705-b306-48b9-9476-27f67510f0a2",
   "metadata": {},
   "outputs": [],
   "source": [
    "mylist= list(mytuple)"
   ]
  },
  {
   "cell_type": "code",
   "execution_count": 107,
   "id": "499179d3-ef26-480e-8e2f-2d02738b7144",
   "metadata": {},
   "outputs": [
    {
     "name": "stdout",
     "output_type": "stream",
     "text": [
      "('aman', 'butwal')\n"
     ]
    }
   ],
   "source": [
    "print(mytuple)"
   ]
  },
  {
   "cell_type": "code",
   "execution_count": 111,
   "id": "91a9bd54-1adb-407b-a592-c2a25767f93d",
   "metadata": {},
   "outputs": [
    {
     "name": "stdout",
     "output_type": "stream",
     "text": [
      "('aman', 'butwal')\n"
     ]
    }
   ],
   "source": [
    "myttuple= tuple(mylist)\n",
    "print(myttuple)"
   ]
  },
  {
   "cell_type": "code",
   "execution_count": 113,
   "id": "b2edd26d-24c9-4c17-a16f-28cee94d5870",
   "metadata": {},
   "outputs": [
    {
     "name": "stdout",
     "output_type": "stream",
     "text": [
      "(2, 3, 4, 5, 6, 7, 8, 9)\n"
     ]
    }
   ],
   "source": [
    "a= (1,2,3,4,5,6,7,8,9)\n",
    "b= a[1:]\n",
    "print(b)"
   ]
  },
  {
   "cell_type": "code",
   "execution_count": 117,
   "id": "44eaf31c-992f-4822-bac7-1e30f938c9d0",
   "metadata": {},
   "outputs": [],
   "source": [
    "z= a[::-1]"
   ]
  },
  {
   "cell_type": "code",
   "execution_count": 119,
   "id": "0fb12251-fd64-4ea7-b15f-ec65d1531f2d",
   "metadata": {},
   "outputs": [
    {
     "name": "stdout",
     "output_type": "stream",
     "text": [
      "(9, 8, 7, 6, 5, 4, 3, 2, 1)\n"
     ]
    }
   ],
   "source": [
    "print(z)"
   ]
  },
  {
   "cell_type": "code",
   "execution_count": 160,
   "id": "5d497dab-a609-496f-ab5d-32713528507f",
   "metadata": {},
   "outputs": [
    {
     "name": "stdout",
     "output_type": "stream",
     "text": [
      "{'name': 'aman', 'age': '20', 'height': 'tall'}\n"
     ]
    }
   ],
   "source": [
    "# Dictonary\n",
    "mydict ={'name':'aman', 'age':'20', 'height':'tall'}\n",
    "print(mydict)\n"
   ]
  },
  {
   "cell_type": "code",
   "execution_count": 133,
   "id": "6d584fa5-eb0c-4079-a341-41a7e4706189",
   "metadata": {},
   "outputs": [
    {
     "name": "stdout",
     "output_type": "stream",
     "text": [
      "{'name': 'aman', 'age': '20', 'height': 'tall', 'hobby': 'foottball'}\n"
     ]
    }
   ],
   "source": [
    "mydict['hobby']= 'foottball'\n",
    "print(mydict)"
   ]
  },
  {
   "cell_type": "code",
   "execution_count": 162,
   "id": "3c5b6948-98cb-4e9c-8147-f26316053137",
   "metadata": {},
   "outputs": [
    {
     "name": "stdout",
     "output_type": "stream",
     "text": [
      "aman\n"
     ]
    }
   ],
   "source": [
    "if 'name' in mydict:\n",
    "    print(mydict['name'])"
   ]
  },
  {
   "cell_type": "code",
   "execution_count": 172,
   "id": "a0926d08-4090-45c2-962c-467503e26ee2",
   "metadata": {},
   "outputs": [
    {
     "name": "stdout",
     "output_type": "stream",
     "text": [
      "aman\n",
      "20\n",
      "tall\n"
     ]
    }
   ],
   "source": [
    "for values in mydict.values():\n",
    "    print(values)"
   ]
  },
  {
   "cell_type": "code",
   "execution_count": 182,
   "id": "56855e82-622d-43b4-82c6-6396ef0b4441",
   "metadata": {},
   "outputs": [],
   "source": [
    "mydict_copy= mydict.copy"
   ]
  },
  {
   "cell_type": "code",
   "execution_count": 184,
   "id": "44beb1c5-187c-4a30-809a-ecffb8a6bff1",
   "metadata": {},
   "outputs": [
    {
     "ename": "TypeError",
     "evalue": "'builtin_function_or_method' object is not subscriptable",
     "output_type": "error",
     "traceback": [
      "\u001b[1;31m---------------------------------------------------------------------------\u001b[0m",
      "\u001b[1;31mTypeError\u001b[0m                                 Traceback (most recent call last)",
      "Cell \u001b[1;32mIn[184], line 1\u001b[0m\n\u001b[1;32m----> 1\u001b[0m \u001b[38;5;28mprint\u001b[39m(mydict_copy[\u001b[38;5;241m1\u001b[39m])\n",
      "\u001b[1;31mTypeError\u001b[0m: 'builtin_function_or_method' object is not subscriptable"
     ]
    }
   ],
   "source": [
    "print(mydict_copy[1]) \n"
   ]
  },
  {
   "cell_type": "code",
   "execution_count": 190,
   "id": "94f8ddae-7993-4710-877f-06485763f306",
   "metadata": {},
   "outputs": [],
   "source": [
    "#set\n",
    "odd= {1,3,5,7,9,11}\n",
    "even= {2,4,6,8,10}\n",
    "prime= {2,3,5,7,11}\n"
   ]
  },
  {
   "cell_type": "code",
   "execution_count": 194,
   "id": "ab211dfc-a4a8-44ba-8e62-45026eb2c56d",
   "metadata": {},
   "outputs": [
    {
     "name": "stdout",
     "output_type": "stream",
     "text": [
      "{1, 2, 3, 5, 7, 9, 11}\n"
     ]
    }
   ],
   "source": [
    "u = odd.union(prime)\n",
    "print(u)"
   ]
  },
  {
   "cell_type": "code",
   "execution_count": 211,
   "id": "6922bffe-1b7f-48f6-a6ff-b22f2729821f",
   "metadata": {},
   "outputs": [
    {
     "name": "stdout",
     "output_type": "stream",
     "text": [
      "{2}\n"
     ]
    }
   ],
   "source": [
    "g=prime.intersection(even)\n",
    "print(g)"
   ]
  },
  {
   "cell_type": "code",
   "execution_count": null,
   "id": "38566abe-c9e7-49d0-b305-38da80db38f4",
   "metadata": {},
   "outputs": [],
   "source": [
    "# string"
   ]
  },
  {
   "cell_type": "code",
   "execution_count": 219,
   "id": "9a2844f2-18c8-41bb-866d-cf9cd3b0d4ae",
   "metadata": {},
   "outputs": [
    {
     "data": {
      "text/plain": [
       "['how', 'are', 'you', 'doing']"
      ]
     },
     "execution_count": 219,
     "metadata": {},
     "output_type": "execute_result"
    }
   ],
   "source": [
    "string = 'how are you doing'\n",
    "string.split( )"
   ]
  },
  {
   "cell_type": "code",
   "execution_count": 221,
   "id": "418af72b-d270-4a78-901c-53beee5ee375",
   "metadata": {},
   "outputs": [],
   "source": [
    "new = ''.join(string)"
   ]
  },
  {
   "cell_type": "code",
   "execution_count": 223,
   "id": "9ec1147d-225a-4206-ae25-eb8343855cc9",
   "metadata": {},
   "outputs": [
    {
     "name": "stdout",
     "output_type": "stream",
     "text": [
      "how are you doing\n"
     ]
    }
   ],
   "source": [
    "print(new)"
   ]
  },
  {
   "cell_type": "code",
   "execution_count": 233,
   "id": "36513090-2601-43d4-b3eb-0bfb97334d11",
   "metadata": {},
   "outputs": [
    {
     "name": "stdout",
     "output_type": "stream",
     "text": [
      "['a', 'a', 'a', 'a', 'a', 'a']\n"
     ]
    }
   ],
   "source": [
    "list = ['a']*6\n",
    "print(list)"
   ]
  },
  {
   "cell_type": "code",
   "execution_count": 235,
   "id": "994964a5-23f3-40ae-8825-bc077e9626c2",
   "metadata": {},
   "outputs": [],
   "source": [
    "string = ''.join(list)"
   ]
  },
  {
   "cell_type": "code",
   "execution_count": 237,
   "id": "0938c147-a97d-4415-bc33-ba0e3f8124fa",
   "metadata": {},
   "outputs": [
    {
     "name": "stdout",
     "output_type": "stream",
     "text": [
      "aaaaaa\n"
     ]
    }
   ],
   "source": [
    "print(string)"
   ]
  },
  {
   "cell_type": "code",
   "execution_count": 247,
   "id": "c0e61fd3-6297-43ce-bb7a-91984d21d046",
   "metadata": {},
   "outputs": [
    {
     "name": "stdout",
     "output_type": "stream",
     "text": [
      "My name is tom and his name is 12\n"
     ]
    }
   ],
   "source": [
    "var= 'tom'\n",
    "paudel= 12\n",
    "mystring= f'My name is {var} and his name is {paudel}'\n",
    "print(mystring)"
   ]
  },
  {
   "cell_type": "code",
   "execution_count": null,
   "id": "b26659fa-59a9-4bc1-9145-28c176c0a5d8",
   "metadata": {},
   "outputs": [],
   "source": []
  }
 ],
 "metadata": {
  "kernelspec": {
   "display_name": "Python 3 (ipykernel)",
   "language": "python",
   "name": "python3"
  },
  "language_info": {
   "codemirror_mode": {
    "name": "ipython",
    "version": 3
   },
   "file_extension": ".py",
   "mimetype": "text/x-python",
   "name": "python",
   "nbconvert_exporter": "python",
   "pygments_lexer": "ipython3",
   "version": "3.12.7"
  }
 },
 "nbformat": 4,
 "nbformat_minor": 5
}
