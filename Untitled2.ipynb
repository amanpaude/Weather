{
 "cells": [
  {
   "cell_type": "code",
   "execution_count": 21,
   "id": "bc5f301f-06c5-47bf-89a5-e8d621b82fd2",
   "metadata": {},
   "outputs": [
    {
     "name": "stdout",
     "output_type": "stream",
     "text": [
      "1\n",
      "2\n",
      "3\n",
      "4\n",
      "5\n",
      "6\n",
      "7\n",
      "8\n",
      "9\n",
      "1\n",
      "2\n",
      "3\n",
      "4\n",
      "5\n",
      "6\n",
      "7\n",
      "8\n",
      "9\n",
      "1\n",
      "2\n",
      "3\n",
      "4\n",
      "5\n",
      "6\n",
      "7\n",
      "8\n",
      "9\n",
      "1\n",
      "2\n",
      "3\n",
      "4\n",
      "5\n",
      "6\n",
      "7\n",
      "8\n",
      "9\n"
     ]
    }
   ],
   "source": [
    "for y in range(4):\n",
    "    \n",
    "    for x in range(1,10):\n",
    "        print(x ,end=\"\")\n",
    "        print()\n",
    "\n"
   ]
  },
  {
   "cell_type": "code",
   "execution_count": 29,
   "id": "00195f7b-138c-48ba-8efa-3de4232cea55",
   "metadata": {},
   "outputs": [
    {
     "name": "stdin",
     "output_type": "stream",
     "text": [
      "enter the number of rows: 13\n",
      "enter the number of column: 23\n",
      "enter the symbol to use: sus\n"
     ]
    },
    {
     "name": "stdout",
     "output_type": "stream",
     "text": [
      "sussussussussussussussussussussussussussussussussussussussussussussus\n",
      "sussussussussussussussussussussussussussussussussussussussussussussus\n",
      "sussussussussussussussussussussussussussussussussussussussussussussus\n",
      "sussussussussussussussussussussussussussussussussussussussussussussus\n",
      "sussussussussussussussussussussussussussussussussussussussussussussus\n",
      "sussussussussussussussussussussussussussussussussussussussussussussus\n",
      "sussussussussussussussussussussussussussussussussussussussussussussus\n",
      "sussussussussussussussussussussussussussussussussussussussussussussus\n",
      "sussussussussussussussussussussussussussussussussussussussussussussus\n",
      "sussussussussussussussussussussussussussussussussussussussussussussus\n",
      "sussussussussussussussussussussussussussussussussussussussussussussus\n",
      "sussussussussussussussussussussussussussussussussussussussussussussus\n",
      "sussussussussussussussussussussussussussussussussussussussussussussus\n"
     ]
    }
   ],
   "source": [
    "rows = int(input('enter the number of rows:'))\n",
    "column=int(input('enter the number of column:'))\n",
    "symbol = input('enter the symbol to use:')\n",
    "for x in range(rows):\n",
    "    for y in range(column):\n",
    "        print(symbol, end=\"\")\n",
    "    print()"
   ]
  },
  {
   "cell_type": "code",
   "execution_count": null,
   "id": "ce16881c-a669-43ab-ac18-1eb8b60fa229",
   "metadata": {},
   "outputs": [],
   "source": []
  }
 ],
 "metadata": {
  "kernelspec": {
   "display_name": "Python 3 (ipykernel)",
   "language": "python",
   "name": "python3"
  },
  "language_info": {
   "codemirror_mode": {
    "name": "ipython",
    "version": 3
   },
   "file_extension": ".py",
   "mimetype": "text/x-python",
   "name": "python",
   "nbconvert_exporter": "python",
   "pygments_lexer": "ipython3",
   "version": "3.12.7"
  }
 },
 "nbformat": 4,
 "nbformat_minor": 5
}
