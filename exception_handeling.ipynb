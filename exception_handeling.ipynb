{
 "cells": [
  {
   "cell_type": "markdown",
   "id": "f397cb78-2190-4987-b421-ba318bcc4571",
   "metadata": {},
   "source": [
    "# exception handeling"
   ]
  },
  {
   "cell_type": "markdown",
   "id": "7b17a1cd-0a53-4a3f-b564-98025334df84",
   "metadata": {},
   "source": [
    "- keyword Name: except try\n",
    "- There are two block\n",
    "- one Try block\n",
    "- another is exception block\n",
    "- Your code will be in try block\n",
    "- The error will be capture in except block\n",
    "- indentation :space\n",
    "- indentation has minium four character"
   ]
  },
  {
   "cell_type": "code",
   "execution_count": 11,
   "id": "6f3a2e73-0dda-4751-8620-7da9b0901047",
   "metadata": {},
   "outputs": [
    {
     "name": "stdin",
     "output_type": "stream",
     "text": [
      "enter number 1: 34\n",
      "enter number 2: 423\n"
     ]
    },
    {
     "name": "stdout",
     "output_type": "stream",
     "text": [
      "name 'num3' is not defined\n"
     ]
    }
   ],
   "source": [
    "try:\n",
    "    num1= eval(input('enter number 1:'))\n",
    "    num2= eval(input('enter number 2:'))\n",
    "    average = num1+num2+num3/3\n",
    "    print('the average of {} and {} is{}' .format(num1,num2,average))\n",
    "\n",
    "except Exception as e:\n",
    "              print(e)\n",
    "    "
   ]
  },
  {
   "cell_type": "code",
   "execution_count": 23,
   "id": "9adea945-9071-41c9-9191-3231f54d036a",
   "metadata": {},
   "outputs": [
    {
     "name": "stdin",
     "output_type": "stream",
     "text": [
      "enter the number you want to square: 23\n"
     ]
    },
    {
     "name": "stdout",
     "output_type": "stream",
     "text": [
      "name 'number' is not defined\n",
      "Hello word\n",
      "hello\n",
      "1\n"
     ]
    }
   ],
   "source": [
    "try:\n",
    "    num1= eval(input('enter the number you want to square:'))\n",
    "    ans = num1**2\n",
    "    print('The square of{} is {}'.format(number, ans))\n",
    "          \n",
    "except Exception as e:\n",
    "    print(e) #evemthough it have erroe but it is printing because of excepption handeling\n",
    "    print('Hello word')\n",
    "\n",
    "print('hello')\n",
    "print(1)"
   ]
  },
  {
   "cell_type": "markdown",
   "id": "a24bcffa-52d6-4600-81c6-ebc125d3a197",
   "metadata": {},
   "source": [
    "- if your code is without error, try block will execute\n",
    "- if your code has errors, it will redirect to excpet block\n",
    "- whatever you wriiten inside except block that will run\n",
    "- try and except are together\n",
    "- onxce try and exception are together then it will tey to find the new code"
   ]
  },
  {
   "cell_type": "code",
   "execution_count": 5,
   "id": "c5ce670b-9955-43eb-9124-c4e147617f45",
   "metadata": {},
   "outputs": [
    {
     "name": "stdout",
     "output_type": "stream",
     "text": [
      "division by zero\n"
     ]
    }
   ],
   "source": [
    "try:\n",
    "    a= 5/0\n",
    "\n",
    "except Exception as e:\n",
    "    print(e)"
   ]
  },
  {
   "cell_type": "code",
   "execution_count": 35,
   "id": "e8f89de9-f887-42a0-b1dd-4114445644f2",
   "metadata": {},
   "outputs": [
    {
     "name": "stdout",
     "output_type": "stream",
     "text": [
      "Value is too high\n"
     ]
    }
   ],
   "source": [
    "class VaLueTooHighError(Exception):\n",
    "    pass\n",
    "\n",
    "def test_value(x):\n",
    "    if x>100:\n",
    "       raise VaLueTooHighError('Value is too high')\n",
    "\n",
    "try: \n",
    "    test_value(200)\n",
    "\n",
    "except VaLueTooHighError as e:\n",
    "    print(e)"
   ]
  },
  {
   "cell_type": "code",
   "execution_count": 43,
   "id": "f5d49c1a-1cdd-4565-97f6-6cdab7df1d79",
   "metadata": {},
   "outputs": [],
   "source": [
    "import logging"
   ]
  },
  {
   "cell_type": "code",
   "execution_count": 49,
   "id": "0f5def9e-7af4-422b-87d3-568788b00639",
   "metadata": {},
   "outputs": [],
   "source": [
    "logger = logging.getLogger(__name__)\n",
    "logger.info('hello from helper')\n",
    "handler= logging.FileHandler('test.log')"
   ]
  },
  {
   "cell_type": "code",
   "execution_count": null,
   "id": "a3b3cf90-e30b-4c39-ba92-df29839da0a9",
   "metadata": {},
   "outputs": [],
   "source": []
  }
 ],
 "metadata": {
  "kernelspec": {
   "display_name": "Python 3 (ipykernel)",
   "language": "python",
   "name": "python3"
  },
  "language_info": {
   "codemirror_mode": {
    "name": "ipython",
    "version": 3
   },
   "file_extension": ".py",
   "mimetype": "text/x-python",
   "name": "python",
   "nbconvert_exporter": "python",
   "pygments_lexer": "ipython3",
   "version": "3.12.7"
  }
 },
 "nbformat": 4,
 "nbformat_minor": 5
}
