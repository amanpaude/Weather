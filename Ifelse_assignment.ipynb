{
 "cells": [
  {
   "cell_type": "markdown",
   "id": "8758ba01-99e7-4512-be4c-054a73f046a8",
   "metadata": {},
   "source": [
    "# Assignment"
   ]
  },
  {
   "cell_type": "markdown",
   "id": "31410129-6b97-4674-a976-057335097bb6",
   "metadata": {},
   "source": [
    "#1\n",
    "Suppose that a Firm pays its employee at the rate of $12 per hour. \n",
    "An employee has worked for 37hours. How much should the firm pay the employee? (Do normal way directly takes the input)"
   ]
  },
  {
   "cell_type": "code",
   "execution_count": 22,
   "id": "bd7877ae-a5f1-4c7c-b55a-f82e6e990147",
   "metadata": {},
   "outputs": [
    {
     "name": "stdout",
     "output_type": "stream",
     "text": [
      "name 'totalamount' is not defined\n"
     ]
    }
   ],
   "source": [
    "mon=12\n",
    "rate=37\n",
    "total_amount=mon*rate\n",
    "print(\"the firm have to pay {} $\".format(total_amount))\n"
   ]
  },
  {
   "cell_type": "markdown",
   "id": "2a11704d-bccd-400c-a3e4-3d5db199ec78",
   "metadata": {},
   "source": [
    "#2\n",
    "How about prompting the user for the number of hours and using the input value to compute the total pay?\n",
    "(Above problem use eval concept and sep concept)"
   ]
  },
  {
   "cell_type": "code",
   "execution_count": 6,
   "id": "7dbe6c95-659c-410c-bda5-300db0ec6371",
   "metadata": {},
   "outputs": [
    {
     "name": "stdin",
     "output_type": "stream",
     "text": [
      "Enter the rate per hour: 21\n",
      "how many hour does he work: 7\n"
     ]
    },
    {
     "name": "stdout",
     "output_type": "stream",
     "text": [
      "the firm have to pay 147 $\n"
     ]
    }
   ],
   "source": [
    "mon = eval(input(\"Enter the rate per hour:\"))\n",
    "rate =eval(input(\"how many hour does he work:\"))\n",
    "total_amount=mon*rate\n",
    "print(\"the firm have to pay {} $\".format(total_amount))\n",
    "\n"
   ]
  },
  {
   "cell_type": "markdown",
   "id": "7db778a6-433e-488a-a735-0863449b981b",
   "metadata": {},
   "source": [
    "For a certain academic subject the students are evaluated based on five tests - * Quiz 1 (20 marks - 10% Weight), * Quiz 2 (20 marks - 10% Weight), * Class test (50 marks - 25% Weight), * Assignment (100 marks - 25% weight) and\n",
    "* Project (200 marks - 30% weight).\n",
    "Design a program that will prompt the user for marks for each of the tests and calculate the overall\n",
    "marks (out of 100)."
   ]
  },
  {
   "cell_type": "code",
   "execution_count": 18,
   "id": "52e01c10-983a-47c6-bf19-979826d93625",
   "metadata": {},
   "outputs": [
    {
     "name": "stdin",
     "output_type": "stream",
     "text": [
      "Enter marks for Quiz 1 (out of 20):  19\n",
      "Enter marks for Quiz 2 (out of 20):  21\n",
      "Enter marks for Class Test (out of 50):  45\n",
      "Enter marks for Assignment (out of 100):  89\n",
      "Enter marks for Project (out of 200):  189\n"
     ]
    },
    {
     "name": "stdout",
     "output_type": "stream",
     "text": [
      "The overall marks (out of 100) is: 93.1\n",
      "first class number\n"
     ]
    }
   ],
   "source": [
    "# def calculate_total_marks():\n",
    "    # Prompting the user to enter marks for each test\n",
    "    quiz1 = eval(input(\"Enter marks for Quiz 1 (out of 20): \"))\n",
    "    quiz2 = eval(input(\"Enter marks for Quiz 2 (out of 20): \"))\n",
    "    class_test = eval(input(\"Enter marks for Class Test (out of 50): \"))\n",
    "    assignment = eval(input(\"Enter marks for Assignment (out of 100): \"))\n",
    "    project = eval(input(\"Enter marks for Project (out of 200): \"))\n",
    "\n",
    "    # Calculating weighted marks\n",
    "    quiz1_weighted = (quiz1 / 20) * 10\n",
    "    quiz2_weighted = (quiz2 / 20) * 10\n",
    "    class_test_weighted = (class_test / 50) * 25\n",
    "    assignment_weighted = (assignment / 100) * 25\n",
    "    project_weighted = (project / 200) * 30\n",
    "\n",
    "    # Summing up all weighted marks\n",
    "    total_marks = quiz1_weighted + quiz2_weighted + class_test_weighted + assignment_weighted + project_weighted\n",
    "\n",
    "    print(\"The overall marks (out of 100) is:\", total_marks)\n",
    "    if(total_marks>60):\n",
    "        print(\"first class number\")\n",
    "\n",
    "    elif(total_marks>40):\n",
    "        print(\"second class grade\")\n",
    "\n",
    "    else:\n",
    "        print('fail vaiss')\n",
    "\n",
    "              \n",
    "\n",
    "# Calling the function\n",
    "calculate_total_marks()\n"
   ]
  },
  {
   "cell_type": "markdown",
   "id": "34ef1bcf-72de-4c01-8df5-70994f9da088",
   "metadata": {},
   "source": [
    "If a five-digit number is input through the keyboard, write a program to calculate the sum of its\n",
    "digits."
   ]
  },
  {
   "cell_type": "code",
   "execution_count": 16,
   "id": "32f208fe-4c69-48d2-91cb-5c0f8f4e70ef",
   "metadata": {},
   "outputs": [
    {
     "name": "stdin",
     "output_type": "stream",
     "text": [
      "enter the num1: 32\n",
      "enter the num2: 234\n",
      "enter the num3: 412\n",
      "enter the num4: 21\n",
      "enter the num5: 231\n"
     ]
    },
    {
     "name": "stdout",
     "output_type": "stream",
     "text": [
      "The sum of digits is 930\n"
     ]
    }
   ],
   "source": [
    "num1 = eval(input('enter the num1:'))\n",
    "num2 = eval(input('enter the num2:'))\n",
    "num3 = eval(input('enter the num3:'))\n",
    "num4 = eval(input('enter the num4:'))\n",
    "num5 = eval(input('enter the num5:'))\n",
    "summ = num1+num2+num3+num4+num5\n",
    "print('The sum of digits is {}'.format(summ))\n",
    "            \n",
    "\n",
    "            "
   ]
  },
  {
   "cell_type": "markdown",
   "id": "1216e4e7-df8e-4a5e-a5fb-7fcb0adf8238",
   "metadata": {},
   "source": [
    "If a five-digit number is input through the keyboard, write a program to print a new number by\n",
    "adding one to each of its digits. For example if the number that is input is 12371 then the output\n",
    "should be displayed as 23482.\n"
   ]
  },
  {
   "cell_type": "code",
   "execution_count": null,
   "id": "32b3f13c-3c2e-4d52-9d60-7c5745b9676b",
   "metadata": {},
   "outputs": [],
   "source": [
    "try:\n",
    "    mon=12\n",
    "    rate=37\n",
    "    total_amount=mon*rate\n",
    "    print(\"the firm have to pay {} $\".format(total_amount))\n",
    "\n",
    "except Exception as e:\n",
    "    print(e)"
   ]
  },
  {
   "cell_type": "code",
   "execution_count": null,
   "id": "e09e7650-8c30-418c-92ac-78bbfc90a8ca",
   "metadata": {},
   "outputs": [],
   "source": [
    "Write a program that asks the user to enter a length in centimeters.\n",
    "If the user enters a negativelength, the program should tell the user that the entry is invalid. \n",
    "Otherwise, the program shouldconvert the length to inches and print out the result. There are 2.54 centimeters in an inch."
   ]
  },
  {
   "cell_type": "code",
   "execution_count": 34,
   "id": "33f57ef7-b3a4-4316-9e49-dfafe68c98d2",
   "metadata": {},
   "outputs": [
    {
     "name": "stdin",
     "output_type": "stream",
     "text": [
      "enter the length: 23\n"
     ]
    },
    {
     "name": "stdout",
     "output_type": "stream",
     "text": [
      "the length in inch is 58.42\n"
     ]
    }
   ],
   "source": [
    "def conversion(length):\n",
    "    \n",
    "    if(length<0):\n",
    "        print('the program should tell the user that the entry is invalid.')\n",
    "\n",
    "    else:\n",
    "        inch=length*2.54\n",
    "        print('the length in inch is {}'.format(inch))\n",
    "\n",
    "\n",
    "\n",
    "conversion(eval(input('enter the length:')))\n",
    "        \n",
    "\n",
    "\n",
    "    \n",
    "\n",
    "    \n",
    "                   \n",
    "               "
   ]
  },
  {
   "cell_type": "code",
   "execution_count": null,
   "id": "65b17470-3dc5-4702-b97e-3ece800e498d",
   "metadata": {},
   "outputs": [],
   "source": [
    "Ask the user for a temperature. Then ask them what units, Celsius or Fahrenheit, the temperatureisin.\n",
    "Your program should convert the temperature to the other unit. The conversions are F = 9 5 C +32 and C = 5 9 (F − 32)."
   ]
  },
  {
   "cell_type": "code",
   "execution_count": 46,
   "id": "3792ebc3-dd19-49d9-af0c-9ba9eb3e0f83",
   "metadata": {},
   "outputs": [
    {
     "name": "stdin",
     "output_type": "stream",
     "text": [
      "enter the temperature: 45\n",
      "what units, Celsius or Fahrenheit if celsius enter 1 otherwise enter 2 2\n"
     ]
    },
    {
     "name": "stdout",
     "output_type": "stream",
     "text": [
      "the temperature in celcius is 767\n"
     ]
    }
   ],
   "source": [
    "def temp_conv():\n",
    "    temp= eval(input('enter the temperature:'))\n",
    "    unit = str(input('what units, Celsius or Fahrenheit if celsius enter 1 otherwise enter 2'))\n",
    "    if(unit==1):\n",
    "        far = 95*temp +32 \n",
    "        print(\"the temperature in farenheit is {}\" .format(far))\n",
    "\n",
    "    else:\n",
    "        cel = 59*(temp-32)\n",
    "        print(\"the temperature in celcius is {}\" .format(cel))\n",
    "\n",
    "temp_conv()\n",
    "    "
   ]
  },
  {
   "cell_type": "code",
   "execution_count": null,
   "id": "1d4bbdf5-c58c-4b01-b7f6-fa11f574622a",
   "metadata": {},
   "outputs": [],
   "source": [
    "Ask the user to enter a temperature in Celsius.\n",
    "The program should print a message based on thetemperature:\n",
    "• If the temperature is less than -273.15, print that the temperature is invalid because it is\n",
    "below absolute zero. •\n",
    "If it is exactly -273.15, print that the temperature is absolute 0. •\n",
    "If the temperature is between -273.15 and 0, print that the temperature is below freezing. \n",
    "• If it is 0, print that the temperature is at the freezing point. \n",
    "• If it is between 0 and 100, print that the temperature is in the normal range. •\n",
    "If it is 100, print that the temperature is at the boiling point. •\n",
    "\n",
    "If it is above 100, print that the temperature is above the boiling point."
   ]
  },
  {
   "cell_type": "code",
   "execution_count": 58,
   "id": "66eb39bf-1ecc-4024-9445-083defee95df",
   "metadata": {},
   "outputs": [
    {
     "name": "stdin",
     "output_type": "stream",
     "text": [
      "enter the temperature 234\n"
     ]
    },
    {
     "name": "stdout",
     "output_type": "stream",
     "text": [
      "It is above the boiling point\n"
     ]
    }
   ],
   "source": [
    "\n",
    "def tempr():\n",
    "    temp=eval(input('enter the temperature'))\n",
    "    \n",
    "    if(temp<-273):\n",
    "        print(' that the temperature is invalid because it is below absolute zero')\n",
    "    \n",
    "    elif(temp == -273):\n",
    "        print('the temperature is absolute 0.')\n",
    "    \n",
    "    elif(-273<temp<0):\n",
    "        print('the temperature is below freezing.' )\n",
    "    \n",
    "    elif(temp == 0):\n",
    "        print('The temp is at freezing point')\n",
    "    \n",
    "    elif(0<temp<100):\n",
    "        print('The temp is in normal range')\n",
    "\n",
    "    elif(temp==100):\n",
    "        print('it is in a boiling point')\n",
    "    \n",
    "    else:\n",
    "        print('It is above the boiling point')\n",
    "\n",
    "tempr()\n",
    "    \n",
    "          \n",
    "\n",
    "    \n"
   ]
  },
  {
   "cell_type": "code",
   "execution_count": null,
   "id": "49dd9b50-f370-47e1-a25f-deb500117f61",
   "metadata": {},
   "outputs": [],
   "source": [
    "A store charges $12 per item if you buy less than 10 items. \n",
    "If you buy between 10 and 99 items, thecost is $10 per item. If you buy 100 or more items, the cost is $7 per item. \n",
    "\n",
    "Write a program that asksthe user how many items they are buying and prints the total cost."
   ]
  },
  {
   "cell_type": "code",
   "execution_count": 62,
   "id": "ed9f8dbc-a6a0-421d-81f6-91dfd30d2a7f",
   "metadata": {},
   "outputs": [
    {
     "name": "stdin",
     "output_type": "stream",
     "text": [
      "enter the item: 23\n"
     ]
    },
    {
     "name": "stdout",
     "output_type": "stream",
     "text": [
      "You have to pay $ 230\n"
     ]
    }
   ],
   "source": [
    "item= eval(input('enter the item:'))\n",
    "if(item<10):\n",
    "    less_10=item*12\n",
    "    print('You have to pay $ {}'.format(less_10))\n",
    "elif(10<item<99):\n",
    "    btn= item*10\n",
    "    print('You have to pay $ {}'.format(btn))\n",
    "else:\n",
    "    more= item*7\n",
    "    print('You have to pay $ {}'.format(more))\n",
    "\n",
    "\n",
    "\n",
    "           "
   ]
  },
  {
   "cell_type": "code",
   "execution_count": null,
   "id": "4d609fe5-d7c0-4c41-aca5-ab07ae97615f",
   "metadata": {},
   "outputs": [],
   "source": [
    "A year is a leap year if it is divisible by 4, except that years divisible by 100 are not leap years unlessthey are also divisible by 400. Write a program that asks the user for a year and prints out whether it\n",
    "is a leap year or not"
   ]
  },
  {
   "cell_type": "code",
   "execution_count": 68,
   "id": "bcaaacb5-c7e8-4d32-8aed-3fa5d3bf177d",
   "metadata": {},
   "outputs": [
    {
     "name": "stdin",
     "output_type": "stream",
     "text": [
      "enter the year: 2045\n"
     ]
    },
    {
     "name": "stdout",
     "output_type": "stream",
     "text": [
      "this year is not a leap year\n"
     ]
    }
   ],
   "source": [
    "year = eval(input('enter the year:'))\n",
    "if(year%4==0):\n",
    "    print(\"this year is leap year\")\n",
    "elif(year%100==0):\n",
    "    print(\"This is not a leap year\")\n",
    "\n",
    "elif(year%400==0):\n",
    "    print('this is a leap year')\n",
    "\n",
    "else:\n",
    "    print('this year is not a leap year')"
   ]
  },
  {
   "cell_type": "code",
   "execution_count": 70,
   "id": "53b532a2-a6f7-4e6f-9cc6-84536bf620a7",
   "metadata": {},
   "outputs": [
    {
     "name": "stdin",
     "output_type": "stream",
     "text": [
      "Enter an hour between 1 and 12:  12\n",
      "Enter AM or PM:  pm\n",
      "Enter how many hours into the future you want to go:  4\n"
     ]
    },
    {
     "name": "stdout",
     "output_type": "stream",
     "text": [
      "The time 4 hours into the future will be: 4 PM.\n"
     ]
    }
   ],
   "source": [
    "# Program to calculate the time after a certain number of hours into the future\n",
    "\n",
    "def get_new_time(hour, am_pm, hours_in_future):\n",
    "    # Convert the given hour to a 24-hour format\n",
    "    if am_pm == 'AM':\n",
    "        if hour == 12:\n",
    "            hour = 0  # Special case for 12 AM (midnight)\n",
    "    else:  # PM\n",
    "        if hour != 12:\n",
    "            hour += 12  # Convert PM time to 24-hour format\n",
    "\n",
    "    # Add the hours in the future to the current hour\n",
    "    new_hour = (hour + hours_in_future) % 24  # Use modulo 24 to wrap around the clock\n",
    "\n",
    "    # Convert the new hour back to 12-h~our format and determine AM/PM\n",
    "    if new_hour == 0:\n",
    "        new_hour = 12\n",
    "        new_am_pm = 'AM'\n",
    "    elif new_hour < 12:\n",
    "        new_am_pm = 'AM'\n",
    "    elif new_hour == 12:\n",
    "        new_am_pm = 'PM'\n",
    "    else:\n",
    "        new_hour -= 12\n",
    "        new_am_pm = 'PM'\n",
    "\n",
    "    return new_hour, new_am_pm\n",
    "\n",
    "\n",
    "# Ask the user for input\n",
    "hour = int(input(\"Enter an hour between 1 and 12: \"))\n",
    "am_pm = input(\"Enter AM or PM: \").upper()\n",
    "hours_in_future = int(input(\"Enter how many hours into the future you want to go: \"))\n",
    "\n",
    "# Validate input\n",
    "if hour < 1 or hour > 12:\n",
    "    print(\"Please enter an hour between 1 and 12.\")\n",
    "else:\n",
    "    # Calculate the new time\n",
    "    new_hour, new_am_pm = get_new_time(hour, am_pm, hours_in_future)\n",
    "\n",
    "    # Print the result\n",
    "    print(f\"The time {hours_in_future} hours into the future will be: {new_hour} {new_am_pm}.\")\n"
   ]
  },
  {
   "cell_type": "code",
   "execution_count": null,
   "id": "51351b92-45be-422c-af6b-a517e0e04d34",
   "metadata": {},
   "outputs": [],
   "source": []
  }
 ],
 "metadata": {
  "kernelspec": {
   "display_name": "Python 3 (ipykernel)",
   "language": "python",
   "name": "python3"
  },
  "language_info": {
   "codemirror_mode": {
    "name": "ipython",
    "version": 3
   },
   "file_extension": ".py",
   "mimetype": "text/x-python",
   "name": "python",
   "nbconvert_exporter": "python",
   "pygments_lexer": "ipython3",
   "version": "3.12.7"
  }
 },
 "nbformat": 4,
 "nbformat_minor": 5
}
