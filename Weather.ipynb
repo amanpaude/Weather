{
 "cells": [
  {
   "cell_type": "code",
   "execution_count": 93,
   "id": "bb5328a3-af97-44b9-a1c5-898ec16ea639",
   "metadata": {},
   "outputs": [],
   "source": [
    "import requests\n",
    "API_KEY= '18af04d303316b24afbe931dd9dc6e32'\n",
    "BASE_URL = \"https://api.openweathermap.org/data/2.5/weather?q={}&appid={}\".format(\"{city_name}\", API_KEY)\n",
    "\n",
    "\n",
    "def city():\n",
    "    city_name=input('enter the name of a city you want to know the temperature:')\n",
    "    return city_name"
   ]
  },
  {
   "cell_type": "code",
   "execution_count": 111,
   "id": "d48af678-d8cf-4e86-a908-3d6867225c13",
   "metadata": {},
   "outputs": [],
   "source": [
    "def weather(data):\n",
    "    temperature = data['main']['temp']\n",
    "    description = data['weather'][0]['description']\n",
    "    humidity = data['main']['humidity']\n",
    "    wind_speed= data['wind']['speed']\n",
    "    weather_info = f\"\"\"\n",
    "    Temperature = {temperature}°C\n",
    "    weather = {description}\n",
    "    Humidity: {humidity}%\n",
    "    Wind Speed: {wind_speed}m/s\"\"\"\n",
    "    return weather_info\n"
   ]
  },
  {
   "cell_type": "code",
   "execution_count": 119,
   "id": "12cc49cf-62e8-433c-a4a7-6334b33e7e6b",
   "metadata": {},
   "outputs": [
    {
     "name": "stdin",
     "output_type": "stream",
     "text": [
      "enter the name of a city you want to know the temperature: Riyadh\n"
     ]
    }
   ],
   "source": [
    "city_name= city()\n",
    "url = f\"https://api.openweathermap.org/data/2.5/weather?q={city_name}&appid={API_KEY}&units=metric\"\n",
    "response = requests.get(url)\n"
   ]
  },
  {
   "cell_type": "code",
   "execution_count": 73,
   "id": "acae518a-5df9-4e0c-96b3-6a96024c116a",
   "metadata": {},
   "outputs": [],
   "source": [
    "stats=(response.status_code)"
   ]
  },
  {
   "cell_type": "code",
   "execution_count": 121,
   "id": "26ed57b4-1682-4a46-a691-661adc5e2705",
   "metadata": {},
   "outputs": [
    {
     "name": "stdout",
     "output_type": "stream",
     "text": [
      "\n",
      "    Temperature = 37.72°C\n",
      "    weather = clear sky\n",
      "    Humidity: 9%\n",
      "    Wind Speed: 5.07m/s\n"
     ]
    }
   ],
   "source": [
    "if stats== 404:\n",
    "    print(\"There is no information about this city\")\n",
    "elif stats== 500:\n",
    "    print('server error')\n",
    "elif stats==200:\n",
    "    \n",
    "    data = response.json()\n",
    "    print(weather(data))\n",
    "\n",
    "else:\n",
    "    print(f\"Error: {stats}\") \n",
    "    \n",
    "    \n",
    "\n",
    "    \n",
    "          "
   ]
  },
  {
   "cell_type": "code",
   "execution_count": null,
   "id": "43934a75-dc70-4381-82a8-3b93bd901570",
   "metadata": {},
   "outputs": [],
   "source": []
  }
 ],
 "metadata": {
  "kernelspec": {
   "display_name": "Python 3 (ipykernel)",
   "language": "python",
   "name": "python3"
  },
  "language_info": {
   "codemirror_mode": {
    "name": "ipython",
    "version": 3
   },
   "file_extension": ".py",
   "mimetype": "text/x-python",
   "name": "python",
   "nbconvert_exporter": "python",
   "pygments_lexer": "ipython3",
   "version": "3.12.7"
  }
 },
 "nbformat": 4,
 "nbformat_minor": 5
}
