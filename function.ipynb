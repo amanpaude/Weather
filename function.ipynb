{
 "cells": [
  {
   "cell_type": "markdown",
   "id": "0302f068-1fb7-45ef-9b6c-982502db8e58",
   "metadata": {},
   "source": [
    "# function"
   ]
  },
  {
   "cell_type": "code",
   "execution_count": null,
   "id": "25024520-00ae-4695-a86a-719930b42d4d",
   "metadata": {},
   "outputs": [],
   "source": [
    "Function means bracket necessary"
   ]
  },
  {
   "cell_type": "code",
   "execution_count": null,
   "id": "3ff1f548-d791-4160-9cd8-98e776c9790f",
   "metadata": {},
   "outputs": [],
   "source": [
    "def<function_name>():\n",
    "    #write your code here"
   ]
  },
  {
   "cell_type": "code",
   "execution_count": 12,
   "id": "9675ca24-7e21-4884-8a1f-e1969f665106",
   "metadata": {},
   "outputs": [],
   "source": [
    "def aman():\n",
    "    print(\"hello my name is aman paudel\")\n",
    "    print(\"I am learning the function\")"
   ]
  },
  {
   "cell_type": "code",
   "execution_count": null,
   "id": "92394ffd-a987-4513-93a4-726224479ce8",
   "metadata": {},
   "outputs": [],
   "source": [
    "#the output willnot appear untill we call it."
   ]
  },
  {
   "cell_type": "code",
   "execution_count": 18,
   "id": "1872d9f0-b692-493b-a099-69d992a28389",
   "metadata": {},
   "outputs": [
    {
     "name": "stdout",
     "output_type": "stream",
     "text": [
      "The addition of 10 and 20 is 30\n"
     ]
    }
   ],
   "source": [
    "addition()"
   ]
  },
  {
   "cell_type": "code",
   "execution_count": 42,
   "id": "e1e1f87a-cf85-4499-944b-b2e31b0cbc9f",
   "metadata": {},
   "outputs": [
    {
     "name": "stdin",
     "output_type": "stream",
     "text": [
      "enter the number 1: 312\n",
      "enter the number 2: 412\n",
      "enter the number 3: 21\n"
     ]
    },
    {
     "name": "stdout",
     "output_type": "stream",
     "text": [
      "The average of num1 num2 and num3 is 731.0\n"
     ]
    }
   ],
   "source": [
    "def average():\n",
    "    num1=34\n",
    "    num2= 412\n",
    "    print(num1+num2)\n",
    "    "
   ]
  },
  {
   "cell_type": "markdown",
   "id": "087fb57a-695d-49c1-8018-72aa5170d572",
   "metadata": {},
   "source": [
    "**Note**\n",
    "we are not sure the function id defined correct or not until unless we call the function"
   ]
  },
  {
   "cell_type": "code",
   "execution_count": 60,
   "id": "602ecbc0-7dd0-4213-b7b2-d57f6434a791",
   "metadata": {},
   "outputs": [
    {
     "name": "stdin",
     "output_type": "stream",
     "text": [
      "enter the bill amount 3\n",
      "enter the tip amount 432\n"
     ]
    },
    {
     "name": "stdout",
     "output_type": "stream",
     "text": [
      "The total bill is 435\n"
     ]
    }
   ],
   "source": [
    "def all():\n",
    "   try:\n",
    "        bill_amount= eval(input(\"enter the bill amount\"))\n",
    "        tip= eval(input(\"enter the tip amount\"))\n",
    "        total = bill_amount+tip\n",
    "        print(\"The total bill is {}\" .format(total))\n",
    "   except Exception as e:\n",
    "       print(e)\n",
    "\n",
    "all()\n",
    "\n",
    "\n",
    "\n",
    "\n",
    "           \n",
    "                   "
   ]
  },
  {
   "cell_type": "code",
   "execution_count": null,
   "id": "ef665ca1-aaab-4539-9a35-12bed9f35b34",
   "metadata": {},
   "outputs": [],
   "source": [
    "all()"
   ]
  },
  {
   "cell_type": "code",
   "execution_count": 76,
   "id": "0bef9619-2d66-4bd3-be3f-9b73f245ce84",
   "metadata": {},
   "outputs": [
    {
     "name": "stdout",
     "output_type": "stream",
     "text": [
      "152 is an even number\n"
     ]
    }
   ],
   "source": [
    "import random\n",
    "def check():\n",
    "    try:\n",
    "            \n",
    "            num = random.randint(1,200)\n",
    "            if(num%2==0):\n",
    "                print(\"{} is an even number\".format(num))\n",
    "        \n",
    "            else:\n",
    "                print(\"{} is an odd number\" .format(num))\n",
    "\n",
    "    except Exception as e:\n",
    "        \n",
    "        print(e)\n",
    "                \n",
    "\n",
    "check()\n",
    "                   \n",
    "                         "
   ]
  },
  {
   "cell_type": "code",
   "execution_count": 83,
   "id": "6b7926ba-b48e-45e7-8513-732f8d37e243",
   "metadata": {},
   "outputs": [
    {
     "name": "stdout",
     "output_type": "stream",
     "text": [
      "multiplication function starts\n",
      "sub starts\n",
      "addition: 50\n",
      "mul: 600\n",
      "done mul\n",
      "sub: -10\n",
      "sub done\n"
     ]
    }
   ],
   "source": [
    "def addition():\n",
    "    n1=20\n",
    "    n2=30\n",
    "    print('addition:',n1+n2)\n",
    "\n",
    "print(\"multiplication function starts\")\n",
    "def mul():\n",
    "    n1=20\n",
    "    n2=30\n",
    "    print('mul:',n1*n2)\n",
    "    print(\"done mul\")\n",
    "print(\"sub starts\")\n",
    "def sub():\n",
    "    n1=20\n",
    "    n2=30\n",
    "    print('sub:',n1-n2)\n",
    "    print(\"sub done\")\n",
    "\n",
    "addition()\n",
    "mul()\n",
    "sub()\n",
    "    "
   ]
  },
  {
   "cell_type": "markdown",
   "id": "855ca25c-d8e0-4527-b403-c13be00a8a23",
   "metadata": {},
   "source": [
    "**with arguments**"
   ]
  },
  {
   "cell_type": "code",
   "execution_count": 85,
   "id": "278b202e-7057-41da-b72b-c54651c47cb8",
   "metadata": {},
   "outputs": [
    {
     "name": "stdout",
     "output_type": "stream",
     "text": [
      "THE ADDITION IS300\n"
     ]
    }
   ],
   "source": [
    "def addition(n1,n2):\n",
    "    add= n1+n2\n",
    "    print(\"THE ADDITION IS{}\".format(add))\n",
    "\n",
    "addition(100,200)"
   ]
  },
  {
   "cell_type": "code",
   "execution_count": 91,
   "id": "dca19f3c-5f1e-461a-b0c3-c14a51cf8381",
   "metadata": {},
   "outputs": [
    {
     "name": "stdout",
     "output_type": "stream",
     "text": [
      "194.0\n"
     ]
    }
   ],
   "source": [
    "def average(num1,num2):\n",
    "    print(num1+num2/2)\n",
    "\n",
    "average(32,324)\n",
    "    "
   ]
  },
  {
   "cell_type": "code",
   "execution_count": 101,
   "id": "a401c171-c5bb-4c26-8021-2fed860677cb",
   "metadata": {},
   "outputs": [
    {
     "name": "stdout",
     "output_type": "stream",
     "text": [
      "The square of 7 is 49\n"
     ]
    }
   ],
   "source": [
    "def ss(num1):\n",
    "    \n",
    "    square = num1**2\n",
    "    print(\"The square of {} is {}\" .format(num1,square))\n",
    "\n",
    "\n",
    "ss(7)\n",
    "         "
   ]
  },
  {
   "cell_type": "code",
   "execution_count": 157,
   "id": "41dcd930-8f80-449c-b4ce-e91fade56783",
   "metadata": {},
   "outputs": [
    {
     "name": "stdin",
     "output_type": "stream",
     "text": [
      "enter the number: 221\n"
     ]
    },
    {
     "name": "stdout",
     "output_type": "stream",
     "text": [
      "you lost because the rando number is 5\n"
     ]
    }
   ],
   "source": [
    "import random\n",
    "def rando(num2):\n",
    "    try:\n",
    "        \n",
    "        num1= random.randint(1,5)\n",
    "       \n",
    "        if(num1==num2):\n",
    "            print(num1)\n",
    "            print(\"you won\")\n",
    "         \n",
    "        else:\n",
    "            print(\"you lost because the rando number is {}\".format(num1))\n",
    "    except Exception as e:\n",
    "        print(e)\n",
    "rando(eval(input(\"enter the number:\")))\n",
    "\n",
    "     "
   ]
  },
  {
   "cell_type": "code",
   "execution_count": null,
   "id": "c55483ca-5abc-4fef-85cb-f2028cf6d972",
   "metadata": {},
   "outputs": [],
   "source": [
    "#step1:import random\n",
    "function will define\n",
    "pick value randomly\n",
    "call the function \n",
    "use the logic either win or lose"
   ]
  },
  {
   "cell_type": "code",
   "execution_count": 169,
   "id": "44552237-cd6d-414d-a911-5348a79cb591",
   "metadata": {},
   "outputs": [
    {
     "name": "stdin",
     "output_type": "stream",
     "text": [
      "Enter your salary: 23\n"
     ]
    },
    {
     "name": "stdout",
     "output_type": "stream",
     "text": [
      "You have to pay 2.99 rs\n"
     ]
    }
   ],
   "source": [
    "def cick(salary,per=13):\n",
    "        total = (salary*per)/100\n",
    "        print('You have to pay {} rs'.format(total))\n",
    "cick(eval(input(\"Enter your salary:\")))\n",
    "\n"
   ]
  },
  {
   "cell_type": "markdown",
   "id": "3ada4b7e-5ed9-4388-8bb2-e5f2d6a24328",
   "metadata": {},
   "source": [
    "**default argument**"
   ]
  },
  {
   "cell_type": "code",
   "execution_count": null,
   "id": "97960e4e-44a2-4574-8bb2-708953c4728e",
   "metadata": {},
   "outputs": [],
   "source": [
    "def cick(salary,per=13):\n",
    "        total = (salary*per)/100\n",
    "        print('You have to pay {} rs'.format(total))\n",
    "cick(eval(input(\"Enter your salary:\")))\n"
   ]
  },
  {
   "cell_type": "code",
   "execution_count": 174,
   "id": "699f5cd5-2840-4bab-af58-5dcab167e8df",
   "metadata": {},
   "outputs": [
    {
     "name": "stdout",
     "output_type": "stream",
     "text": [
      "num1 12\n",
      "num2 12\n",
      "num3 34\n",
      "the average is 35.333333333333336\n"
     ]
    }
   ],
   "source": [
    "def avg(num1,num2,num3=34):\n",
    "    print(\"num1\",num1)\n",
    "    print(\"num2\",num2)\n",
    "    print(\"num3\", num3)\n",
    "    avg = (num1+num2+num3/3)\n",
    "    print(\"the average is\" ,avg)\n",
    "avg(12,12)\n"
   ]
  },
  {
   "cell_type": "markdown",
   "id": "cfb976a5-37d3-4c1d-ae7c-dba0c5e8e1ed",
   "metadata": {},
   "source": [
    "$$note:always default parameter at last$$"
   ]
  },
  {
   "cell_type": "markdown",
   "id": "00184a02-8142-4416-9836-6139066aed52",
   "metadata": {},
   "source": [
    "-without argumet**\n",
    "-with argument**\n",
    "-default argument**"
   ]
  },
  {
   "cell_type": "code",
   "execution_count": 1,
   "id": "8eb538a6-aa60-45b2-a5c1-b721843525ee",
   "metadata": {},
   "outputs": [
    {
     "name": "stdin",
     "output_type": "stream",
     "text": [
      "enter the radius: 32\n"
     ]
    },
    {
     "name": "stdout",
     "output_type": "stream",
     "text": [
      "The area of circle is 3217\n"
     ]
    },
    {
     "data": {
      "text/plain": [
       "3217"
      ]
     },
     "execution_count": 1,
     "metadata": {},
     "output_type": "execute_result"
    }
   ],
   "source": [
    "import math\n",
    "def circle_area(r):\n",
    "    pii = math.pi\n",
    "    area= round(pii*r**2)\n",
    "    print('The area of circle is {}'.format(area))\n",
    "    return(area)\n",
    "circle_area(eval(input('enter the radius:')))\n",
    "    "
   ]
  },
  {
   "cell_type": "code",
   "execution_count": 3,
   "id": "0ace96fd-45f6-404d-8452-a8b8f02cbc90",
   "metadata": {},
   "outputs": [
    {
     "name": "stdin",
     "output_type": "stream",
     "text": [
      "enter the radius: 342\n"
     ]
    },
    {
     "name": "stdout",
     "output_type": "stream",
     "text": [
      "The area of circle is 367453.24\n"
     ]
    }
   ],
   "source": [
    "import math\n",
    "pii= math.pi\n",
    "rad = eval(input('enter the radius:'))\n",
    "area = round(pii* rad*rad,2)\n",
    "print('The area of circle is {}'.format(area))"
   ]
  },
  {
   "cell_type": "code",
   "execution_count": 5,
   "id": "8a756354-2819-43aa-95f4-1bc32bd978a6",
   "metadata": {},
   "outputs": [
    {
     "name": "stdin",
     "output_type": "stream",
     "text": [
      "Enter the radius:  2\n"
     ]
    },
    {
     "name": "stdout",
     "output_type": "stream",
     "text": [
      "The area of the circle is 12.566370614359172\n"
     ]
    }
   ],
   "source": [
    "import math\n",
    "pii = math.pi\n",
    "rad = eval(input('Enter the radius: '))\n",
    "area = pii * rad * rad\n",
    "print('The area of the circle is {}'.format(area))\n"
   ]
  },
  {
   "cell_type": "code",
   "execution_count": 7,
   "id": "46f21ea6-3c5e-4165-9632-fb14cf184815",
   "metadata": {},
   "outputs": [
    {
     "name": "stdin",
     "output_type": "stream",
     "text": [
      "enter the radius: 23\n"
     ]
    },
    {
     "name": "stdout",
     "output_type": "stream",
     "text": [
      "The area of circle is 1662\n"
     ]
    }
   ],
   "source": [
    "import math\n",
    "def circle_area(r):\n",
    "    pii = math.pi\n",
    "    area= round(pii*r**2)\n",
    "    print('The area of circle is {}'.format(area))\n",
    "\n",
    "circle_area(eval(input('enter the radius:')))\n",
    "    \n",
    "    \n",
    "    "
   ]
  },
  {
   "cell_type": "code",
   "execution_count": 9,
   "id": "c5623649-df12-46c4-9caf-056b9ac934c1",
   "metadata": {},
   "outputs": [
    {
     "name": "stdin",
     "output_type": "stream",
     "text": [
      "enter the radius: 123\n"
     ]
    },
    {
     "name": "stdout",
     "output_type": "stream",
     "text": [
      "The area of circle is 47529\n",
      "47529\n",
      "3.141592653589793\n"
     ]
    }
   ],
   "source": [
    "import math\n",
    "def circle_area():\n",
    "    pii = math.pi\n",
    "    r=eval(input('enter the radius:'))\n",
    "    area= round(pii*r**2)\n",
    "    print('The area of circle is {}'.format(area))\n",
    "    return(area, pii)\n",
    "\n",
    "Area, PI=circle_area()\n",
    "print(Area)\n",
    "print(PI)"
   ]
  },
  {
   "cell_type": "code",
   "execution_count": 11,
   "id": "40b8dc16-ebbd-472f-b2d5-22c316a4a5d5",
   "metadata": {},
   "outputs": [
    {
     "name": "stdin",
     "output_type": "stream",
     "text": [
      "enter the num1: 23\n",
      "enter the num2: 321\n",
      "enter the num3: 321\n"
     ]
    },
    {
     "name": "stdout",
     "output_type": "stream",
     "text": [
      "The sum of 3 number is 665\n",
      "The avg of 3 number is 221.66666666666666\n",
      "665\n",
      "221.66666666666666\n"
     ]
    }
   ],
   "source": [
    "def sum_avg():\n",
    "    num1 = eval(input('enter the num1:'))\n",
    "    num2 = eval(input('enter the num2:'))\n",
    "    num3 = eval(input('enter the num3:'))\n",
    "    summ =num1+num2+num3\n",
    "    avg= (num1+num2+num3)/3\n",
    "    print('The sum of 3 number is {}'.format(summ))\n",
    "    print('The avg of 3 number is {}'.format(avg))\n",
    "    return(summ,avg)\n",
    "SUMM , AVG=sum_avg()\n",
    "print(SUMM)\n",
    "print(AVG)\n",
    "\n"
   ]
  },
  {
   "cell_type": "code",
   "execution_count": 13,
   "id": "e3c02492-19a7-458f-8656-8189d7e40442",
   "metadata": {},
   "outputs": [
    {
     "name": "stdin",
     "output_type": "stream",
     "text": [
      "enter the num1: 23\n",
      "enter the num2: 321\n",
      "enter the num3: 321\n"
     ]
    },
    {
     "name": "stdout",
     "output_type": "stream",
     "text": [
      "Number 3 is the biggest number\n",
      "321\n"
     ]
    }
   ],
   "source": [
    "def check():\n",
    "    num1 = eval(input('enter the num1:'))\n",
    "    num2 = eval(input('enter the num2:'))\n",
    "    num3 = eval(input('enter the num3:'))\n",
    "    if(num1>num2 and num1>num3):\n",
    "        print('Number 1 is the biggest nummber')\n",
    "        return(num1)\n",
    "    elif(num2>num1 and num2>num3):\n",
    "        print('Number 2 is the grestest number')\n",
    "        return(num2)\n",
    "    else:\n",
    "        print('Number 3 is the biggest number')\n",
    "        return(num3)\n",
    "\n",
    "biggest =check()\n",
    "print(biggest)"
   ]
  },
  {
   "cell_type": "code",
   "execution_count": 15,
   "id": "78659e1e-6f01-448e-a8c2-f7fc14b51c36",
   "metadata": {},
   "outputs": [
    {
     "name": "stdout",
     "output_type": "stream",
     "text": [
      "20\n"
     ]
    }
   ],
   "source": [
    "n1= 20\n",
    "n2= 45\n",
    "def chi():\n",
    "    n1=2\n",
    "    n2=3\n",
    "    add=n1+n2\n",
    "    print('the add of n1 and n2 is{}'.format(add))\n",
    "\n",
    "print(n1)"
   ]
  },
  {
   "cell_type": "code",
   "execution_count": 18,
   "id": "77a69c23-04e9-44f6-9d7d-fd7e86388991",
   "metadata": {},
   "outputs": [
    {
     "name": "stdin",
     "output_type": "stream",
     "text": [
      "enter the radius: 21\n"
     ]
    },
    {
     "name": "stdout",
     "output_type": "stream",
     "text": [
      "The area of circle is 1385\n"
     ]
    },
    {
     "data": {
      "text/plain": [
       "1385"
      ]
     },
     "execution_count": 18,
     "metadata": {},
     "output_type": "execute_result"
    }
   ],
   "source": [
    "import math\n",
    "def circle_area(r):\n",
    "    pii = math.pi\n",
    "    area= round(pii*r**2)\n",
    "    print('The area of circle is {}'.format(area))\n",
    "    return(area)\n",
    "circle_area(eval(input('enter the radius:')))\n",
    "    "
   ]
  },
  {
   "cell_type": "markdown",
   "id": "5d56e828-aa19-4659-9179-445f6c39d817",
   "metadata": {},
   "source": [
    "**local variables:**\n",
    "     -The variables provide inside the function\n",
    "**global variables:**\n",
    "        -The variables provided inside the function"
   ]
  },
  {
   "cell_type": "code",
   "execution_count": null,
   "id": "0f67e9e8-c14d-4007-bb5d-16000e2ae639",
   "metadata": {},
   "outputs": [],
   "source": [
    "global"
   ]
  },
  {
   "cell_type": "code",
   "execution_count": 31,
   "id": "fb9ad4dc-74b7-4833-afbc-5d4cb6732ef5",
   "metadata": {},
   "outputs": [
    {
     "name": "stdout",
     "output_type": "stream",
     "text": [
      "n1 value inside the function is: 110\n",
      "110\n"
     ]
    }
   ],
   "source": [
    "n1= 10\n",
    "def updated():\n",
    "    global n1\n",
    "    n1=n1+100\n",
    "    \n",
    "    print('n1 value inside the function is:',n1)\n",
    "\n",
    "updated()\n",
    "print(n1)"
   ]
  },
  {
   "cell_type": "code",
   "execution_count": null,
   "id": "a56f2858-2de8-423d-9e9c-7edc451f973e",
   "metadata": {},
   "outputs": [],
   "source": [
    "If we want to return outside the funcation then we  can use that global keyword"
   ]
  },
  {
   "cell_type": "code",
   "execution_count": 45,
   "id": "71cf9001-35ee-4b04-b8db-8a9da315076b",
   "metadata": {},
   "outputs": [
    {
     "name": "stdout",
     "output_type": "stream",
     "text": [
      "the addition of 500 and 300 is 800\n",
      "300\n",
      "800\n"
     ]
    }
   ],
   "source": [
    "n1 =20\n",
    "n2=30\n",
    "def addition(n1):\n",
    "    global n2 ,add\n",
    "    n2=300\n",
    "    add=n1+n2\n",
    "    print('the addition of {} and {} is {}'.format(n1,n2,add))\n",
    "\n",
    "addition(500)\n",
    "print(n2)\n",
    "print(add)\n",
    "\n"
   ]
  },
  {
   "cell_type": "markdown",
   "id": "9e29beb8-93ba-40b6-9f09-9d745c2ec15b",
   "metadata": {},
   "source": [
    "**function in funcation**"
   ]
  },
  {
   "cell_type": "code",
   "execution_count": 54,
   "id": "1d00a5f9-d7b2-484a-9a8a-a9768038787a",
   "metadata": {},
   "outputs": [
    {
     "name": "stdout",
     "output_type": "stream",
     "text": [
      "hello\n",
      "word\n"
     ]
    }
   ],
   "source": [
    "def greet():\n",
    "    print('hello')\n",
    "\n",
    "def name():\n",
    "    print('word')\n",
    "\n",
    "greet()\n",
    "name()"
   ]
  },
  {
   "cell_type": "code",
   "execution_count": 56,
   "id": "9e9b583c-bc5b-4a25-a6e7-e9dc9da22c64",
   "metadata": {},
   "outputs": [
    {
     "name": "stdout",
     "output_type": "stream",
     "text": [
      "word\n",
      "hello\n"
     ]
    }
   ],
   "source": [
    "def greet():\n",
    "    print('hello')\n",
    "\n",
    "def name():\n",
    "    print('word')\n",
    "    greet()\n",
    "\n",
    "name()"
   ]
  },
  {
   "cell_type": "code",
   "execution_count": 5,
   "id": "fc131276-0146-46c0-9311-dfe68e17b49e",
   "metadata": {},
   "outputs": [
    {
     "name": "stdout",
     "output_type": "stream",
     "text": [
      "3\n"
     ]
    }
   ],
   "source": [
    "print(3)\n",
    "\n"
   ]
  },
  {
   "cell_type": "code",
   "execution_count": 20,
   "id": "e6c32f57-5e3a-4bd9-b752-80b2406550c0",
   "metadata": {},
   "outputs": [
    {
     "name": "stdin",
     "output_type": "stream",
     "text": [
      "enter the number: 1\n",
      "enter the number 1 12\n",
      "enter the number 2 21\n"
     ]
    },
    {
     "ename": "NameError",
     "evalue": "name 'a' is not defined",
     "output_type": "error",
     "traceback": [
      "\u001b[1;31m---------------------------------------------------------------------------\u001b[0m",
      "\u001b[1;31mNameError\u001b[0m                                 Traceback (most recent call last)",
      "Cell \u001b[1;32mIn[20], line 30\u001b[0m\n\u001b[0;32m     28\u001b[0m     \u001b[38;5;28;01melif\u001b[39;00m(num)\u001b[38;5;241m==\u001b[39m\u001b[38;5;241m4\u001b[39m:\n\u001b[0;32m     29\u001b[0m          mul()\n\u001b[1;32m---> 30\u001b[0m main()\n",
      "Cell \u001b[1;32mIn[20], line 18\u001b[0m, in \u001b[0;36mmain\u001b[1;34m()\u001b[0m\n\u001b[0;32m     16\u001b[0m b\u001b[38;5;241m=\u001b[39m\u001b[38;5;28meval\u001b[39m(\u001b[38;5;28minput\u001b[39m(\u001b[38;5;124m'\u001b[39m\u001b[38;5;124menter the number 2\u001b[39m\u001b[38;5;124m'\u001b[39m))\n\u001b[0;32m     17\u001b[0m \u001b[38;5;28;01mif\u001b[39;00m num\u001b[38;5;241m==\u001b[39m\u001b[38;5;241m1\u001b[39m:\n\u001b[1;32m---> 18\u001b[0m     add()\n\u001b[0;32m     19\u001b[0m     a\u001b[38;5;241m=\u001b[39m\u001b[38;5;28meval\u001b[39m(\u001b[38;5;28minput\u001b[39m(\u001b[38;5;124m'\u001b[39m\u001b[38;5;124menter the number 1\u001b[39m\u001b[38;5;124m'\u001b[39m))\n\u001b[0;32m     20\u001b[0m     b\u001b[38;5;241m=\u001b[39m\u001b[38;5;28meval\u001b[39m(\u001b[38;5;28minput\u001b[39m(\u001b[38;5;124m'\u001b[39m\u001b[38;5;124menter the number 2\u001b[39m\u001b[38;5;124m'\u001b[39m))\n",
      "Cell \u001b[1;32mIn[20], line 2\u001b[0m, in \u001b[0;36madd\u001b[1;34m()\u001b[0m\n\u001b[0;32m      1\u001b[0m \u001b[38;5;28;01mdef\u001b[39;00m \u001b[38;5;21madd\u001b[39m():\n\u001b[1;32m----> 2\u001b[0m     \u001b[38;5;28mprint\u001b[39m(a\u001b[38;5;241m+\u001b[39mb)\n",
      "\u001b[1;31mNameError\u001b[0m: name 'a' is not defined"
     ]
    }
   ],
   "source": [
    "def add():\n",
    "    print(a+b)\n",
    "\n",
    "def sub():\n",
    "    print(a+b)\n",
    "\n",
    "def div():\n",
    "    print(a/b)\n",
    "\n",
    "def mul():\n",
    "    print(a*b)\n",
    "\n",
    "def main():\n",
    "    num = eval(input('enter the number:'))\n",
    "    a=eval(input('enter the number 1'))\n",
    "    b=eval(input('enter the number 2'))\n",
    "    if num==1:\n",
    "        add()\n",
    "        a=eval(input('enter the number 1'))\n",
    "        b=eval(input('enter the number 2'))\n",
    "    \n",
    "    elif num == 2:\n",
    "        sub()\n",
    "\n",
    "    elif num == 3:\n",
    "        div()\n",
    "\n",
    "    elif(num)==4:\n",
    "         mul()\n",
    "main()\n",
    "\n",
    "    "
   ]
  },
  {
   "cell_type": "code",
   "execution_count": 3,
   "id": "04cd86f7-3f12-4412-b6e9-1c304904e89a",
   "metadata": {},
   "outputs": [
    {
     "name": "stdout",
     "output_type": "stream",
     "text": [
      "My name is aman paudel\n"
     ]
    }
   ],
   "source": [
    "def aman():\n",
    "    print('My name is aman paudel')\n",
    "\n",
    "aman()\n"
   ]
  },
  {
   "cell_type": "code",
   "execution_count": 21,
   "id": "a9462396-bae8-408e-9cec-eda7d5544071",
   "metadata": {},
   "outputs": [
    {
     "name": "stdout",
     "output_type": "stream",
     "text": [
      "My name is Aman paudel and i am 20 years old\n"
     ]
    }
   ],
   "source": [
    "def info(name, age):\n",
    "    print('My name is {} and i am {} years old' .format(name, age))\n",
    "\n",
    "info('Aman paudel','20')"
   ]
  },
  {
   "cell_type": "code",
   "execution_count": 29,
   "id": "d700396f-67c9-4640-852d-def1e01de9c8",
   "metadata": {},
   "outputs": [],
   "source": [
    "def arg_munts(*number):\n",
    "    print(number[2]*number[4])\n",
    "    "
   ]
  },
  {
   "cell_type": "code",
   "execution_count": 31,
   "id": "94b6341d-02c4-4685-bc1f-88399d41d396",
   "metadata": {},
   "outputs": [
    {
     "name": "stdout",
     "output_type": "stream",
     "text": [
      "989\n"
     ]
    }
   ],
   "source": [
    "arg_munts(2,3,43,43,23,2,3)"
   ]
  },
  {
   "cell_type": "code",
   "execution_count": 35,
   "id": "0527506c-e99d-4c63-a769-3656d691effc",
   "metadata": {},
   "outputs": [],
   "source": [
    "def num(number, power):\n",
    "    print(number**power)"
   ]
  },
  {
   "cell_type": "code",
   "execution_count": 37,
   "id": "22ab60ca-aa6c-411b-9c5d-f95e8299ca20",
   "metadata": {},
   "outputs": [
    {
     "name": "stdout",
     "output_type": "stream",
     "text": [
      "81\n"
     ]
    }
   ],
   "source": [
    "num(3,4)"
   ]
  },
  {
   "cell_type": "code",
   "execution_count": null,
   "id": "7c8dbaea-5ceb-49b0-880f-6847b2167f96",
   "metadata": {},
   "outputs": [],
   "source": []
  }
 ],
 "metadata": {
  "kernelspec": {
   "display_name": "Python 3 (ipykernel)",
   "language": "python",
   "name": "python3"
  },
  "language_info": {
   "codemirror_mode": {
    "name": "ipython",
    "version": 3
   },
   "file_extension": ".py",
   "mimetype": "text/x-python",
   "name": "python",
   "nbconvert_exporter": "python",
   "pygments_lexer": "ipython3",
   "version": "3.12.7"
  }
 },
 "nbformat": 4,
 "nbformat_minor": 5
}
