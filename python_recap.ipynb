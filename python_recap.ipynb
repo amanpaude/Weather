{
 "cells": [
  {
   "cell_type": "code",
   "execution_count": 25,
   "id": "fd286061-8af1-4306-a5ab-8c3ac4169f4d",
   "metadata": {},
   "outputs": [
    {
     "name": "stdin",
     "output_type": "stream",
     "text": [
      "What is your basic salary 23112\n",
      "What is your DAA amount 312321\n",
      "What is your HRA amount 13\n"
     ]
    },
    {
     "name": "stdout",
     "output_type": "stream",
     "text": [
      "The total salary is 335446\n"
     ]
    }
   ],
   "source": [
    "inc1 = eval(input('What is your basic salary'))\n",
    "inc2 = eval(input('What is your DAA amount'))\n",
    "inc3 = eval(input('What is your HRA amount'))\n",
    "total_income= inc1+inc2+inc3\n",
    "print('The total salary is', total_income)"
   ]
  },
  {
   "cell_type": "code",
   "execution_count": 27,
   "id": "8e676001-c412-4cf8-b841-871a445ee538",
   "metadata": {},
   "outputs": [
    {
     "name": "stdin",
     "output_type": "stream",
     "text": [
      "what is your salary 100000\n",
      "enter a tax percentage 10\n"
     ]
    },
    {
     "name": "stdout",
     "output_type": "stream",
     "text": [
      "The tax amoount is 10000.0\n"
     ]
    }
   ],
   "source": [
    "inc1 = eval(input('what is your salary'))\n",
    "tax_per = eval(input('enter a tax percentage'))\n",
    "before = inc1*tax_per\n",
    "after = before/100\n",
    "print('The tax amoount is', after)"
   ]
  },
  {
   "cell_type": "code",
   "execution_count": 31,
   "id": "f2458ac0-c39b-4717-a82d-8d4aad759243",
   "metadata": {},
   "outputs": [
    {
     "name": "stdin",
     "output_type": "stream",
     "text": [
      "enter the number between 1 and 100 21\n"
     ]
    },
    {
     "name": "stdout",
     "output_type": "stream",
     "text": [
      "The square of num is 441\n"
     ]
    }
   ],
   "source": [
    "num = eval(input('enter the number between 1 and 100'))\n",
    "square = num**2\n",
    "print('The square of num is',square)"
   ]
  },
  {
   "cell_type": "code",
   "execution_count": 1,
   "id": "9c73d504-efe7-4aba-aa2d-a85ca5b76bd8",
   "metadata": {},
   "outputs": [
    {
     "name": "stdout",
     "output_type": "stream",
     "text": [
      "The value is 65\n",
      "The square of the 65 is4225\n"
     ]
    }
   ],
   "source": [
    "import random\n",
    "num1 = random.randint(1,100)\n",
    "print('The value is', num1)\n",
    "num2= num1**2\n",
    "print('The square of the {} is{}' .format(num1,num2))"
   ]
  },
  {
   "cell_type": "code",
   "execution_count": 15,
   "id": "d2344ac7-9efe-4fd7-9beb-3c722d2a602c",
   "metadata": {},
   "outputs": [
    {
     "name": "stdin",
     "output_type": "stream",
     "text": [
      "What is your total distance: 324\n",
      "what is the rate: 432\n"
     ]
    },
    {
     "name": "stdout",
     "output_type": "stream",
     "text": [
      "The price for 324 KM is 139968\n"
     ]
    }
   ],
   "source": [
    "dis=eval(input('What is your total distance:'))\n",
    "rate= eval(input('what is the rate:'))\n",
    "total = dis*rate\n",
    "print('The price for {} KM is {}'.format(dis, total))\n",
    "      \n"
   ]
  },
  {
   "cell_type": "code",
   "execution_count": 23,
   "id": "b027426f-e97f-4391-8b12-3c73f0775edf",
   "metadata": {},
   "outputs": [
    {
     "name": "stdin",
     "output_type": "stream",
     "text": [
      "Enter the total bill in dollors: 57\n"
     ]
    },
    {
     "name": "stdout",
     "output_type": "stream",
     "text": [
      "Manager:The dollor are not accepted\n",
      "User:what will acccepted\n",
      "manager:Only indian rs\n"
     ]
    },
    {
     "name": "stdin",
     "output_type": "stream",
     "text": [
      "enter the rate dollor for today 132\n"
     ]
    },
    {
     "name": "stdout",
     "output_type": "stream",
     "text": [
      "The total bill in dollor is 7524\n"
     ]
    }
   ],
   "source": [
    "dol = eval(input('Enter the total bill in dollors:'))\n",
    "print('Manager:The dollor are not accepted')\n",
    "print('User:what will acccepted')\n",
    "print('manager:Only indian rs')\n",
    "rate= eval(input('enter the rate dollor for today'))\n",
    "total= rate*dol\n",
    "print('The total bill in dollor is',total)\n",
    "\n"
   ]
  },
  {
   "cell_type": "code",
   "execution_count": null,
   "id": "7d39e927-e0bc-4080-acaa-790b5d4493b7",
   "metadata": {},
   "outputs": [
    {
     "name": "stdout",
     "output_type": "stream",
     "text": [
      "Father:Which course you want to do:\n"
     ]
    },
    {
     "name": "stdin",
     "output_type": "stream",
     "text": [
      "I want to pursue: Bca\n"
     ]
    },
    {
     "name": "stdout",
     "output_type": "stream",
     "text": [
      "Father:Oh thats very nice\n",
      "father: May i know your JEE rank:\n"
     ]
    },
    {
     "name": "stdin",
     "output_type": "stream",
     "text": [
      "its: 23412\n"
     ]
    },
    {
     "name": "stdout",
     "output_type": "stream",
     "text": [
      "Father:Then how can you pursue\n",
      "Son:By payment seat\n",
      "How much is the fee?\n"
     ]
    },
    {
     "name": "stdin",
     "output_type": "stream",
     "text": [
      "Son:Its: 420420\n"
     ]
    },
    {
     "name": "stdout",
     "output_type": "stream",
     "text": [
      "What is the total semester?\n"
     ]
    }
   ],
   "source": [
    "import time\n",
    "print('Father:Which course you want to do:')\n",
    "\n",
    "time.sleep(2)\n",
    "input('I want to pursue:')\n",
    "time.sleep(2)\n",
    "print('Father:Oh thats very nice')\n",
    "time.sleep(2)\n",
    "print('father: May i know your JEE rank:')\n",
    "time.sleep(2)\n",
    "eval(input('its:'))\n",
    "time.sleep(2)\n",
    "print('Father:Then how can you pursue')\n",
    "time.sleep(2)\n",
    "print('Son:By payment seat')\n",
    "time.sleep(2)\n",
    "print('How much is the fee?')\n",
    "time.sleep(2)\n",
    "fee =eval(input('Son:Its:'))\n",
    "time.sleep(2)\n",
    "print('What is the total semester?')\n",
    "time.sleep(2)\n",
    "tsm= eval(input('Son:Its:'))\n",
    "time.sleep(2)\n",
    "print('Father:How muck the total costs')\n",
    "time.sleep(2)\n",
    "total_cost= tsm* fee\n",
    "print('Son:The total cost is {}'.format(total_cost))     \n",
    "\n",
    "      "
   ]
  },
  {
   "cell_type": "code",
   "execution_count": null,
   "id": "834168f2-72d2-4814-b170-f63002fef6a8",
   "metadata": {},
   "outputs": [],
   "source": []
  },
  {
   "cell_type": "code",
   "execution_count": null,
   "id": "4a7406bf-2a05-4e9f-bcf1-7ede306dfca5",
   "metadata": {},
   "outputs": [],
   "source": []
  }
 ],
 "metadata": {
  "kernelspec": {
   "display_name": "Python 3 (ipykernel)",
   "language": "python",
   "name": "python3"
  },
  "language_info": {
   "codemirror_mode": {
    "name": "ipython",
    "version": 3
   },
   "file_extension": ".py",
   "mimetype": "text/x-python",
   "name": "python",
   "nbconvert_exporter": "python",
   "pygments_lexer": "ipython3",
   "version": "3.12.7"
  }
 },
 "nbformat": 4,
 "nbformat_minor": 5
}
