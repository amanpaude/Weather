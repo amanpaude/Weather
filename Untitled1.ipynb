{
 "cells": [
  {
   "cell_type": "code",
   "execution_count": 3,
   "id": "0297f8f0-7331-4bae-8bd5-dc2393133bbc",
   "metadata": {},
   "outputs": [
    {
     "name": "stdin",
     "output_type": "stream",
     "text": [
      "enter your name: AMAN\n",
      "enter your age 34\n"
     ]
    },
    {
     "name": "stdout",
     "output_type": "stream",
     "text": [
      "My name is AMAN and i am 34 years old\n"
     ]
    }
   ],
   "source": [
    "name=input('enter your name:')\n",
    "age=input('enter your age')\n",
    "print('My name is {} and i am {} years old'.format(name,age))"
   ]
  },
  {
   "cell_type": "code",
   "execution_count": 9,
   "id": "b45543e6-ab64-4f47-ba75-acbf99954f1f",
   "metadata": {},
   "outputs": [
    {
     "name": "stdin",
     "output_type": "stream",
     "text": [
      "enter your number: 12\n"
     ]
    },
    {
     "name": "stdout",
     "output_type": "stream",
     "text": [
      "The number is positive\n"
     ]
    }
   ],
   "source": [
    "name=eval(input('enter your number:'))\n",
    "if(name>0):\n",
    "    print('The number is positive')\n",
    "\n",
    "elif(name==0):\n",
    "    print('The number is 0')\n",
    "\n",
    "else:\n",
    "    print('The number is negative')"
   ]
  },
  {
   "cell_type": "code",
   "execution_count": null,
   "id": "d549d5ad-8e77-451e-964a-0c177d1ac8c0",
   "metadata": {},
   "outputs": [],
   "source": []
  }
 ],
 "metadata": {
  "kernelspec": {
   "display_name": "Python 3 (ipykernel)",
   "language": "python",
   "name": "python3"
  },
  "language_info": {
   "codemirror_mode": {
    "name": "ipython",
    "version": 3
   },
   "file_extension": ".py",
   "mimetype": "text/x-python",
   "name": "python",
   "nbconvert_exporter": "python",
   "pygments_lexer": "ipython3",
   "version": "3.12.7"
  }
 },
 "nbformat": 4,
 "nbformat_minor": 5
}
