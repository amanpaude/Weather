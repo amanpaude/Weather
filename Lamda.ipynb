{
 "cells": [
  {
   "cell_type": "code",
   "execution_count": 11,
   "id": "fcb84f8e-20a0-48d4-bf22-0dcdb9351584",
   "metadata": {},
   "outputs": [
    {
     "name": "stdout",
     "output_type": "stream",
     "text": [
      "17\n"
     ]
    }
   ],
   "source": [
    "add12  = lambda x:x +12\n",
    "print(add12(5))"
   ]
  },
  {
   "cell_type": "code",
   "execution_count": 17,
   "id": "e58b3a64-6438-4fa3-bf94-becf475c3727",
   "metadata": {},
   "outputs": [
    {
     "name": "stdout",
     "output_type": "stream",
     "text": [
      "56\n"
     ]
    }
   ],
   "source": [
    "mul = lambda x, y: x*y\n",
    "print(mul(7,8))"
   ]
  },
  {
   "cell_type": "code",
   "execution_count": 25,
   "id": "fc9ef56d-ddaa-4e43-8512-570af1e622e0",
   "metadata": {},
   "outputs": [
    {
     "name": "stdout",
     "output_type": "stream",
     "text": [
      "[(1, 2), (12, 4), (-1, 6), (7, 8)]\n",
      "[(1, 2), (-1, 6), (7, 8), (12, 4)]\n"
     ]
    }
   ],
   "source": [
    "point2D = [(1,2),(12,4),(-1,6),(7,8)]\n",
    "point2d_sorted = sorted(point2D, key = lambda x: x[0] +x[1])\n",
    "print(point2D)\n",
    "print(point2d_sorted)"
   ]
  },
  {
   "cell_type": "code",
   "execution_count": 33,
   "id": "1c9dda6a-701f-4bd3-8164-ffc38738ef32",
   "metadata": {},
   "outputs": [
    {
     "name": "stdout",
     "output_type": "stream",
     "text": [
      "[2, 4]\n"
     ]
    }
   ],
   "source": [
    "a = [1,2,3,4,5]\n",
    "b= filter(lambda x : x%2==0, a)\n",
    "print(list(b))"
   ]
  },
  {
   "cell_type": "code",
   "execution_count": null,
   "id": "1a527a24-47c1-43c8-942e-8d1ffbc741fb",
   "metadata": {},
   "outputs": [],
   "source": []
  }
 ],
 "metadata": {
  "kernelspec": {
   "display_name": "Python 3 (ipykernel)",
   "language": "python",
   "name": "python3"
  },
  "language_info": {
   "codemirror_mode": {
    "name": "ipython",
    "version": 3
   },
   "file_extension": ".py",
   "mimetype": "text/x-python",
   "name": "python",
   "nbconvert_exporter": "python",
   "pygments_lexer": "ipython3",
   "version": "3.12.7"
  }
 },
 "nbformat": 4,
 "nbformat_minor": 5
}
