{
 "cells": [
  {
   "cell_type": "markdown",
   "id": "6148f98b-f149-44a7-af46-1754528bd2a8",
   "metadata": {},
   "source": [
    "# data type\n",
    "- interger\n",
    "- float \n",
    "- string \n",
    "- boolen\n",
    "- complex conjucate "
   ]
  },
  {
   "cell_type": "markdown",
   "id": "fc9299b3-2c1d-43a5-9c9d-e1bbb050b2b1",
   "metadata": {},
   "source": [
    "$integer$"
   ]
  },
  {
   "cell_type": "code",
   "execution_count": 5,
   "id": "190641b6-9727-40c7-a6d2-c8193c198186",
   "metadata": {},
   "outputs": [
    {
     "data": {
      "text/plain": [
       "100"
      ]
     },
     "execution_count": 5,
     "metadata": {},
     "output_type": "execute_result"
    }
   ],
   "source": [
    "number = 100\n",
    "number\n"
   ]
  },
  {
   "cell_type": "code",
   "execution_count": 7,
   "id": "79d5fb9f-e2d0-45cd-affc-d8ab206b9b38",
   "metadata": {},
   "outputs": [
    {
     "data": {
      "text/plain": [
       "int"
      ]
     },
     "execution_count": 7,
     "metadata": {},
     "output_type": "execute_result"
    }
   ],
   "source": [
    "type(number)"
   ]
  },
  {
   "cell_type": "markdown",
   "id": "5e932ee7-10a6-4a47-bdc7-f1f9b7a454dd",
   "metadata": {},
   "source": [
    "# in maths we have different number system \n",
    "- decimal \n",
    "- binary \n",
    "- octa  \n",
    "- hexa "
   ]
  },
  {
   "cell_type": "markdown",
   "id": "143e27d7-6323-4b60-bfc3-84333605fe23",
   "metadata": {},
   "source": [
    "**Binary**\n",
    " - Bi means 2\n",
    " -  so base is also 2\n",
    " - 0 1 2 3 4 5 6 7 8 9 \n",
    " - here we only use two digit : 0 and 1 \n",
    " - represntation is : 0b<combination of 0 amd 1>\n",
    " - 0b110, 0B011101"
   ]
  },
  {
   "cell_type": "code",
   "execution_count": 16,
   "id": "b984b54b-2977-46eb-91be-8328c93dfc45",
   "metadata": {},
   "outputs": [
    {
     "data": {
      "text/plain": [
       "30"
      ]
     },
     "execution_count": 16,
     "metadata": {},
     "output_type": "execute_result"
    }
   ],
   "source": [
    "0b11110"
   ]
  },
  {
   "cell_type": "code",
   "execution_count": 18,
   "id": "bbb41df0-87e6-49ff-9e32-94110113076b",
   "metadata": {},
   "outputs": [
    {
     "data": {
      "text/plain": [
       "30"
      ]
     },
     "execution_count": 18,
     "metadata": {},
     "output_type": "execute_result"
    }
   ],
   "source": [
    "0B11110"
   ]
  },
  {
   "cell_type": "markdown",
   "id": "91b15aeb-a71b-47bc-bcf5-f8f95a08b3e6",
   "metadata": {},
   "source": [
    "**octa**\n",
    "- octa means 8 \n",
    "- so the base is alos 8\n",
    "-here we use only 8  digit from 0 to 7\n",
    "- reperesnatation is 0o<combination of 0 to 7>\n",
    "- 0o3413, 0o213\n",
    "    "
   ]
  },
  {
   "cell_type": "markdown",
   "id": "53ac678e-f321-4b91-99c5-8ec07877abbd",
   "metadata": {},
   "source": [
    "**hexa**\n",
    "- hexa means 16 so the base is also 16\n",
    "- 0,1,2,3,4,5,6,7,8,9,A,B,C,D,E,F\n",
    "- here we use only 16 digits : (0 to 9 and A to F)\n",
    "- represnetation is  : 0x< combination of  0 to 9 and A to F)\n",
    "- 0xabc, 0xee341"
   ]
  },
  {
   "cell_type": "markdown",
   "id": "49f1d98c-7163-40e8-a565-4dde4e626fb5",
   "metadata": {},
   "source": [
    "$float$"
   ]
  },
  {
   "cell_type": "code",
   "execution_count": 27,
   "id": "6a5ebf88-d4f6-4028-b99c-38a02bd0ca42",
   "metadata": {},
   "outputs": [
    {
     "data": {
      "text/plain": [
       "1233.34"
      ]
     },
     "execution_count": 27,
     "metadata": {},
     "output_type": "execute_result"
    }
   ],
   "source": [
    "number = 1233.34\n",
    "number"
   ]
  },
  {
   "cell_type": "code",
   "execution_count": 29,
   "id": "deb56c43-a940-458d-b6e1-99128e97179c",
   "metadata": {},
   "outputs": [
    {
     "data": {
      "text/plain": [
       "float"
      ]
     },
     "execution_count": 29,
     "metadata": {},
     "output_type": "execute_result"
    }
   ],
   "source": [
    "type(number)"
   ]
  },
  {
   "cell_type": "markdown",
   "id": "84c5f625-e897-45dd-a1cb-9943190038a4",
   "metadata": {},
   "source": [
    "$Strings$"
   ]
  },
  {
   "cell_type": "code",
   "execution_count": 38,
   "id": "f1f8ced6-e139-42f6-9b83-4abfe633671b",
   "metadata": {},
   "outputs": [],
   "source": [
    "name = 'python'"
   ]
  },
  {
   "cell_type": "code",
   "execution_count": 41,
   "id": "43253c90-fce5-41ea-bd67-90fb87d1b30a",
   "metadata": {},
   "outputs": [
    {
     "data": {
      "text/plain": [
       "str"
      ]
     },
     "execution_count": 41,
     "metadata": {},
     "output_type": "execute_result"
    }
   ],
   "source": [
    "type(name)"
   ]
  },
  {
   "cell_type": "code",
   "execution_count": 43,
   "id": "ec341b68-9006-41e9-bfa1-dc8dce4a15a1",
   "metadata": {},
   "outputs": [],
   "source": [
    "name= '''hi \n",
    "how are you'''"
   ]
  },
  {
   "cell_type": "code",
   "execution_count": 45,
   "id": "fb29b6f8-6c2c-42f9-8aeb-bedddcc0517e",
   "metadata": {},
   "outputs": [
    {
     "data": {
      "text/plain": [
       "'hi \\nhow are you'"
      ]
     },
     "execution_count": 45,
     "metadata": {},
     "output_type": "execute_result"
    }
   ],
   "source": [
    "name"
   ]
  },
  {
   "cell_type": "markdown",
   "id": "6dc8c9f0-43ef-491d-a39e-a156c5f4e71f",
   "metadata": {},
   "source": [
    "# whenever you want to have a multiline then you have to use triple quote that is  called docstring"
   ]
  },
  {
   "cell_type": "markdown",
   "id": "2dc6b2a6-96ed-41ef-b4e4-0c3213575bd3",
   "metadata": {},
   "source": [
    "$boolen$"
   ]
  },
  {
   "cell_type": "markdown",
   "id": "52b276c5-8900-4e26-9b90-cc771c368fc0",
   "metadata": {},
   "source": [
    "value = False\n",
    "value"
   ]
  },
  {
   "cell_type": "markdown",
   "id": "e8b33a12-e2dd-42a8-b0f6-529a1b71ddc2",
   "metadata": {},
   "source": [
    "type(value)"
   ]
  },
  {
   "cell_type": "markdown",
   "id": "49ab8104-cf5d-46a6-ab4b-445cf53a380e",
   "metadata": {},
   "source": [
    "it give the type"
   ]
  },
  {
   "cell_type": "markdown",
   "id": "b42f3f1f-5840-4570-94ac-55579597770d",
   "metadata": {},
   "source": [
    "**complex-conjucate**"
   ]
  },
  {
   "cell_type": "markdown",
   "id": "205c825c-3272-4da3-81b8-0063e6b42636",
   "metadata": {},
   "source": [
    "-  a+jb or a+ ib\n",
    "- where a is real number\n",
    "- b= imiginary number\n",
    "- i = sqrt"
   ]
  },
  {
   "cell_type": "code",
   "execution_count": 20,
   "id": "878826e4-f336-4437-95b3-de23fa476232",
   "metadata": {},
   "outputs": [
    {
     "data": {
      "text/plain": [
       "(3+5j)"
      ]
     },
     "execution_count": 20,
     "metadata": {},
     "output_type": "execute_result"
    }
   ],
   "source": [
    "number = 3+5J\n",
    "number"
   ]
  },
  {
   "cell_type": "code",
   "execution_count": 24,
   "id": "baa5e77c-b37b-4dae-a25c-ab5eef8b851e",
   "metadata": {},
   "outputs": [
    {
     "data": {
      "text/plain": [
       "complex"
      ]
     },
     "execution_count": 24,
     "metadata": {},
     "output_type": "execute_result"
    }
   ],
   "source": [
    "type(number)"
   ]
  },
  {
   "cell_type": "code",
   "execution_count": 32,
   "id": "369d724a-a6f8-42c9-9423-c6c427bff427",
   "metadata": {},
   "outputs": [
    {
     "data": {
      "text/plain": [
       "['__abs__',\n",
       " '__add__',\n",
       " '__bool__',\n",
       " '__class__',\n",
       " '__complex__',\n",
       " '__delattr__',\n",
       " '__dir__',\n",
       " '__doc__',\n",
       " '__eq__',\n",
       " '__format__',\n",
       " '__ge__',\n",
       " '__getattribute__',\n",
       " '__getnewargs__',\n",
       " '__getstate__',\n",
       " '__gt__',\n",
       " '__hash__',\n",
       " '__init__',\n",
       " '__init_subclass__',\n",
       " '__le__',\n",
       " '__lt__',\n",
       " '__mul__',\n",
       " '__ne__',\n",
       " '__neg__',\n",
       " '__new__',\n",
       " '__pos__',\n",
       " '__pow__',\n",
       " '__radd__',\n",
       " '__reduce__',\n",
       " '__reduce_ex__',\n",
       " '__repr__',\n",
       " '__rmul__',\n",
       " '__rpow__',\n",
       " '__rsub__',\n",
       " '__rtruediv__',\n",
       " '__setattr__',\n",
       " '__sizeof__',\n",
       " '__str__',\n",
       " '__sub__',\n",
       " '__subclasshook__',\n",
       " '__truediv__',\n",
       " 'conjugate',\n",
       " 'imag',\n",
       " 'real']"
      ]
     },
     "execution_count": 32,
     "metadata": {},
     "output_type": "execute_result"
    }
   ],
   "source": [
    "number = 6+5j\n",
    "dir(number)"
   ]
  },
  {
   "cell_type": "code",
   "execution_count": 34,
   "id": "298c4ac2-93a1-4559-bd80-340f36df6d59",
   "metadata": {},
   "outputs": [
    {
     "data": {
      "text/plain": [
       "(6-5j)"
      ]
     },
     "execution_count": 34,
     "metadata": {},
     "output_type": "execute_result"
    }
   ],
   "source": [
    "number.conjugate()"
   ]
  },
  {
   "cell_type": "code",
   "execution_count": 36,
   "id": "ab72f1b6-91c1-49a0-b541-d280e1620b17",
   "metadata": {},
   "outputs": [
    {
     "data": {
      "text/plain": [
       "5.0"
      ]
     },
     "execution_count": 36,
     "metadata": {},
     "output_type": "execute_result"
    }
   ],
   "source": [
    "number.imag"
   ]
  },
  {
   "cell_type": "code",
   "execution_count": 38,
   "id": "af769e6d-1b58-4129-b56d-eb011766f3ef",
   "metadata": {},
   "outputs": [
    {
     "data": {
      "text/plain": [
       "(4+8j)"
      ]
     },
     "execution_count": 38,
     "metadata": {},
     "output_type": "execute_result"
    }
   ],
   "source": [
    "complex(4,8)"
   ]
  },
  {
   "cell_type": "code",
   "execution_count": 40,
   "id": "63ed8e92-8f14-4cb8-86fd-6ab2c4f297eb",
   "metadata": {},
   "outputs": [
    {
     "data": {
      "text/plain": [
       "0j"
      ]
     },
     "execution_count": 40,
     "metadata": {},
     "output_type": "execute_result"
    }
   ],
   "source": [
    "complex()"
   ]
  },
  {
   "cell_type": "code",
   "execution_count": null,
   "id": "91198d90-fc4c-416c-a0a3-c56cc2b2b118",
   "metadata": {},
   "outputs": [],
   "source": [
    "  "
   ]
  }
 ],
 "metadata": {
  "kernelspec": {
   "display_name": "Python 3 (ipykernel)",
   "language": "python",
   "name": "python3"
  },
  "language_info": {
   "codemirror_mode": {
    "name": "ipython",
    "version": 3
   },
   "file_extension": ".py",
   "mimetype": "text/x-python",
   "name": "python",
   "nbconvert_exporter": "python",
   "pygments_lexer": "ipython3",
   "version": "3.12.7"
  }
 },
 "nbformat": 4,
 "nbformat_minor": 5
}
