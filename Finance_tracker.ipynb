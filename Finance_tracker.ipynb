{
 "cells": [
  {
   "cell_type": "code",
   "execution_count": 7,
   "id": "8cb8e1b0-3fa0-4484-8049-081be9bbae95",
   "metadata": {},
   "outputs": [
    {
     "name": "stdout",
     "output_type": "stream",
     "text": [
      "\n",
      "📊 Personal Finance Tracker\n",
      "1️⃣ Add Income\n",
      "2️⃣ Add Expense\n",
      "3️⃣ Show Summary\n",
      "4️⃣ Show Expenses by Category\n",
      "5️⃣ Exit\n"
     ]
    },
    {
     "name": "stdin",
     "output_type": "stream",
     "text": [
      "Select an option:  3\n"
     ]
    },
    {
     "name": "stdout",
     "output_type": "stream",
     "text": [
      "No transactions found!\n",
      "\n",
      "📊 Personal Finance Tracker\n",
      "1️⃣ Add Income\n",
      "2️⃣ Add Expense\n",
      "3️⃣ Show Summary\n",
      "4️⃣ Show Expenses by Category\n",
      "5️⃣ Exit\n"
     ]
    },
    {
     "name": "stdin",
     "output_type": "stream",
     "text": [
      "Select an option:  5\n"
     ]
    },
    {
     "name": "stdout",
     "output_type": "stream",
     "text": [
      "Goodbye!\n"
     ]
    }
   ],
   "source": [
    "##### from datetime import datetime\n",
    "\n",
    "FILE_NAME = \"finance.txt\"  # File to store transactions\n",
    "\n",
    "# Function to add a transaction\n",
    "def add_transaction(transaction_type, amount, category):\n",
    "    date = datetime.now().strftime(\"%Y-%m-%d\")\n",
    "    with open(FILE_NAME, \"a\") as file:\n",
    "        file.write(f\"{transaction_type},{amount},{category},{date}\\n\")\n",
    "    print(f\"{transaction_type.capitalize()} of ${amount} added under {category}.\")\n",
    "\n",
    "# Function to calculate total income, expenses, and balance\n",
    "def calculate_summary():\n",
    "    income, expenses = 0, 0\n",
    "    try:\n",
    "        with open(FILE_NAME, \"r\") as file:\n",
    "            for line in file:\n",
    "                transaction_type, amount, _, _ = line.strip().split(\",\")\n",
    "                amount = float(amount)\n",
    "                if transaction_type == \"income\":\n",
    "                    income += amount\n",
    "                elif transaction_type == \"expense\":\n",
    "                    expenses += amount\n",
    "    except FileNotFoundError:\n",
    "        print(\"No transactions found!\")\n",
    "        return\n",
    "\n",
    "    balance = income - expenses\n",
    "    print(\"\\n📊 Financial Summary:\")\n",
    "    print(f\"💰 Total Income: ${income}\")\n",
    "    print(f\"💸 Total Expenses: ${expenses}\")\n",
    "    print(f\"💵 Remaining Balance: ${balance}\")\n",
    "\n",
    "# Function to display expenses by category\n",
    "def expenses_by_category():\n",
    "    categories = {}\n",
    "    try:\n",
    "        with open(FILE_NAME, \"r\") as file:\n",
    "            for line in file:\n",
    "                transaction_type, amount, category, _ = line.strip().split(\",\")\n",
    "                if transaction_type == \"expense\":\n",
    "                    amount = float(amount)\n",
    "                    categories[category] = categories.get(category, 0) + amount\n",
    "    except FileNotFoundError:\n",
    "        print(\"No transactions found!\")\n",
    "        return\n",
    "\n",
    "    print(\"\\n📌 Expenses by Category:\")\n",
    "    for category, amount in categories.items():\n",
    "        print(f\"{category}: ${amount}\")\n",
    "\n",
    "# CLI menu for user interaction\n",
    "def menu():\n",
    "    while True:\n",
    "        print(\"\\n📊 Personal Finance Tracker\")\n",
    "        print(\"1️⃣ Add Income\")\n",
    "        print(\"2️⃣ Add Expense\")\n",
    "        print(\"3️⃣ Show Summary\")\n",
    "        print(\"4️⃣ Show Expenses by Category\")\n",
    "        print(\"5️⃣ Exit\")\n",
    "        choice = input(\"Select an option: \")\n",
    "\n",
    "        if choice == \"1\":\n",
    "            amount = float(input(\"Enter income amount: \"))\n",
    "            category = input(\"Enter source (Salary, Freelance, etc.): \")\n",
    "            add_transaction(\"income\", amount, category)\n",
    "        elif choice == \"2\":\n",
    "            amount = float(input(\"Enter expense amount: \"))\n",
    "            category = input(\"Enter category (Food, Rent, etc.): \")\n",
    "            add_transaction(\"expense\", amount, category)\n",
    "        elif choice == \"3\":\n",
    "            calculate_summary()\n",
    "        elif choice == \"4\":\n",
    "            expenses_by_category()\n",
    "        elif choice == \"5\":\n",
    "            print(\"Goodbye!\")\n",
    "            break\n",
    "        else:\n",
    "            print(\"Invalid option. Try again!\")\n",
    "\n",
    "# Run the menu\n",
    "menu()\n"
   ]
  },
  {
   "cell_type": "code",
   "execution_count": null,
   "id": "1de11d2e-22e8-4c0b-8d18-3c3b0653e8ed",
   "metadata": {},
   "outputs": [],
   "source": []
  }
 ],
 "metadata": {
  "kernelspec": {
   "display_name": "Python 3 (ipykernel)",
   "language": "python",
   "name": "python3"
  },
  "language_info": {
   "codemirror_mode": {
    "name": "ipython",
    "version": 3
   },
   "file_extension": ".py",
   "mimetype": "text/x-python",
   "name": "python",
   "nbconvert_exporter": "python",
   "pygments_lexer": "ipython3",
   "version": "3.12.7"
  }
 },
 "nbformat": 4,
 "nbformat_minor": 5
}
