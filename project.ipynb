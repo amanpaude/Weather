{
 "cells": [
  {
   "cell_type": "code",
   "execution_count": null,
   "id": "c4c55f2c-193d-4ffc-8c48-f32a7f6b709b",
   "metadata": {},
   "outputs": [],
   "source": [
    "MAX_LINE= 3"
   ]
  },
  {
   "cell_type": "code",
   "execution_count": null,
   "id": "2d48f481-be4b-44c2-99dc-fc2e9f010e2b",
   "metadata": {},
   "outputs": [
    {
     "name": "stdin",
     "output_type": "stream",
     "text": [
      "What much would you like to deposit? $ cas\n"
     ]
    },
    {
     "name": "stdout",
     "output_type": "stream",
     "text": [
      "Please enter a number\n"
     ]
    },
    {
     "name": "stdin",
     "output_type": "stream",
     "text": [
      "What much would you like to deposit? $ sad\n"
     ]
    },
    {
     "name": "stdout",
     "output_type": "stream",
     "text": [
      "Please enter a number\n"
     ]
    },
    {
     "name": "stdin",
     "output_type": "stream",
     "text": [
      "What much would you like to deposit? $ -32\n"
     ]
    },
    {
     "name": "stdout",
     "output_type": "stream",
     "text": [
      "Please enter a number\n"
     ]
    },
    {
     "name": "stdin",
     "output_type": "stream",
     "text": [
      "What much would you like to deposit? $ 0\n"
     ]
    },
    {
     "name": "stdout",
     "output_type": "stream",
     "text": [
      "Amount must be greater than 0\n"
     ]
    }
   ],
   "source": [
    "def deposit():\n",
    "    while True:\n",
    "        amount = input(\"What much would you like to deposit? $\")\n",
    "        if amount.isdigit():\n",
    "            amount = int(amount)\n",
    "            if amount>0:\n",
    "                break\n",
    "            else:\n",
    "                print('Amount must be greater than 0')\n",
    "        else:\n",
    "            print('Please enter a number')\n",
    "        \n",
    "    return amount\n",
    "\n",
    "deposit()\n"
   ]
  },
  {
   "cell_type": "code",
   "execution_count": null,
   "id": "4467aa7f-f752-4280-80a3-97383937c761",
   "metadata": {},
   "outputs": [],
   "source": [
    "def number_number_of_lines():\n",
    "    while True:\n",
    "        line = input(\"ENTER THE NUMBER OF LINE? $\")\n",
    "        if line.isdigit():\n",
    "            amount = int(amount)\n",
    "            if line<1< MAX_LINE:\n",
    "                break\n",
    "            else:\n",
    "                print('Amount must be greater than 0')\n",
    "        else:\n",
    "            print('Please enter a number')\n",
    "        \n",
    "    return amount\n",
    "\n",
    "deposit()"
   ]
  },
  {
   "cell_type": "code",
   "execution_count": null,
   "id": "c3015bbf-57a9-4e2e-81c6-168a8dd2fd17",
   "metadata": {},
   "outputs": [],
   "source": [
    "def main():\n",
    "    balance = deposit()\n",
    "\n",
    "\n"
   ]
  },
  {
   "cell_type": "code",
   "execution_count": null,
   "id": "fdc7f73a-6cac-4872-b755-f62c9e0bf9c4",
   "metadata": {},
   "outputs": [],
   "source": []
  }
 ],
 "metadata": {
  "kernelspec": {
   "display_name": "Python 3 (ipykernel)",
   "language": "python",
   "name": "python3"
  },
  "language_info": {
   "codemirror_mode": {
    "name": "ipython",
    "version": 3
   },
   "file_extension": ".py",
   "mimetype": "text/x-python",
   "name": "python",
   "nbconvert_exporter": "python",
   "pygments_lexer": "ipython3",
   "version": "3.12.7"
  }
 },
 "nbformat": 4,
 "nbformat_minor": 5
}
