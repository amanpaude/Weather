{
 "cells": [
  {
   "cell_type": "code",
   "execution_count": 30,
   "id": "9fef894a-55d9-4ef6-a9c8-4cea20aebfab",
   "metadata": {},
   "outputs": [
    {
     "name": "stdin",
     "output_type": "stream",
     "text": [
      "enter the password length: 4\n"
     ]
    },
    {
     "name": "stdout",
     "output_type": "stream",
     "text": [
      "Generted password: pRcgH6LR\n"
     ]
    }
   ],
   "source": [
    "import random \n",
    "import string\n",
    "def generate_pass(length=8):\n",
    "    characters = string.ascii_letters + string.digits + string.punctuation\n",
    "    password = ''.join(random.choice(characters) for _ in range(8))\n",
    "    return password;\n",
    "\n",
    "length = int(input('enter the password length:'));\n",
    "print('Generted password:', generate_pass(length))\n"
   ]
  },
  {
   "cell_type": "code",
   "execution_count": 36,
   "id": "f1f3b970-3e89-4be2-bcae-7b9d2364e35d",
   "metadata": {},
   "outputs": [
    {
     "name": "stdout",
     "output_type": "stream",
     "text": [
      "hello aman\n"
     ]
    }
   ],
   "source": [
    "a = 'hello'\n",
    "b = 'aman'\n",
    "print(a+ ' '+b)"
   ]
  },
  {
   "cell_type": "code",
   "execution_count": null,
   "id": "6766a98c-2294-421b-a15b-d3958c902ed8",
   "metadata": {},
   "outputs": [],
   "source": []
  }
 ],
 "metadata": {
  "kernelspec": {
   "display_name": "Python 3 (ipykernel)",
   "language": "python",
   "name": "python3"
  },
  "language_info": {
   "codemirror_mode": {
    "name": "ipython",
    "version": 3
   },
   "file_extension": ".py",
   "mimetype": "text/x-python",
   "name": "python",
   "nbconvert_exporter": "python",
   "pygments_lexer": "ipython3",
   "version": "3.12.7"
  }
 },
 "nbformat": 4,
 "nbformat_minor": 5
}
