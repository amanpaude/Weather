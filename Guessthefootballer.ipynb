{
 "cells": [
  {
   "cell_type": "code",
   "execution_count": 24,
   "id": "6b014a23-cf26-4e79-b640-2729168ad260",
   "metadata": {},
   "outputs": [
    {
     "ename": "AttributeError",
     "evalue": "module 'random' has no attribute 'players'",
     "output_type": "error",
     "traceback": [
      "\u001b[1;31m---------------------------------------------------------------------------\u001b[0m",
      "\u001b[1;31mAttributeError\u001b[0m                            Traceback (most recent call last)",
      "Cell \u001b[1;32mIn[24], line 25\u001b[0m\n\u001b[0;32m      1\u001b[0m \u001b[38;5;28;01mimport\u001b[39;00m \u001b[38;5;21;01mrandom\u001b[39;00m\n\u001b[0;32m      2\u001b[0m players \u001b[38;5;241m=\u001b[39m [\n\u001b[0;32m      3\u001b[0m     {\n\u001b[0;32m      4\u001b[0m         \u001b[38;5;124m'\u001b[39m\u001b[38;5;124mname\u001b[39m\u001b[38;5;124m'\u001b[39m: \u001b[38;5;124m'\u001b[39m\u001b[38;5;124mLionel Messi\u001b[39m\u001b[38;5;124m'\u001b[39m,\n\u001b[1;32m   (...)\u001b[0m\n\u001b[0;32m     22\u001b[0m         ]\n\u001b[0;32m     23\u001b[0m     }]\n\u001b[1;32m---> 25\u001b[0m \u001b[38;5;28mprint\u001b[39m(random\u001b[38;5;241m.\u001b[39mplayers((players[\u001b[38;5;241m0\u001b[39m])))\n",
      "\u001b[1;31mAttributeError\u001b[0m: module 'random' has no attribute 'players'"
     ]
    }
   ],
   "source": [
    "import random\n",
    "players = [\n",
    "    {\n",
    "        'name': 'Lionel Messi',\n",
    "        'hints': [\n",
    "            'He is a two-time World Cup winner',\n",
    "            'He is the legend of Barcelona',\n",
    "            'He currently plays outside Europe'\n",
    "        ]},\n",
    "    { \n",
    "        'name': 'Joao Felix',\n",
    "        'hints':[\n",
    "            'He is currently at the italian club',\n",
    "            'He is one time golden boy winner',\n",
    "            'He played two laliga club'\n",
    "        ]},\n",
    "        {'name': 'Dani olmo',\n",
    "        'hints':[\n",
    "            'He is euro winner',\n",
    "            'He is a la masia product',\n",
    "            'He played for the german club',\n",
    "        ]\n",
    "    }]\n",
    "\n",
    "print(random.players((players[0])))\n",
    "\n"
   ]
  },
  {
   "cell_type": "code",
   "execution_count": null,
   "id": "4699ab4f-9d65-419c-ab98-cf2de5059bde",
   "metadata": {},
   "outputs": [],
   "source": []
  },
  {
   "cell_type": "code",
   "execution_count": null,
   "id": "7425a673-26fa-4f68-9522-079dc80e40e1",
   "metadata": {},
   "outputs": [],
   "source": []
  }
 ],
 "metadata": {
  "kernelspec": {
   "display_name": "Python 3 (ipykernel)",
   "language": "python",
   "name": "python3"
  },
  "language_info": {
   "codemirror_mode": {
    "name": "ipython",
    "version": 3
   },
   "file_extension": ".py",
   "mimetype": "text/x-python",
   "name": "python",
   "nbconvert_exporter": "python",
   "pygments_lexer": "ipython3",
   "version": "3.12.7"
  }
 },
 "nbformat": 4,
 "nbformat_minor": 5
}
