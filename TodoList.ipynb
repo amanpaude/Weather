{
 "cells": [
  {
   "cell_type": "code",
   "execution_count": 19,
   "id": "2e8f73ac-51ec-4fa8-af4e-84d17721193a",
   "metadata": {},
   "outputs": [
    {
     "ename": "SyntaxError",
     "evalue": "unterminated string literal (detected at line 3) (1706378676.py, line 3)",
     "output_type": "error",
     "traceback": [
      "\u001b[1;36m  Cell \u001b[1;32mIn[19], line 3\u001b[1;36m\u001b[0m\n\u001b[1;33m    a=eval(input('1. Enter a new task /n\u001b[0m\n\u001b[1;37m                 ^\u001b[0m\n\u001b[1;31mSyntaxError\u001b[0m\u001b[1;31m:\u001b[0m unterminated string literal (detected at line 3)\n"
     ]
    }
   ],
   "source": [
    "print(\"Welcome to the to do list program\")\n",
    "   \n",
    "a=eval(input('1. Enter a new task /n \n",
    "2.view all the task/n \n",
    "3. Update a task/n \n",
    "4. Mark a task as completed/n \n",
    "5. Delete a task/n6. Exit a program'\n",
    "        \n",
    "        \n",
    "             \n"
   ]
  },
  {
   "cell_type": "code",
   "execution_count": null,
   "id": "50f1c04b-c8a8-469a-b4fe-c4a4eab4785e",
   "metadata": {},
   "outputs": [],
   "source": []
  },
  {
   "cell_type": "code",
   "execution_count": null,
   "id": "2486bdb4-7b07-4469-9487-d012afe4a41d",
   "metadata": {},
   "outputs": [],
   "source": []
  }
 ],
 "metadata": {
  "kernelspec": {
   "display_name": "Python 3 (ipykernel)",
   "language": "python",
   "name": "python3"
  },
  "language_info": {
   "codemirror_mode": {
    "name": "ipython",
    "version": 3
   },
   "file_extension": ".py",
   "mimetype": "text/x-python",
   "name": "python",
   "nbconvert_exporter": "python",
   "pygments_lexer": "ipython3",
   "version": "3.12.7"
  }
 },
 "nbformat": 4,
 "nbformat_minor": 5
}
